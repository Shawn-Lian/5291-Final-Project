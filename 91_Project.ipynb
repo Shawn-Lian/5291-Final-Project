{
  "cells": [
    {
      "cell_type": "markdown",
      "metadata": {
        "id": "Rpe85ghEFaPq"
      },
      "source": [
        "#Random Forest\n",
        "\n",
        "##Import Package"
      ]
    },
    {
      "cell_type": "code",
      "execution_count": null,
      "metadata": {
        "colab": {
          "base_uri": "https://localhost:8080/"
        },
        "id": "0KulampfFZoX",
        "outputId": "fa909954-1602-4252-e88d-8f65757285ac"
      },
      "outputs": [
        {
          "name": "stdout",
          "output_type": "stream",
          "text": [
            "Collecting xlrd==1.2\n",
            "  Downloading xlrd-1.2.0-py2.py3-none-any.whl (103 kB)\n",
            "\u001b[?25l\r\u001b[K     |███▏                            | 10 kB 19.1 MB/s eta 0:00:01\r\u001b[K     |██████▍                         | 20 kB 9.9 MB/s eta 0:00:01\r\u001b[K     |█████████▌                      | 30 kB 6.1 MB/s eta 0:00:01\r\u001b[K     |████████████▊                   | 40 kB 5.6 MB/s eta 0:00:01\r\u001b[K     |███████████████▉                | 51 kB 3.6 MB/s eta 0:00:01\r\u001b[K     |███████████████████             | 61 kB 4.2 MB/s eta 0:00:01\r\u001b[K     |██████████████████████▏         | 71 kB 4.3 MB/s eta 0:00:01\r\u001b[K     |█████████████████████████▍      | 81 kB 4.5 MB/s eta 0:00:01\r\u001b[K     |████████████████████████████▋   | 92 kB 5.0 MB/s eta 0:00:01\r\u001b[K     |███████████████████████████████▊| 102 kB 5.2 MB/s eta 0:00:01\r\u001b[K     |████████████████████████████████| 103 kB 5.2 MB/s \n",
            "\u001b[?25hInstalling collected packages: xlrd\n",
            "  Attempting uninstall: xlrd\n",
            "    Found existing installation: xlrd 1.1.0\n",
            "    Uninstalling xlrd-1.1.0:\n",
            "      Successfully uninstalled xlrd-1.1.0\n",
            "Successfully installed xlrd-1.2.0\n"
          ]
        }
      ],
      "source": [
        "pip install xlrd==1.2"
      ]
    },
    {
      "cell_type": "code",
      "execution_count": null,
      "metadata": {
        "id": "rqSCrrWAF3Ei"
      },
      "outputs": [],
      "source": [
        "import pandas as pd\n",
        "import numpy as np\n",
        "import operator\n",
        "import sklearn\n",
        "from sklearn.model_selection import train_test_split\n",
        "from sklearn.ensemble import RandomForestRegressor\n",
        "from sklearn.metrics import classification_report\n",
        "from numpy.lib.function_base import average"
      ]
    },
    {
      "cell_type": "markdown",
      "metadata": {
        "id": "oJt2Z6-RFnKa"
      },
      "source": [
        "## Data Processing"
      ]
    },
    {
      "cell_type": "code",
      "execution_count": null,
      "metadata": {
        "id": "JtjSg9RyFsM6"
      },
      "outputs": [],
      "source": [
        "df = pd.read_excel('default of credit card clients.xls', header = 1)\n",
        "df.drop(columns = 'ID', inplace = True)"
      ]
    },
    {
      "cell_type": "code",
      "execution_count": null,
      "metadata": {
        "colab": {
          "base_uri": "https://localhost:8080/",
          "height": 636
        },
        "id": "rPCaAqsgjSfU",
        "outputId": "6a19a29b-3d66-4e73-ef89-b464e32645f2"
      },
      "outputs": [
        {
          "name": "stderr",
          "output_type": "stream",
          "text": [
            "/usr/local/lib/python3.7/dist-packages/pandas/core/indexing.py:1817: SettingWithCopyWarning: \n",
            "A value is trying to be set on a copy of a slice from a DataFrame.\n",
            "Try using .loc[row_indexer,col_indexer] = value instead\n",
            "\n",
            "See the caveats in the documentation: https://pandas.pydata.org/pandas-docs/stable/user_guide/indexing.html#returning-a-view-versus-a-copy\n",
            "  self._setitem_single_column(loc, value, pi)\n"
          ]
        },
        {
          "data": {
            "text/html": [
              "\n",
              "  <div id=\"df-6c1216d3-854f-43ca-90b4-f1982b766378\">\n",
              "    <div class=\"colab-df-container\">\n",
              "      <div>\n",
              "<style scoped>\n",
              "    .dataframe tbody tr th:only-of-type {\n",
              "        vertical-align: middle;\n",
              "    }\n",
              "\n",
              "    .dataframe tbody tr th {\n",
              "        vertical-align: top;\n",
              "    }\n",
              "\n",
              "    .dataframe thead th {\n",
              "        text-align: right;\n",
              "    }\n",
              "</style>\n",
              "<table border=\"1\" class=\"dataframe\">\n",
              "  <thead>\n",
              "    <tr style=\"text-align: right;\">\n",
              "      <th></th>\n",
              "      <th>LIMIT_BAL</th>\n",
              "      <th>SEX</th>\n",
              "      <th>EDUCATION</th>\n",
              "      <th>AGE</th>\n",
              "      <th>PAY_0</th>\n",
              "      <th>PAY_2</th>\n",
              "      <th>PAY_3</th>\n",
              "      <th>PAY_4</th>\n",
              "      <th>PAY_5</th>\n",
              "      <th>PAY_6</th>\n",
              "      <th>...</th>\n",
              "      <th>PAY_AMT1</th>\n",
              "      <th>PAY_AMT2</th>\n",
              "      <th>PAY_AMT3</th>\n",
              "      <th>PAY_AMT4</th>\n",
              "      <th>PAY_AMT5</th>\n",
              "      <th>PAY_AMT6</th>\n",
              "      <th>default payment next month</th>\n",
              "      <th>MARRIAGE_married</th>\n",
              "      <th>MARRIAGE_others</th>\n",
              "      <th>MARRIAGE_single</th>\n",
              "    </tr>\n",
              "  </thead>\n",
              "  <tbody>\n",
              "    <tr>\n",
              "      <th>0</th>\n",
              "      <td>20000</td>\n",
              "      <td>2</td>\n",
              "      <td>2</td>\n",
              "      <td>24</td>\n",
              "      <td>2</td>\n",
              "      <td>2</td>\n",
              "      <td>-1</td>\n",
              "      <td>-1</td>\n",
              "      <td>-2</td>\n",
              "      <td>-2</td>\n",
              "      <td>...</td>\n",
              "      <td>0</td>\n",
              "      <td>689</td>\n",
              "      <td>0</td>\n",
              "      <td>0</td>\n",
              "      <td>0</td>\n",
              "      <td>0</td>\n",
              "      <td>1</td>\n",
              "      <td>1</td>\n",
              "      <td>0</td>\n",
              "      <td>0</td>\n",
              "    </tr>\n",
              "    <tr>\n",
              "      <th>1</th>\n",
              "      <td>120000</td>\n",
              "      <td>2</td>\n",
              "      <td>2</td>\n",
              "      <td>26</td>\n",
              "      <td>-1</td>\n",
              "      <td>2</td>\n",
              "      <td>0</td>\n",
              "      <td>0</td>\n",
              "      <td>0</td>\n",
              "      <td>2</td>\n",
              "      <td>...</td>\n",
              "      <td>0</td>\n",
              "      <td>1000</td>\n",
              "      <td>1000</td>\n",
              "      <td>1000</td>\n",
              "      <td>0</td>\n",
              "      <td>2000</td>\n",
              "      <td>1</td>\n",
              "      <td>0</td>\n",
              "      <td>0</td>\n",
              "      <td>1</td>\n",
              "    </tr>\n",
              "    <tr>\n",
              "      <th>2</th>\n",
              "      <td>90000</td>\n",
              "      <td>2</td>\n",
              "      <td>2</td>\n",
              "      <td>34</td>\n",
              "      <td>0</td>\n",
              "      <td>0</td>\n",
              "      <td>0</td>\n",
              "      <td>0</td>\n",
              "      <td>0</td>\n",
              "      <td>0</td>\n",
              "      <td>...</td>\n",
              "      <td>1518</td>\n",
              "      <td>1500</td>\n",
              "      <td>1000</td>\n",
              "      <td>1000</td>\n",
              "      <td>1000</td>\n",
              "      <td>5000</td>\n",
              "      <td>0</td>\n",
              "      <td>0</td>\n",
              "      <td>0</td>\n",
              "      <td>1</td>\n",
              "    </tr>\n",
              "    <tr>\n",
              "      <th>3</th>\n",
              "      <td>50000</td>\n",
              "      <td>2</td>\n",
              "      <td>2</td>\n",
              "      <td>37</td>\n",
              "      <td>0</td>\n",
              "      <td>0</td>\n",
              "      <td>0</td>\n",
              "      <td>0</td>\n",
              "      <td>0</td>\n",
              "      <td>0</td>\n",
              "      <td>...</td>\n",
              "      <td>2000</td>\n",
              "      <td>2019</td>\n",
              "      <td>1200</td>\n",
              "      <td>1100</td>\n",
              "      <td>1069</td>\n",
              "      <td>1000</td>\n",
              "      <td>0</td>\n",
              "      <td>1</td>\n",
              "      <td>0</td>\n",
              "      <td>0</td>\n",
              "    </tr>\n",
              "    <tr>\n",
              "      <th>4</th>\n",
              "      <td>50000</td>\n",
              "      <td>1</td>\n",
              "      <td>2</td>\n",
              "      <td>57</td>\n",
              "      <td>-1</td>\n",
              "      <td>0</td>\n",
              "      <td>-1</td>\n",
              "      <td>0</td>\n",
              "      <td>0</td>\n",
              "      <td>0</td>\n",
              "      <td>...</td>\n",
              "      <td>2000</td>\n",
              "      <td>36681</td>\n",
              "      <td>10000</td>\n",
              "      <td>9000</td>\n",
              "      <td>689</td>\n",
              "      <td>679</td>\n",
              "      <td>0</td>\n",
              "      <td>1</td>\n",
              "      <td>0</td>\n",
              "      <td>0</td>\n",
              "    </tr>\n",
              "    <tr>\n",
              "      <th>...</th>\n",
              "      <td>...</td>\n",
              "      <td>...</td>\n",
              "      <td>...</td>\n",
              "      <td>...</td>\n",
              "      <td>...</td>\n",
              "      <td>...</td>\n",
              "      <td>...</td>\n",
              "      <td>...</td>\n",
              "      <td>...</td>\n",
              "      <td>...</td>\n",
              "      <td>...</td>\n",
              "      <td>...</td>\n",
              "      <td>...</td>\n",
              "      <td>...</td>\n",
              "      <td>...</td>\n",
              "      <td>...</td>\n",
              "      <td>...</td>\n",
              "      <td>...</td>\n",
              "      <td>...</td>\n",
              "      <td>...</td>\n",
              "      <td>...</td>\n",
              "    </tr>\n",
              "    <tr>\n",
              "      <th>29596</th>\n",
              "      <td>220000</td>\n",
              "      <td>1</td>\n",
              "      <td>3</td>\n",
              "      <td>39</td>\n",
              "      <td>0</td>\n",
              "      <td>0</td>\n",
              "      <td>0</td>\n",
              "      <td>0</td>\n",
              "      <td>0</td>\n",
              "      <td>0</td>\n",
              "      <td>...</td>\n",
              "      <td>8500</td>\n",
              "      <td>20000</td>\n",
              "      <td>5003</td>\n",
              "      <td>3047</td>\n",
              "      <td>5000</td>\n",
              "      <td>1000</td>\n",
              "      <td>0</td>\n",
              "      <td>1</td>\n",
              "      <td>0</td>\n",
              "      <td>0</td>\n",
              "    </tr>\n",
              "    <tr>\n",
              "      <th>29597</th>\n",
              "      <td>150000</td>\n",
              "      <td>1</td>\n",
              "      <td>3</td>\n",
              "      <td>43</td>\n",
              "      <td>-1</td>\n",
              "      <td>-1</td>\n",
              "      <td>-1</td>\n",
              "      <td>-1</td>\n",
              "      <td>0</td>\n",
              "      <td>0</td>\n",
              "      <td>...</td>\n",
              "      <td>1837</td>\n",
              "      <td>3526</td>\n",
              "      <td>8998</td>\n",
              "      <td>129</td>\n",
              "      <td>0</td>\n",
              "      <td>0</td>\n",
              "      <td>0</td>\n",
              "      <td>0</td>\n",
              "      <td>0</td>\n",
              "      <td>1</td>\n",
              "    </tr>\n",
              "    <tr>\n",
              "      <th>29598</th>\n",
              "      <td>30000</td>\n",
              "      <td>1</td>\n",
              "      <td>2</td>\n",
              "      <td>37</td>\n",
              "      <td>4</td>\n",
              "      <td>3</td>\n",
              "      <td>2</td>\n",
              "      <td>-1</td>\n",
              "      <td>0</td>\n",
              "      <td>0</td>\n",
              "      <td>...</td>\n",
              "      <td>0</td>\n",
              "      <td>0</td>\n",
              "      <td>22000</td>\n",
              "      <td>4200</td>\n",
              "      <td>2000</td>\n",
              "      <td>3100</td>\n",
              "      <td>1</td>\n",
              "      <td>0</td>\n",
              "      <td>0</td>\n",
              "      <td>1</td>\n",
              "    </tr>\n",
              "    <tr>\n",
              "      <th>29599</th>\n",
              "      <td>80000</td>\n",
              "      <td>1</td>\n",
              "      <td>3</td>\n",
              "      <td>41</td>\n",
              "      <td>1</td>\n",
              "      <td>-1</td>\n",
              "      <td>0</td>\n",
              "      <td>0</td>\n",
              "      <td>0</td>\n",
              "      <td>-1</td>\n",
              "      <td>...</td>\n",
              "      <td>85900</td>\n",
              "      <td>3409</td>\n",
              "      <td>1178</td>\n",
              "      <td>1926</td>\n",
              "      <td>52964</td>\n",
              "      <td>1804</td>\n",
              "      <td>1</td>\n",
              "      <td>1</td>\n",
              "      <td>0</td>\n",
              "      <td>0</td>\n",
              "    </tr>\n",
              "    <tr>\n",
              "      <th>29600</th>\n",
              "      <td>50000</td>\n",
              "      <td>1</td>\n",
              "      <td>2</td>\n",
              "      <td>46</td>\n",
              "      <td>0</td>\n",
              "      <td>0</td>\n",
              "      <td>0</td>\n",
              "      <td>0</td>\n",
              "      <td>0</td>\n",
              "      <td>0</td>\n",
              "      <td>...</td>\n",
              "      <td>2078</td>\n",
              "      <td>1800</td>\n",
              "      <td>1430</td>\n",
              "      <td>1000</td>\n",
              "      <td>1000</td>\n",
              "      <td>1000</td>\n",
              "      <td>1</td>\n",
              "      <td>1</td>\n",
              "      <td>0</td>\n",
              "      <td>0</td>\n",
              "    </tr>\n",
              "  </tbody>\n",
              "</table>\n",
              "<p>29601 rows × 26 columns</p>\n",
              "</div>\n",
              "      <button class=\"colab-df-convert\" onclick=\"convertToInteractive('df-6c1216d3-854f-43ca-90b4-f1982b766378')\"\n",
              "              title=\"Convert this dataframe to an interactive table.\"\n",
              "              style=\"display:none;\">\n",
              "        \n",
              "  <svg xmlns=\"http://www.w3.org/2000/svg\" height=\"24px\"viewBox=\"0 0 24 24\"\n",
              "       width=\"24px\">\n",
              "    <path d=\"M0 0h24v24H0V0z\" fill=\"none\"/>\n",
              "    <path d=\"M18.56 5.44l.94 2.06.94-2.06 2.06-.94-2.06-.94-.94-2.06-.94 2.06-2.06.94zm-11 1L8.5 8.5l.94-2.06 2.06-.94-2.06-.94L8.5 2.5l-.94 2.06-2.06.94zm10 10l.94 2.06.94-2.06 2.06-.94-2.06-.94-.94-2.06-.94 2.06-2.06.94z\"/><path d=\"M17.41 7.96l-1.37-1.37c-.4-.4-.92-.59-1.43-.59-.52 0-1.04.2-1.43.59L10.3 9.45l-7.72 7.72c-.78.78-.78 2.05 0 2.83L4 21.41c.39.39.9.59 1.41.59.51 0 1.02-.2 1.41-.59l7.78-7.78 2.81-2.81c.8-.78.8-2.07 0-2.86zM5.41 20L4 18.59l7.72-7.72 1.47 1.35L5.41 20z\"/>\n",
              "  </svg>\n",
              "      </button>\n",
              "      \n",
              "  <style>\n",
              "    .colab-df-container {\n",
              "      display:flex;\n",
              "      flex-wrap:wrap;\n",
              "      gap: 12px;\n",
              "    }\n",
              "\n",
              "    .colab-df-convert {\n",
              "      background-color: #E8F0FE;\n",
              "      border: none;\n",
              "      border-radius: 50%;\n",
              "      cursor: pointer;\n",
              "      display: none;\n",
              "      fill: #1967D2;\n",
              "      height: 32px;\n",
              "      padding: 0 0 0 0;\n",
              "      width: 32px;\n",
              "    }\n",
              "\n",
              "    .colab-df-convert:hover {\n",
              "      background-color: #E2EBFA;\n",
              "      box-shadow: 0px 1px 2px rgba(60, 64, 67, 0.3), 0px 1px 3px 1px rgba(60, 64, 67, 0.15);\n",
              "      fill: #174EA6;\n",
              "    }\n",
              "\n",
              "    [theme=dark] .colab-df-convert {\n",
              "      background-color: #3B4455;\n",
              "      fill: #D2E3FC;\n",
              "    }\n",
              "\n",
              "    [theme=dark] .colab-df-convert:hover {\n",
              "      background-color: #434B5C;\n",
              "      box-shadow: 0px 1px 3px 1px rgba(0, 0, 0, 0.15);\n",
              "      filter: drop-shadow(0px 1px 2px rgba(0, 0, 0, 0.3));\n",
              "      fill: #FFFFFF;\n",
              "    }\n",
              "  </style>\n",
              "\n",
              "      <script>\n",
              "        const buttonEl =\n",
              "          document.querySelector('#df-6c1216d3-854f-43ca-90b4-f1982b766378 button.colab-df-convert');\n",
              "        buttonEl.style.display =\n",
              "          google.colab.kernel.accessAllowed ? 'block' : 'none';\n",
              "\n",
              "        async function convertToInteractive(key) {\n",
              "          const element = document.querySelector('#df-6c1216d3-854f-43ca-90b4-f1982b766378');\n",
              "          const dataTable =\n",
              "            await google.colab.kernel.invokeFunction('convertToInteractive',\n",
              "                                                     [key], {});\n",
              "          if (!dataTable) return;\n",
              "\n",
              "          const docLinkHtml = 'Like what you see? Visit the ' +\n",
              "            '<a target=\"_blank\" href=https://colab.research.google.com/notebooks/data_table.ipynb>data table notebook</a>'\n",
              "            + ' to learn more about interactive tables.';\n",
              "          element.innerHTML = '';\n",
              "          dataTable['output_type'] = 'display_data';\n",
              "          await google.colab.output.renderOutput(dataTable, element);\n",
              "          const docLink = document.createElement('div');\n",
              "          docLink.innerHTML = docLinkHtml;\n",
              "          element.appendChild(docLink);\n",
              "        }\n",
              "      </script>\n",
              "    </div>\n",
              "  </div>\n",
              "  "
            ],
            "text/plain": [
              "       LIMIT_BAL  SEX  EDUCATION  AGE  PAY_0  PAY_2  PAY_3  PAY_4  PAY_5  \\\n",
              "0          20000    2          2   24      2      2     -1     -1     -2   \n",
              "1         120000    2          2   26     -1      2      0      0      0   \n",
              "2          90000    2          2   34      0      0      0      0      0   \n",
              "3          50000    2          2   37      0      0      0      0      0   \n",
              "4          50000    1          2   57     -1      0     -1      0      0   \n",
              "...          ...  ...        ...  ...    ...    ...    ...    ...    ...   \n",
              "29596     220000    1          3   39      0      0      0      0      0   \n",
              "29597     150000    1          3   43     -1     -1     -1     -1      0   \n",
              "29598      30000    1          2   37      4      3      2     -1      0   \n",
              "29599      80000    1          3   41      1     -1      0      0      0   \n",
              "29600      50000    1          2   46      0      0      0      0      0   \n",
              "\n",
              "       PAY_6  ...  PAY_AMT1  PAY_AMT2  PAY_AMT3  PAY_AMT4  PAY_AMT5  PAY_AMT6  \\\n",
              "0         -2  ...         0       689         0         0         0         0   \n",
              "1          2  ...         0      1000      1000      1000         0      2000   \n",
              "2          0  ...      1518      1500      1000      1000      1000      5000   \n",
              "3          0  ...      2000      2019      1200      1100      1069      1000   \n",
              "4          0  ...      2000     36681     10000      9000       689       679   \n",
              "...      ...  ...       ...       ...       ...       ...       ...       ...   \n",
              "29596      0  ...      8500     20000      5003      3047      5000      1000   \n",
              "29597      0  ...      1837      3526      8998       129         0         0   \n",
              "29598      0  ...         0         0     22000      4200      2000      3100   \n",
              "29599     -1  ...     85900      3409      1178      1926     52964      1804   \n",
              "29600      0  ...      2078      1800      1430      1000      1000      1000   \n",
              "\n",
              "       default payment next month  MARRIAGE_married  MARRIAGE_others  \\\n",
              "0                               1                 1                0   \n",
              "1                               1                 0                0   \n",
              "2                               0                 0                0   \n",
              "3                               0                 1                0   \n",
              "4                               0                 1                0   \n",
              "...                           ...               ...              ...   \n",
              "29596                           0                 1                0   \n",
              "29597                           0                 0                0   \n",
              "29598                           1                 0                0   \n",
              "29599                           1                 1                0   \n",
              "29600                           1                 1                0   \n",
              "\n",
              "       MARRIAGE_single  \n",
              "0                    0  \n",
              "1                    1  \n",
              "2                    1  \n",
              "3                    0  \n",
              "4                    0  \n",
              "...                ...  \n",
              "29596                0  \n",
              "29597                1  \n",
              "29598                1  \n",
              "29599                0  \n",
              "29600                0  \n",
              "\n",
              "[29601 rows x 26 columns]"
            ]
          },
          "execution_count": 4,
          "metadata": {},
          "output_type": "execute_result"
        }
      ],
      "source": [
        "df = df[np.invert((df[\"EDUCATION\"] == 0) | (df[\"MARRIAGE\"] == 0)\n",
        "                  |(df[\"EDUCATION\"] == 5)|(df[\"EDUCATION\"] == 6))]\n",
        "\n",
        "df.loc[df['MARRIAGE'] == 1,'MARRIAGE'] = 'married'\n",
        "df.loc[df['MARRIAGE'] == 2,'MARRIAGE'] = 'single'\n",
        "df.loc[df['MARRIAGE'] == 3,'MARRIAGE'] = 'others'\n",
        "df.reset_index(drop=True, inplace=True)\n",
        "df = pd.get_dummies(df)\n",
        "df_row = df.shape[0]\n",
        "df_col = df.shape[1]\n",
        "df"
      ]
    },
    {
      "cell_type": "code",
      "execution_count": null,
      "metadata": {
        "id": "NhMrrCss6Rdz"
      },
      "outputs": [],
      "source": [
        "# df = df[np.invert((df[\"EDUCATION\"] == 0) | (df[\"MARRIAGE\"] == 0)\n",
        "#                   |(df[\"EDUCATION\"] == 5)|(df[\"EDUCATION\"] == 6))]\n",
        "\n",
        "# df.loc[df['SEX'] == 1,'SEX'] = 'male'\n",
        "# df.loc[df['SEX'] == 2,'SEX'] = 'female'\n",
        "# df.loc[df['EDUCATION'] == 1,'EDUCATION'] = 'graduate'\n",
        "# df.loc[df['EDUCATION'] == 2,'EDUCATION'] = 'university'\n",
        "# df.loc[df['EDUCATION'] == 3,'EDUCATION'] = 'high'\n",
        "# df.loc[df['EDUCATION'] == 4,'EDUCATION'] = 'others'\n",
        "# df.loc[df['MARRIAGE'] == 1,'MARRIAGE'] = 'married'\n",
        "# df.loc[df['MARRIAGE'] == 2,'MARRIAGE'] = 'single'\n",
        "# df.loc[df['MARRIAGE'] == 3,'MARRIAGE'] = 'others'\n",
        "# df.reset_index(drop=True, inplace=True)\n",
        "# df = pd.get_dummies(df)\n",
        "# df_row = df.shape[0]\n",
        "# df_col = df.shape[1]\n",
        "# df"
      ]
    },
    {
      "cell_type": "markdown",
      "metadata": {
        "id": "Igqc5BxJIX7x"
      },
      "source": [
        "##Data Splitting"
      ]
    },
    {
      "cell_type": "code",
      "execution_count": null,
      "metadata": {
        "id": "k3fdsN7CjZcu"
      },
      "outputs": [],
      "source": [
        "X = df.iloc[:, df.columns != 'default payment next month']\n",
        "y = df.iloc[:, df.columns == 'default payment next month']\n",
        "X_train, X_rem, y_train, y_rem = train_test_split(X, y, test_size=0.2, random_state = 0)\n",
        "X_valid, X_test, y_valid, y_test = train_test_split(X_rem, y_rem, test_size = 0.5, random_state = 0)\n",
        "X_tra_val = np.concatenate((X_train, X_valid), axis = 0)\n",
        "y_tra_val = np.concatenate((y_train, y_valid), axis = 0)\n",
        "\n",
        "X_train = X_train.to_numpy()\n",
        "X_rem = X_rem.to_numpy()\n",
        "X_valid = X_test.to_numpy()\n",
        "X_test = X_test.to_numpy()\n",
        "\n",
        "y_train = y_train.to_numpy()\n",
        "y_rem = y_rem.to_numpy()\n",
        "y_valid = y_test.to_numpy()\n",
        "y_test = y_test.to_numpy()\n",
        "y_tra_val = y_tra_val"
      ]
    },
    {
      "cell_type": "markdown",
      "metadata": {
        "id": "4VHhDOt0Idj_"
      },
      "source": [
        "##Building Model"
      ]
    },
    {
      "cell_type": "code",
      "execution_count": null,
      "metadata": {
        "id": "IKQfZdCdk4aD"
      },
      "outputs": [],
      "source": [
        "def loss(y1, y2):\n",
        "  if type(y2[0]) == np.ndarray:\n",
        "      y2 = y2[0]\n",
        "\n",
        "  y_diff = y1 - y2\n",
        "\n",
        "  soft_accu = 1 - (y1 - y2[0]).mean()\n",
        "  print(\"soft accu:\", soft_accu)\n",
        "\n",
        "  round_y1 = np.where(y1 >= 0.5, 1, 0)\n",
        "  hard_accu = (round_y1 == y2).mean()\n",
        "  print(\"hard accu:\", hard_accu)\n",
        "\n",
        "  return np.linalg.norm(y_diff) / np.sqrt(y_diff.shape[0])"
      ]
    },
    {
      "cell_type": "code",
      "execution_count": null,
      "metadata": {
        "id": "UFrRTK98lYQW"
      },
      "outputs": [],
      "source": [
        "def randonForest(X_tr, X_va, X_tv, X_te, y_tr, y_va, y_tv, y_te):\n",
        "  bestloss = float('inf')\n",
        "  bestalpha = None\n",
        "  bestn_loss = float('inf')\n",
        "  bestn = None\n",
        "  for alpha in range(1,10):\n",
        "    regr = RandomForestRegressor(max_depth=alpha, random_state=0, n_estimators=100)\n",
        "    regr.fit(X_tr, y_tr)\n",
        "    y_va_pred = regr.predict(X_va)\n",
        "    ls = loss(y_va_pred, y_va.T)\n",
        "\n",
        "    print(alpha, ls)\n",
        "    if ls < bestloss:\n",
        "      bestloss = ls\n",
        "      bestalpha = alpha\n",
        "\n",
        "  for n_est in range(1,200):\n",
        "    regr_n = RandomForestRegressor(max_depth=bestalpha, random_state=0, n_estimators=n_est)\n",
        "    regr_n.fit(X_tr, y_tr)\n",
        "    y_va_pred_n = regr_n.predict(X_va)\n",
        "    ls_n = loss(y_va_pred_n, y_va.T)\n",
        "\n",
        "    print(n_est, ls_n)\n",
        "    if ls_n < bestn_loss:\n",
        "      bestn_loss = ls_n\n",
        "      bestn = n_est\n",
        "\n",
        "\n",
        "\n",
        "  print('bestalpha', bestalpha)\n",
        "  print('bestn', bestn)\n",
        "  \n",
        "  regr_best = RandomForestRegressor(max_depth=bestalpha, random_state=0, n_estimators=bestn)\n",
        "  regr_best.fit(X_tv, y_tv)\n",
        "  y_te_pred = regr_best.predict(X_te)\n",
        "  y_te_pred = np.where(y_te_pred >= 0.5, 1, 0)\n",
        "  print(classification_report(y_te, y_te_pred.T))\n",
        "  return average(y_te_pred == y_te.T)\n"
      ]
    },
    {
      "cell_type": "code",
      "execution_count": null,
      "metadata": {
        "colab": {
          "background_save": true,
          "base_uri": "https://localhost:8080/"
        },
        "id": "uJpum88Y3CRE",
        "outputId": "b2706274-cd2f-45fe-e83b-61a0a2770ff7"
      },
      "outputs": [
        {
          "name": "stderr",
          "output_type": "stream",
          "text": [
            "/usr/local/lib/python3.7/dist-packages/ipykernel_launcher.py:8: DataConversionWarning: A column-vector y was passed when a 1d array was expected. Please change the shape of y to (n_samples,), for example using ravel().\n",
            "  \n"
          ]
        },
        {
          "name": "stdout",
          "output_type": "stream",
          "text": [
            "soft accu: 0.7775562133061173\n",
            "hard accu: 0.8237082066869301\n",
            "1 0.3791241743949204\n"
          ]
        },
        {
          "name": "stderr",
          "output_type": "stream",
          "text": [
            "/usr/local/lib/python3.7/dist-packages/ipykernel_launcher.py:8: DataConversionWarning: A column-vector y was passed when a 1d array was expected. Please change the shape of y to (n_samples,), for example using ravel().\n",
            "  \n"
          ]
        },
        {
          "name": "stdout",
          "output_type": "stream",
          "text": [
            "soft accu: 0.7782969446793339\n",
            "hard accu: 0.8250591016548463\n",
            "2 0.36985967126344144\n"
          ]
        },
        {
          "name": "stderr",
          "output_type": "stream",
          "text": [
            "/usr/local/lib/python3.7/dist-packages/ipykernel_launcher.py:8: DataConversionWarning: A column-vector y was passed when a 1d array was expected. Please change the shape of y to (n_samples,), for example using ravel().\n",
            "  \n"
          ]
        },
        {
          "name": "stdout",
          "output_type": "stream",
          "text": [
            "soft accu: 0.7780625901541499\n",
            "hard accu: 0.8280986153326579\n",
            "3 0.3663121970305006\n"
          ]
        },
        {
          "name": "stderr",
          "output_type": "stream",
          "text": [
            "/usr/local/lib/python3.7/dist-packages/ipykernel_launcher.py:8: DataConversionWarning: A column-vector y was passed when a 1d array was expected. Please change the shape of y to (n_samples,), for example using ravel().\n",
            "  \n"
          ]
        },
        {
          "name": "stdout",
          "output_type": "stream",
          "text": [
            "soft accu: 0.7777314133265374\n",
            "hard accu: 0.8274231678486997\n",
            "4 0.3636230367976912\n"
          ]
        },
        {
          "name": "stderr",
          "output_type": "stream",
          "text": [
            "/usr/local/lib/python3.7/dist-packages/ipykernel_launcher.py:8: DataConversionWarning: A column-vector y was passed when a 1d array was expected. Please change the shape of y to (n_samples,), for example using ravel().\n",
            "  \n"
          ]
        },
        {
          "name": "stdout",
          "output_type": "stream",
          "text": [
            "soft accu: 0.7774206616178488\n",
            "hard accu: 0.8277608915906788\n",
            "5 0.3620106782958747\n"
          ]
        },
        {
          "name": "stderr",
          "output_type": "stream",
          "text": [
            "/usr/local/lib/python3.7/dist-packages/ipykernel_launcher.py:8: DataConversionWarning: A column-vector y was passed when a 1d array was expected. Please change the shape of y to (n_samples,), for example using ravel().\n",
            "  \n"
          ]
        },
        {
          "name": "stdout",
          "output_type": "stream",
          "text": [
            "soft accu: 0.7769847744632642\n",
            "hard accu: 0.8270854441067207\n",
            "6 0.3614649040374528\n"
          ]
        },
        {
          "name": "stderr",
          "output_type": "stream",
          "text": [
            "/usr/local/lib/python3.7/dist-packages/ipykernel_launcher.py:8: DataConversionWarning: A column-vector y was passed when a 1d array was expected. Please change the shape of y to (n_samples,), for example using ravel().\n",
            "  \n"
          ]
        },
        {
          "name": "stdout",
          "output_type": "stream",
          "text": [
            "soft accu: 0.7772016293413888\n",
            "hard accu: 0.8294495103005741\n",
            "7 0.3614920225605217\n"
          ]
        },
        {
          "name": "stderr",
          "output_type": "stream",
          "text": [
            "/usr/local/lib/python3.7/dist-packages/ipykernel_launcher.py:8: DataConversionWarning: A column-vector y was passed when a 1d array was expected. Please change the shape of y to (n_samples,), for example using ravel().\n",
            "  \n"
          ]
        },
        {
          "name": "stdout",
          "output_type": "stream",
          "text": [
            "soft accu: 0.7773354606728158\n",
            "hard accu: 0.8277608915906788\n",
            "8 0.361143475280655\n"
          ]
        },
        {
          "name": "stderr",
          "output_type": "stream",
          "text": [
            "/usr/local/lib/python3.7/dist-packages/ipykernel_launcher.py:8: DataConversionWarning: A column-vector y was passed when a 1d array was expected. Please change the shape of y to (n_samples,), for example using ravel().\n",
            "  \n"
          ]
        },
        {
          "name": "stdout",
          "output_type": "stream",
          "text": [
            "soft accu: 0.7776154339637524\n",
            "hard accu: 0.8277608915906788\n",
            "9 0.36136247089440016\n",
            "soft accu: 0.7767412115066904\n",
            "hard accu: 0.8172914555893279\n",
            "1 0.38369725181779396\n"
          ]
        },
        {
          "name": "stderr",
          "output_type": "stream",
          "text": [
            "/usr/local/lib/python3.7/dist-packages/ipykernel_launcher.py:19: DataConversionWarning: A column-vector y was passed when a 1d array was expected. Please change the shape of y to (n_samples,), for example using ravel().\n",
            "/usr/local/lib/python3.7/dist-packages/ipykernel_launcher.py:19: DataConversionWarning: A column-vector y was passed when a 1d array was expected. Please change the shape of y to (n_samples,), for example using ravel().\n"
          ]
        },
        {
          "name": "stdout",
          "output_type": "stream",
          "text": [
            "soft accu: 0.7753847203880975\n",
            "hard accu: 0.8169537318473489\n",
            "2 0.3731437946440496\n"
          ]
        },
        {
          "name": "stderr",
          "output_type": "stream",
          "text": [
            "/usr/local/lib/python3.7/dist-packages/ipykernel_launcher.py:19: DataConversionWarning: A column-vector y was passed when a 1d array was expected. Please change the shape of y to (n_samples,), for example using ravel().\n"
          ]
        },
        {
          "name": "stdout",
          "output_type": "stream",
          "text": [
            "soft accu: 0.7752343049631749\n",
            "hard accu: 0.8193177980412023\n",
            "3 0.36914464200614283\n"
          ]
        },
        {
          "name": "stderr",
          "output_type": "stream",
          "text": [
            "/usr/local/lib/python3.7/dist-packages/ipykernel_launcher.py:19: DataConversionWarning: A column-vector y was passed when a 1d array was expected. Please change the shape of y to (n_samples,), for example using ravel().\n"
          ]
        },
        {
          "name": "stdout",
          "output_type": "stream",
          "text": [
            "soft accu: 0.776685130781021\n",
            "hard accu: 0.8213441404930767\n",
            "4 0.3664641308162339\n"
          ]
        },
        {
          "name": "stderr",
          "output_type": "stream",
          "text": [
            "/usr/local/lib/python3.7/dist-packages/ipykernel_launcher.py:19: DataConversionWarning: A column-vector y was passed when a 1d array was expected. Please change the shape of y to (n_samples,), for example using ravel().\n"
          ]
        },
        {
          "name": "stdout",
          "output_type": "stream",
          "text": [
            "soft accu: 0.7773656846837478\n",
            "hard accu: 0.8230327592029719\n",
            "5 0.3641060343982429\n"
          ]
        },
        {
          "name": "stderr",
          "output_type": "stream",
          "text": [
            "/usr/local/lib/python3.7/dist-packages/ipykernel_launcher.py:19: DataConversionWarning: A column-vector y was passed when a 1d array was expected. Please change the shape of y to (n_samples,), for example using ravel().\n"
          ]
        },
        {
          "name": "stdout",
          "output_type": "stream",
          "text": [
            "soft accu: 0.7771220822749316\n",
            "hard accu: 0.8247213779128673\n",
            "6 0.363391920943585\n"
          ]
        },
        {
          "name": "stderr",
          "output_type": "stream",
          "text": [
            "/usr/local/lib/python3.7/dist-packages/ipykernel_launcher.py:19: DataConversionWarning: A column-vector y was passed when a 1d array was expected. Please change the shape of y to (n_samples,), for example using ravel().\n"
          ]
        },
        {
          "name": "stdout",
          "output_type": "stream",
          "text": [
            "soft accu: 0.7772452146104329\n",
            "hard accu: 0.8230327592029719\n",
            "7 0.36329980546022994\n"
          ]
        },
        {
          "name": "stderr",
          "output_type": "stream",
          "text": [
            "/usr/local/lib/python3.7/dist-packages/ipykernel_launcher.py:19: DataConversionWarning: A column-vector y was passed when a 1d array was expected. Please change the shape of y to (n_samples,), for example using ravel().\n"
          ]
        },
        {
          "name": "stdout",
          "output_type": "stream",
          "text": [
            "soft accu: 0.7772283041841594\n",
            "hard accu: 0.8237082066869301\n",
            "8 0.362916224738547\n"
          ]
        },
        {
          "name": "stderr",
          "output_type": "stream",
          "text": [
            "/usr/local/lib/python3.7/dist-packages/ipykernel_launcher.py:19: DataConversionWarning: A column-vector y was passed when a 1d array was expected. Please change the shape of y to (n_samples,), for example using ravel().\n"
          ]
        },
        {
          "name": "stdout",
          "output_type": "stream",
          "text": [
            "soft accu: 0.7782840768484084\n",
            "hard accu: 0.8226950354609929\n",
            "9 0.36279848458871283\n"
          ]
        },
        {
          "name": "stderr",
          "output_type": "stream",
          "text": [
            "/usr/local/lib/python3.7/dist-packages/ipykernel_launcher.py:19: DataConversionWarning: A column-vector y was passed when a 1d array was expected. Please change the shape of y to (n_samples,), for example using ravel().\n"
          ]
        },
        {
          "name": "stdout",
          "output_type": "stream",
          "text": [
            "soft accu: 0.7781749857423206\n",
            "hard accu: 0.8247213779128673\n",
            "10 0.36234582780029\n"
          ]
        },
        {
          "name": "stderr",
          "output_type": "stream",
          "text": [
            "/usr/local/lib/python3.7/dist-packages/ipykernel_launcher.py:19: DataConversionWarning: A column-vector y was passed when a 1d array was expected. Please change the shape of y to (n_samples,), for example using ravel().\n"
          ]
        },
        {
          "name": "stdout",
          "output_type": "stream",
          "text": [
            "soft accu: 0.7778837224073791\n",
            "hard accu: 0.8250591016548463\n",
            "11 0.36205245667070324\n"
          ]
        },
        {
          "name": "stderr",
          "output_type": "stream",
          "text": [
            "/usr/local/lib/python3.7/dist-packages/ipykernel_launcher.py:19: DataConversionWarning: A column-vector y was passed when a 1d array was expected. Please change the shape of y to (n_samples,), for example using ravel().\n"
          ]
        },
        {
          "name": "stdout",
          "output_type": "stream",
          "text": [
            "soft accu: 0.7780176219938084\n",
            "hard accu: 0.8243836541708882\n",
            "12 0.362104120709195\n"
          ]
        },
        {
          "name": "stderr",
          "output_type": "stream",
          "text": [
            "/usr/local/lib/python3.7/dist-packages/ipykernel_launcher.py:19: DataConversionWarning: A column-vector y was passed when a 1d array was expected. Please change the shape of y to (n_samples,), for example using ravel().\n"
          ]
        },
        {
          "name": "stdout",
          "output_type": "stream",
          "text": [
            "soft accu: 0.7781662185236886\n",
            "hard accu: 0.8260722728807836\n",
            "13 0.36207393814430794\n"
          ]
        },
        {
          "name": "stderr",
          "output_type": "stream",
          "text": [
            "/usr/local/lib/python3.7/dist-packages/ipykernel_launcher.py:19: DataConversionWarning: A column-vector y was passed when a 1d array was expected. Please change the shape of y to (n_samples,), for example using ravel().\n"
          ]
        },
        {
          "name": "stdout",
          "output_type": "stream",
          "text": [
            "soft accu: 0.7779211740254964\n",
            "hard accu: 0.8253968253968254\n",
            "14 0.3618590631051502\n"
          ]
        },
        {
          "name": "stderr",
          "output_type": "stream",
          "text": [
            "/usr/local/lib/python3.7/dist-packages/ipykernel_launcher.py:19: DataConversionWarning: A column-vector y was passed when a 1d array was expected. Please change the shape of y to (n_samples,), for example using ravel().\n"
          ]
        },
        {
          "name": "stdout",
          "output_type": "stream",
          "text": [
            "soft accu: 0.777596740648056\n",
            "hard accu: 0.8247213779128673\n",
            "15 0.36162031023465085\n"
          ]
        },
        {
          "name": "stderr",
          "output_type": "stream",
          "text": [
            "/usr/local/lib/python3.7/dist-packages/ipykernel_launcher.py:19: DataConversionWarning: A column-vector y was passed when a 1d array was expected. Please change the shape of y to (n_samples,), for example using ravel().\n"
          ]
        },
        {
          "name": "stdout",
          "output_type": "stream",
          "text": [
            "soft accu: 0.7779252329339436\n",
            "hard accu: 0.8264099966227626\n",
            "16 0.36131262102602996\n"
          ]
        },
        {
          "name": "stderr",
          "output_type": "stream",
          "text": [
            "/usr/local/lib/python3.7/dist-packages/ipykernel_launcher.py:19: DataConversionWarning: A column-vector y was passed when a 1d array was expected. Please change the shape of y to (n_samples,), for example using ravel().\n"
          ]
        },
        {
          "name": "stdout",
          "output_type": "stream",
          "text": [
            "soft accu: 0.7781558810993381\n",
            "hard accu: 0.8253968253968254\n",
            "17 0.3615021735128124\n"
          ]
        },
        {
          "name": "stderr",
          "output_type": "stream",
          "text": [
            "/usr/local/lib/python3.7/dist-packages/ipykernel_launcher.py:19: DataConversionWarning: A column-vector y was passed when a 1d array was expected. Please change the shape of y to (n_samples,), for example using ravel().\n"
          ]
        },
        {
          "name": "stdout",
          "output_type": "stream",
          "text": [
            "soft accu: 0.7782600016513626\n",
            "hard accu: 0.8253968253968254\n",
            "18 0.36159703758872697\n"
          ]
        },
        {
          "name": "stderr",
          "output_type": "stream",
          "text": [
            "/usr/local/lib/python3.7/dist-packages/ipykernel_launcher.py:19: DataConversionWarning: A column-vector y was passed when a 1d array was expected. Please change the shape of y to (n_samples,), for example using ravel().\n"
          ]
        },
        {
          "name": "stdout",
          "output_type": "stream",
          "text": [
            "soft accu: 0.7778940879633107\n",
            "hard accu: 0.8250591016548463\n",
            "19 0.3619919432627546\n"
          ]
        },
        {
          "name": "stderr",
          "output_type": "stream",
          "text": [
            "/usr/local/lib/python3.7/dist-packages/ipykernel_launcher.py:19: DataConversionWarning: A column-vector y was passed when a 1d array was expected. Please change the shape of y to (n_samples,), for example using ravel().\n"
          ]
        },
        {
          "name": "stdout",
          "output_type": "stream",
          "text": [
            "soft accu: 0.7779641715888841\n",
            "hard accu: 0.8257345491388045\n",
            "20 0.3619354861286419\n"
          ]
        },
        {
          "name": "stderr",
          "output_type": "stream",
          "text": [
            "/usr/local/lib/python3.7/dist-packages/ipykernel_launcher.py:19: DataConversionWarning: A column-vector y was passed when a 1d array was expected. Please change the shape of y to (n_samples,), for example using ravel().\n"
          ]
        },
        {
          "name": "stdout",
          "output_type": "stream",
          "text": [
            "soft accu: 0.7781699167594347\n",
            "hard accu: 0.8253968253968254\n",
            "21 0.3618506204253099\n"
          ]
        },
        {
          "name": "stderr",
          "output_type": "stream",
          "text": [
            "/usr/local/lib/python3.7/dist-packages/ipykernel_launcher.py:19: DataConversionWarning: A column-vector y was passed when a 1d array was expected. Please change the shape of y to (n_samples,), for example using ravel().\n"
          ]
        },
        {
          "name": "stdout",
          "output_type": "stream",
          "text": [
            "soft accu: 0.7780859262592158\n",
            "hard accu: 0.8257345491388045\n",
            "22 0.3617709614358171\n"
          ]
        },
        {
          "name": "stderr",
          "output_type": "stream",
          "text": [
            "/usr/local/lib/python3.7/dist-packages/ipykernel_launcher.py:19: DataConversionWarning: A column-vector y was passed when a 1d array was expected. Please change the shape of y to (n_samples,), for example using ravel().\n"
          ]
        },
        {
          "name": "stdout",
          "output_type": "stream",
          "text": [
            "soft accu: 0.7778933223629374\n",
            "hard accu: 0.8253968253968254\n",
            "23 0.3617202539386039\n"
          ]
        },
        {
          "name": "stderr",
          "output_type": "stream",
          "text": [
            "/usr/local/lib/python3.7/dist-packages/ipykernel_launcher.py:19: DataConversionWarning: A column-vector y was passed when a 1d array was expected. Please change the shape of y to (n_samples,), for example using ravel().\n"
          ]
        },
        {
          "name": "stdout",
          "output_type": "stream",
          "text": [
            "soft accu: 0.7777810961042939\n",
            "hard accu: 0.8264099966227626\n",
            "24 0.3614871686300397\n"
          ]
        },
        {
          "name": "stderr",
          "output_type": "stream",
          "text": [
            "/usr/local/lib/python3.7/dist-packages/ipykernel_launcher.py:19: DataConversionWarning: A column-vector y was passed when a 1d array was expected. Please change the shape of y to (n_samples,), for example using ravel().\n"
          ]
        },
        {
          "name": "stdout",
          "output_type": "stream",
          "text": [
            "soft accu: 0.7776612266629889\n",
            "hard accu: 0.8270854441067207\n",
            "25 0.3612832640840774\n"
          ]
        },
        {
          "name": "stderr",
          "output_type": "stream",
          "text": [
            "/usr/local/lib/python3.7/dist-packages/ipykernel_launcher.py:19: DataConversionWarning: A column-vector y was passed when a 1d array was expected. Please change the shape of y to (n_samples,), for example using ravel().\n"
          ]
        },
        {
          "name": "stdout",
          "output_type": "stream",
          "text": [
            "soft accu: 0.777599494073384\n",
            "hard accu: 0.8270854441067207\n",
            "26 0.3612232661246047\n"
          ]
        },
        {
          "name": "stderr",
          "output_type": "stream",
          "text": [
            "/usr/local/lib/python3.7/dist-packages/ipykernel_launcher.py:19: DataConversionWarning: A column-vector y was passed when a 1d array was expected. Please change the shape of y to (n_samples,), for example using ravel().\n"
          ]
        },
        {
          "name": "stdout",
          "output_type": "stream",
          "text": [
            "soft accu: 0.7772870900503073\n",
            "hard accu: 0.8270854441067207\n",
            "27 0.36110333796957106\n"
          ]
        },
        {
          "name": "stderr",
          "output_type": "stream",
          "text": [
            "/usr/local/lib/python3.7/dist-packages/ipykernel_launcher.py:19: DataConversionWarning: A column-vector y was passed when a 1d array was expected. Please change the shape of y to (n_samples,), for example using ravel().\n"
          ]
        },
        {
          "name": "stdout",
          "output_type": "stream",
          "text": [
            "soft accu: 0.777339268420514\n",
            "hard accu: 0.8267477203647416\n",
            "28 0.3611355523333138\n"
          ]
        },
        {
          "name": "stderr",
          "output_type": "stream",
          "text": [
            "/usr/local/lib/python3.7/dist-packages/ipykernel_launcher.py:19: DataConversionWarning: A column-vector y was passed when a 1d array was expected. Please change the shape of y to (n_samples,), for example using ravel().\n"
          ]
        },
        {
          "name": "stdout",
          "output_type": "stream",
          "text": [
            "soft accu: 0.7773187340248935\n",
            "hard accu: 0.8274231678486997\n",
            "29 0.3611588414603101\n"
          ]
        },
        {
          "name": "stderr",
          "output_type": "stream",
          "text": [
            "/usr/local/lib/python3.7/dist-packages/ipykernel_launcher.py:19: DataConversionWarning: A column-vector y was passed when a 1d array was expected. Please change the shape of y to (n_samples,), for example using ravel().\n"
          ]
        },
        {
          "name": "stdout",
          "output_type": "stream",
          "text": [
            "soft accu: 0.7772909509408703\n",
            "hard accu: 0.8270854441067207\n",
            "30 0.3610984590396065\n"
          ]
        },
        {
          "name": "stderr",
          "output_type": "stream",
          "text": [
            "/usr/local/lib/python3.7/dist-packages/ipykernel_launcher.py:19: DataConversionWarning: A column-vector y was passed when a 1d array was expected. Please change the shape of y to (n_samples,), for example using ravel().\n"
          ]
        },
        {
          "name": "stdout",
          "output_type": "stream",
          "text": [
            "soft accu: 0.7772939853885702\n",
            "hard accu: 0.8267477203647416\n",
            "31 0.361094774246618\n"
          ]
        },
        {
          "name": "stderr",
          "output_type": "stream",
          "text": [
            "/usr/local/lib/python3.7/dist-packages/ipykernel_launcher.py:19: DataConversionWarning: A column-vector y was passed when a 1d array was expected. Please change the shape of y to (n_samples,), for example using ravel().\n"
          ]
        },
        {
          "name": "stdout",
          "output_type": "stream",
          "text": [
            "soft accu: 0.7772923535565106\n",
            "hard accu: 0.8260722728807836\n",
            "32 0.3611728348212733\n"
          ]
        },
        {
          "name": "stderr",
          "output_type": "stream",
          "text": [
            "/usr/local/lib/python3.7/dist-packages/ipykernel_launcher.py:19: DataConversionWarning: A column-vector y was passed when a 1d array was expected. Please change the shape of y to (n_samples,), for example using ravel().\n"
          ]
        },
        {
          "name": "stdout",
          "output_type": "stream",
          "text": [
            "soft accu: 0.7772587106381771\n",
            "hard accu: 0.8264099966227626\n",
            "33 0.3611620248842852\n"
          ]
        },
        {
          "name": "stderr",
          "output_type": "stream",
          "text": [
            "/usr/local/lib/python3.7/dist-packages/ipykernel_launcher.py:19: DataConversionWarning: A column-vector y was passed when a 1d array was expected. Please change the shape of y to (n_samples,), for example using ravel().\n"
          ]
        },
        {
          "name": "stdout",
          "output_type": "stream",
          "text": [
            "soft accu: 0.7772950773751797\n",
            "hard accu: 0.8270854441067207\n",
            "34 0.3610730515571017\n"
          ]
        },
        {
          "name": "stderr",
          "output_type": "stream",
          "text": [
            "/usr/local/lib/python3.7/dist-packages/ipykernel_launcher.py:19: DataConversionWarning: A column-vector y was passed when a 1d array was expected. Please change the shape of y to (n_samples,), for example using ravel().\n"
          ]
        },
        {
          "name": "stdout",
          "output_type": "stream",
          "text": [
            "soft accu: 0.7772970069876773\n",
            "hard accu: 0.8277608915906788\n",
            "35 0.3610390812615198\n"
          ]
        },
        {
          "name": "stderr",
          "output_type": "stream",
          "text": [
            "/usr/local/lib/python3.7/dist-packages/ipykernel_launcher.py:19: DataConversionWarning: A column-vector y was passed when a 1d array was expected. Please change the shape of y to (n_samples,), for example using ravel().\n"
          ]
        },
        {
          "name": "stdout",
          "output_type": "stream",
          "text": [
            "soft accu: 0.77719354314496\n",
            "hard accu: 0.8270854441067207\n",
            "36 0.36111255833677885\n"
          ]
        },
        {
          "name": "stderr",
          "output_type": "stream",
          "text": [
            "/usr/local/lib/python3.7/dist-packages/ipykernel_launcher.py:19: DataConversionWarning: A column-vector y was passed when a 1d array was expected. Please change the shape of y to (n_samples,), for example using ravel().\n"
          ]
        },
        {
          "name": "stdout",
          "output_type": "stream",
          "text": [
            "soft accu: 0.7772205413229307\n",
            "hard accu: 0.8274231678486997\n",
            "37 0.36110723230896397\n"
          ]
        },
        {
          "name": "stderr",
          "output_type": "stream",
          "text": [
            "/usr/local/lib/python3.7/dist-packages/ipykernel_launcher.py:19: DataConversionWarning: A column-vector y was passed when a 1d array was expected. Please change the shape of y to (n_samples,), for example using ravel().\n"
          ]
        },
        {
          "name": "stdout",
          "output_type": "stream",
          "text": [
            "soft accu: 0.7773551064337894\n",
            "hard accu: 0.8277608915906788\n",
            "38 0.3610285170862065\n"
          ]
        },
        {
          "name": "stderr",
          "output_type": "stream",
          "text": [
            "/usr/local/lib/python3.7/dist-packages/ipykernel_launcher.py:19: DataConversionWarning: A column-vector y was passed when a 1d array was expected. Please change the shape of y to (n_samples,), for example using ravel().\n"
          ]
        },
        {
          "name": "stdout",
          "output_type": "stream",
          "text": [
            "soft accu: 0.777440836333042\n",
            "hard accu: 0.828436339074637\n",
            "39 0.36108212998608685\n"
          ]
        },
        {
          "name": "stderr",
          "output_type": "stream",
          "text": [
            "/usr/local/lib/python3.7/dist-packages/ipykernel_launcher.py:19: DataConversionWarning: A column-vector y was passed when a 1d array was expected. Please change the shape of y to (n_samples,), for example using ravel().\n"
          ]
        },
        {
          "name": "stdout",
          "output_type": "stream",
          "text": [
            "soft accu: 0.7775017420779408\n",
            "hard accu: 0.8277608915906788\n",
            "40 0.36114625228973823\n"
          ]
        },
        {
          "name": "stderr",
          "output_type": "stream",
          "text": [
            "/usr/local/lib/python3.7/dist-packages/ipykernel_launcher.py:19: DataConversionWarning: A column-vector y was passed when a 1d array was expected. Please change the shape of y to (n_samples,), for example using ravel().\n"
          ]
        },
        {
          "name": "stdout",
          "output_type": "stream",
          "text": [
            "soft accu: 0.7775159648633123\n",
            "hard accu: 0.8270854441067207\n",
            "41 0.3611053055391852\n"
          ]
        },
        {
          "name": "stderr",
          "output_type": "stream",
          "text": [
            "/usr/local/lib/python3.7/dist-packages/ipykernel_launcher.py:19: DataConversionWarning: A column-vector y was passed when a 1d array was expected. Please change the shape of y to (n_samples,), for example using ravel().\n"
          ]
        },
        {
          "name": "stdout",
          "output_type": "stream",
          "text": [
            "soft accu: 0.7775461493576294\n",
            "hard accu: 0.8270854441067207\n",
            "42 0.3612248059675004\n"
          ]
        },
        {
          "name": "stderr",
          "output_type": "stream",
          "text": [
            "/usr/local/lib/python3.7/dist-packages/ipykernel_launcher.py:19: DataConversionWarning: A column-vector y was passed when a 1d array was expected. Please change the shape of y to (n_samples,), for example using ravel().\n"
          ]
        },
        {
          "name": "stdout",
          "output_type": "stream",
          "text": [
            "soft accu: 0.7776053439984647\n",
            "hard accu: 0.8274231678486997\n",
            "43 0.36121694849412983\n"
          ]
        },
        {
          "name": "stderr",
          "output_type": "stream",
          "text": [
            "/usr/local/lib/python3.7/dist-packages/ipykernel_launcher.py:19: DataConversionWarning: A column-vector y was passed when a 1d array was expected. Please change the shape of y to (n_samples,), for example using ravel().\n"
          ]
        },
        {
          "name": "stdout",
          "output_type": "stream",
          "text": [
            "soft accu: 0.777477306849438\n",
            "hard accu: 0.8270854441067207\n",
            "44 0.36123760433332086\n"
          ]
        },
        {
          "name": "stderr",
          "output_type": "stream",
          "text": [
            "/usr/local/lib/python3.7/dist-packages/ipykernel_launcher.py:19: DataConversionWarning: A column-vector y was passed when a 1d array was expected. Please change the shape of y to (n_samples,), for example using ravel().\n"
          ]
        },
        {
          "name": "stdout",
          "output_type": "stream",
          "text": [
            "soft accu: 0.7774529398488932\n",
            "hard accu: 0.8274231678486997\n",
            "45 0.3612657355842827\n"
          ]
        },
        {
          "name": "stderr",
          "output_type": "stream",
          "text": [
            "/usr/local/lib/python3.7/dist-packages/ipykernel_launcher.py:19: DataConversionWarning: A column-vector y was passed when a 1d array was expected. Please change the shape of y to (n_samples,), for example using ravel().\n"
          ]
        },
        {
          "name": "stdout",
          "output_type": "stream",
          "text": [
            "soft accu: 0.7772960787123799\n",
            "hard accu: 0.8280986153326579\n",
            "46 0.3613044440187304\n"
          ]
        },
        {
          "name": "stderr",
          "output_type": "stream",
          "text": [
            "/usr/local/lib/python3.7/dist-packages/ipykernel_launcher.py:19: DataConversionWarning: A column-vector y was passed when a 1d array was expected. Please change the shape of y to (n_samples,), for example using ravel().\n"
          ]
        },
        {
          "name": "stdout",
          "output_type": "stream",
          "text": [
            "soft accu: 0.7772737692629507\n",
            "hard accu: 0.828436339074637\n",
            "47 0.36134634269113347\n"
          ]
        },
        {
          "name": "stderr",
          "output_type": "stream",
          "text": [
            "/usr/local/lib/python3.7/dist-packages/ipykernel_launcher.py:19: DataConversionWarning: A column-vector y was passed when a 1d array was expected. Please change the shape of y to (n_samples,), for example using ravel().\n"
          ]
        },
        {
          "name": "stdout",
          "output_type": "stream",
          "text": [
            "soft accu: 0.7773555146866155\n",
            "hard accu: 0.8280986153326579\n",
            "48 0.36136564193335324\n"
          ]
        },
        {
          "name": "stderr",
          "output_type": "stream",
          "text": [
            "/usr/local/lib/python3.7/dist-packages/ipykernel_launcher.py:19: DataConversionWarning: A column-vector y was passed when a 1d array was expected. Please change the shape of y to (n_samples,), for example using ravel().\n"
          ]
        },
        {
          "name": "stdout",
          "output_type": "stream",
          "text": [
            "soft accu: 0.7773152242403323\n",
            "hard accu: 0.8270854441067207\n",
            "49 0.3612732675892888\n"
          ]
        },
        {
          "name": "stderr",
          "output_type": "stream",
          "text": [
            "/usr/local/lib/python3.7/dist-packages/ipykernel_launcher.py:19: DataConversionWarning: A column-vector y was passed when a 1d array was expected. Please change the shape of y to (n_samples,), for example using ravel().\n"
          ]
        },
        {
          "name": "stdout",
          "output_type": "stream",
          "text": [
            "soft accu: 0.77741648555134\n",
            "hard accu: 0.8270854441067207\n",
            "50 0.3613178571319244\n"
          ]
        },
        {
          "name": "stderr",
          "output_type": "stream",
          "text": [
            "/usr/local/lib/python3.7/dist-packages/ipykernel_launcher.py:19: DataConversionWarning: A column-vector y was passed when a 1d array was expected. Please change the shape of y to (n_samples,), for example using ravel().\n"
          ]
        },
        {
          "name": "stdout",
          "output_type": "stream",
          "text": [
            "soft accu: 0.7774803419364107\n",
            "hard accu: 0.8274231678486997\n",
            "51 0.36130360775072895\n"
          ]
        },
        {
          "name": "stderr",
          "output_type": "stream",
          "text": [
            "/usr/local/lib/python3.7/dist-packages/ipykernel_launcher.py:19: DataConversionWarning: A column-vector y was passed when a 1d array was expected. Please change the shape of y to (n_samples,), for example using ravel().\n"
          ]
        },
        {
          "name": "stdout",
          "output_type": "stream",
          "text": [
            "soft accu: 0.7774424525487696\n",
            "hard accu: 0.8270854441067207\n",
            "52 0.3613358742359945\n"
          ]
        },
        {
          "name": "stderr",
          "output_type": "stream",
          "text": [
            "/usr/local/lib/python3.7/dist-packages/ipykernel_launcher.py:19: DataConversionWarning: A column-vector y was passed when a 1d array was expected. Please change the shape of y to (n_samples,), for example using ravel().\n"
          ]
        },
        {
          "name": "stdout",
          "output_type": "stream",
          "text": [
            "soft accu: 0.7775251636936127\n",
            "hard accu: 0.8264099966227626\n",
            "53 0.36132218726760135\n"
          ]
        },
        {
          "name": "stderr",
          "output_type": "stream",
          "text": [
            "/usr/local/lib/python3.7/dist-packages/ipykernel_launcher.py:19: DataConversionWarning: A column-vector y was passed when a 1d array was expected. Please change the shape of y to (n_samples,), for example using ravel().\n"
          ]
        },
        {
          "name": "stdout",
          "output_type": "stream",
          "text": [
            "soft accu: 0.777472268060566\n",
            "hard accu: 0.8264099966227626\n",
            "54 0.3612055890377683\n"
          ]
        },
        {
          "name": "stderr",
          "output_type": "stream",
          "text": [
            "/usr/local/lib/python3.7/dist-packages/ipykernel_launcher.py:19: DataConversionWarning: A column-vector y was passed when a 1d array was expected. Please change the shape of y to (n_samples,), for example using ravel().\n"
          ]
        },
        {
          "name": "stdout",
          "output_type": "stream",
          "text": [
            "soft accu: 0.7775195018918271\n",
            "hard accu: 0.8267477203647416\n",
            "55 0.3611061982043028\n"
          ]
        },
        {
          "name": "stderr",
          "output_type": "stream",
          "text": [
            "/usr/local/lib/python3.7/dist-packages/ipykernel_launcher.py:19: DataConversionWarning: A column-vector y was passed when a 1d array was expected. Please change the shape of y to (n_samples,), for example using ravel().\n"
          ]
        },
        {
          "name": "stdout",
          "output_type": "stream",
          "text": [
            "soft accu: 0.7775605000648711\n",
            "hard accu: 0.8270854441067207\n",
            "56 0.3610726562504174\n"
          ]
        },
        {
          "name": "stderr",
          "output_type": "stream",
          "text": [
            "/usr/local/lib/python3.7/dist-packages/ipykernel_launcher.py:19: DataConversionWarning: A column-vector y was passed when a 1d array was expected. Please change the shape of y to (n_samples,), for example using ravel().\n"
          ]
        },
        {
          "name": "stdout",
          "output_type": "stream",
          "text": [
            "soft accu: 0.777589725445617\n",
            "hard accu: 0.8274231678486997\n",
            "57 0.3610382332572269\n"
          ]
        },
        {
          "name": "stderr",
          "output_type": "stream",
          "text": [
            "/usr/local/lib/python3.7/dist-packages/ipykernel_launcher.py:19: DataConversionWarning: A column-vector y was passed when a 1d array was expected. Please change the shape of y to (n_samples,), for example using ravel().\n"
          ]
        },
        {
          "name": "stdout",
          "output_type": "stream",
          "text": [
            "soft accu: 0.7775636019979211\n",
            "hard accu: 0.8267477203647416\n",
            "58 0.3610495762068513\n"
          ]
        },
        {
          "name": "stderr",
          "output_type": "stream",
          "text": [
            "/usr/local/lib/python3.7/dist-packages/ipykernel_launcher.py:19: DataConversionWarning: A column-vector y was passed when a 1d array was expected. Please change the shape of y to (n_samples,), for example using ravel().\n"
          ]
        },
        {
          "name": "stdout",
          "output_type": "stream",
          "text": [
            "soft accu: 0.7775731254621621\n",
            "hard accu: 0.8267477203647416\n",
            "59 0.361005362117845\n"
          ]
        },
        {
          "name": "stderr",
          "output_type": "stream",
          "text": [
            "/usr/local/lib/python3.7/dist-packages/ipykernel_launcher.py:19: DataConversionWarning: A column-vector y was passed when a 1d array was expected. Please change the shape of y to (n_samples,), for example using ravel().\n"
          ]
        },
        {
          "name": "stdout",
          "output_type": "stream",
          "text": [
            "soft accu: 0.7775212389855528\n",
            "hard accu: 0.8267477203647416\n",
            "60 0.36089606509226496\n"
          ]
        },
        {
          "name": "stderr",
          "output_type": "stream",
          "text": [
            "/usr/local/lib/python3.7/dist-packages/ipykernel_launcher.py:19: DataConversionWarning: A column-vector y was passed when a 1d array was expected. Please change the shape of y to (n_samples,), for example using ravel().\n"
          ]
        },
        {
          "name": "stdout",
          "output_type": "stream",
          "text": [
            "soft accu: 0.7774729244007177\n",
            "hard accu: 0.8274231678486997\n",
            "61 0.36088119614650127\n"
          ]
        },
        {
          "name": "stderr",
          "output_type": "stream",
          "text": [
            "/usr/local/lib/python3.7/dist-packages/ipykernel_launcher.py:19: DataConversionWarning: A column-vector y was passed when a 1d array was expected. Please change the shape of y to (n_samples,), for example using ravel().\n"
          ]
        },
        {
          "name": "stdout",
          "output_type": "stream",
          "text": [
            "soft accu: 0.7775401509092911\n",
            "hard accu: 0.8264099966227626\n",
            "62 0.36091320122297343\n"
          ]
        },
        {
          "name": "stderr",
          "output_type": "stream",
          "text": [
            "/usr/local/lib/python3.7/dist-packages/ipykernel_launcher.py:19: DataConversionWarning: A column-vector y was passed when a 1d array was expected. Please change the shape of y to (n_samples,), for example using ravel().\n"
          ]
        },
        {
          "name": "stdout",
          "output_type": "stream",
          "text": [
            "soft accu: 0.7775984666162762\n",
            "hard accu: 0.8264099966227626\n",
            "63 0.36099372442395067\n"
          ]
        },
        {
          "name": "stderr",
          "output_type": "stream",
          "text": [
            "/usr/local/lib/python3.7/dist-packages/ipykernel_launcher.py:19: DataConversionWarning: A column-vector y was passed when a 1d array was expected. Please change the shape of y to (n_samples,), for example using ravel().\n"
          ]
        },
        {
          "name": "stdout",
          "output_type": "stream",
          "text": [
            "soft accu: 0.7775799620762672\n",
            "hard accu: 0.8264099966227626\n",
            "64 0.36108201000298185\n"
          ]
        },
        {
          "name": "stderr",
          "output_type": "stream",
          "text": [
            "/usr/local/lib/python3.7/dist-packages/ipykernel_launcher.py:19: DataConversionWarning: A column-vector y was passed when a 1d array was expected. Please change the shape of y to (n_samples,), for example using ravel().\n"
          ]
        },
        {
          "name": "stdout",
          "output_type": "stream",
          "text": [
            "soft accu: 0.7775140001062701\n",
            "hard accu: 0.8267477203647416\n",
            "65 0.3610760662182638\n"
          ]
        },
        {
          "name": "stderr",
          "output_type": "stream",
          "text": [
            "/usr/local/lib/python3.7/dist-packages/ipykernel_launcher.py:19: DataConversionWarning: A column-vector y was passed when a 1d array was expected. Please change the shape of y to (n_samples,), for example using ravel().\n"
          ]
        },
        {
          "name": "stdout",
          "output_type": "stream",
          "text": [
            "soft accu: 0.7775617012029634\n",
            "hard accu: 0.8267477203647416\n",
            "66 0.3611416071483543\n"
          ]
        },
        {
          "name": "stderr",
          "output_type": "stream",
          "text": [
            "/usr/local/lib/python3.7/dist-packages/ipykernel_launcher.py:19: DataConversionWarning: A column-vector y was passed when a 1d array was expected. Please change the shape of y to (n_samples,), for example using ravel().\n"
          ]
        },
        {
          "name": "stdout",
          "output_type": "stream",
          "text": [
            "soft accu: 0.7775858690301894\n",
            "hard accu: 0.8270854441067207\n",
            "67 0.3611651118740529\n"
          ]
        },
        {
          "name": "stderr",
          "output_type": "stream",
          "text": [
            "/usr/local/lib/python3.7/dist-packages/ipykernel_launcher.py:19: DataConversionWarning: A column-vector y was passed when a 1d array was expected. Please change the shape of y to (n_samples,), for example using ravel().\n"
          ]
        },
        {
          "name": "stdout",
          "output_type": "stream",
          "text": [
            "soft accu: 0.7775177626355434\n",
            "hard accu: 0.8264099966227626\n",
            "68 0.36111155029229886\n"
          ]
        },
        {
          "name": "stderr",
          "output_type": "stream",
          "text": [
            "/usr/local/lib/python3.7/dist-packages/ipykernel_launcher.py:19: DataConversionWarning: A column-vector y was passed when a 1d array was expected. Please change the shape of y to (n_samples,), for example using ravel().\n"
          ]
        },
        {
          "name": "stdout",
          "output_type": "stream",
          "text": [
            "soft accu: 0.7775310585589645\n",
            "hard accu: 0.8270854441067207\n",
            "69 0.36105385453209426\n"
          ]
        },
        {
          "name": "stderr",
          "output_type": "stream",
          "text": [
            "/usr/local/lib/python3.7/dist-packages/ipykernel_launcher.py:19: DataConversionWarning: A column-vector y was passed when a 1d array was expected. Please change the shape of y to (n_samples,), for example using ravel().\n"
          ]
        },
        {
          "name": "stdout",
          "output_type": "stream",
          "text": [
            "soft accu: 0.7775370960497088\n",
            "hard accu: 0.8277608915906788\n",
            "70 0.3610682396961876\n"
          ]
        },
        {
          "name": "stderr",
          "output_type": "stream",
          "text": [
            "/usr/local/lib/python3.7/dist-packages/ipykernel_launcher.py:19: DataConversionWarning: A column-vector y was passed when a 1d array was expected. Please change the shape of y to (n_samples,), for example using ravel().\n"
          ]
        },
        {
          "name": "stdout",
          "output_type": "stream",
          "text": [
            "soft accu: 0.7775758995044662\n",
            "hard accu: 0.8270854441067207\n",
            "71 0.3610240376765416\n"
          ]
        },
        {
          "name": "stderr",
          "output_type": "stream",
          "text": [
            "/usr/local/lib/python3.7/dist-packages/ipykernel_launcher.py:19: DataConversionWarning: A column-vector y was passed when a 1d array was expected. Please change the shape of y to (n_samples,), for example using ravel().\n"
          ]
        },
        {
          "name": "stdout",
          "output_type": "stream",
          "text": [
            "soft accu: 0.7775562597706158\n",
            "hard accu: 0.8267477203647416\n",
            "72 0.3610328967190521\n"
          ]
        },
        {
          "name": "stderr",
          "output_type": "stream",
          "text": [
            "/usr/local/lib/python3.7/dist-packages/ipykernel_launcher.py:19: DataConversionWarning: A column-vector y was passed when a 1d array was expected. Please change the shape of y to (n_samples,), for example using ravel().\n"
          ]
        },
        {
          "name": "stdout",
          "output_type": "stream",
          "text": [
            "soft accu: 0.777551767826396\n",
            "hard accu: 0.8274231678486997\n",
            "73 0.3611094797664349\n"
          ]
        },
        {
          "name": "stderr",
          "output_type": "stream",
          "text": [
            "/usr/local/lib/python3.7/dist-packages/ipykernel_launcher.py:19: DataConversionWarning: A column-vector y was passed when a 1d array was expected. Please change the shape of y to (n_samples,), for example using ravel().\n"
          ]
        },
        {
          "name": "stdout",
          "output_type": "stream",
          "text": [
            "soft accu: 0.7775238413393559\n",
            "hard accu: 0.8274231678486997\n",
            "74 0.36115710733164286\n"
          ]
        },
        {
          "name": "stderr",
          "output_type": "stream",
          "text": [
            "/usr/local/lib/python3.7/dist-packages/ipykernel_launcher.py:19: DataConversionWarning: A column-vector y was passed when a 1d array was expected. Please change the shape of y to (n_samples,), for example using ravel().\n"
          ]
        },
        {
          "name": "stdout",
          "output_type": "stream",
          "text": [
            "soft accu: 0.7775785878709651\n",
            "hard accu: 0.8274231678486997\n",
            "75 0.3610971438820626\n"
          ]
        },
        {
          "name": "stderr",
          "output_type": "stream",
          "text": [
            "/usr/local/lib/python3.7/dist-packages/ipykernel_launcher.py:19: DataConversionWarning: A column-vector y was passed when a 1d array was expected. Please change the shape of y to (n_samples,), for example using ravel().\n"
          ]
        },
        {
          "name": "stdout",
          "output_type": "stream",
          "text": [
            "soft accu: 0.7776185250848527\n",
            "hard accu: 0.8270854441067207\n",
            "76 0.3610802828907805\n"
          ]
        },
        {
          "name": "stderr",
          "output_type": "stream",
          "text": [
            "/usr/local/lib/python3.7/dist-packages/ipykernel_launcher.py:19: DataConversionWarning: A column-vector y was passed when a 1d array was expected. Please change the shape of y to (n_samples,), for example using ravel().\n"
          ]
        },
        {
          "name": "stdout",
          "output_type": "stream",
          "text": [
            "soft accu: 0.77756018759161\n",
            "hard accu: 0.8280986153326579\n",
            "77 0.36108954827488027\n"
          ]
        },
        {
          "name": "stderr",
          "output_type": "stream",
          "text": [
            "/usr/local/lib/python3.7/dist-packages/ipykernel_launcher.py:19: DataConversionWarning: A column-vector y was passed when a 1d array was expected. Please change the shape of y to (n_samples,), for example using ravel().\n"
          ]
        },
        {
          "name": "stdout",
          "output_type": "stream",
          "text": [
            "soft accu: 0.7776476225965696\n",
            "hard accu: 0.8270854441067207\n",
            "78 0.3611399522954359\n"
          ]
        },
        {
          "name": "stderr",
          "output_type": "stream",
          "text": [
            "/usr/local/lib/python3.7/dist-packages/ipykernel_launcher.py:19: DataConversionWarning: A column-vector y was passed when a 1d array was expected. Please change the shape of y to (n_samples,), for example using ravel().\n"
          ]
        },
        {
          "name": "stdout",
          "output_type": "stream",
          "text": [
            "soft accu: 0.7776250743821267\n",
            "hard accu: 0.8270854441067207\n",
            "79 0.36118167140382096\n"
          ]
        },
        {
          "name": "stderr",
          "output_type": "stream",
          "text": [
            "/usr/local/lib/python3.7/dist-packages/ipykernel_launcher.py:19: DataConversionWarning: A column-vector y was passed when a 1d array was expected. Please change the shape of y to (n_samples,), for example using ravel().\n"
          ]
        },
        {
          "name": "stdout",
          "output_type": "stream",
          "text": [
            "soft accu: 0.7776058614930793\n",
            "hard accu: 0.8270854441067207\n",
            "80 0.3611711735630434\n"
          ]
        },
        {
          "name": "stderr",
          "output_type": "stream",
          "text": [
            "/usr/local/lib/python3.7/dist-packages/ipykernel_launcher.py:19: DataConversionWarning: A column-vector y was passed when a 1d array was expected. Please change the shape of y to (n_samples,), for example using ravel().\n"
          ]
        },
        {
          "name": "stdout",
          "output_type": "stream",
          "text": [
            "soft accu: 0.7776203329154259\n",
            "hard accu: 0.8274231678486997\n",
            "81 0.3611482853008997\n"
          ]
        },
        {
          "name": "stderr",
          "output_type": "stream",
          "text": [
            "/usr/local/lib/python3.7/dist-packages/ipykernel_launcher.py:19: DataConversionWarning: A column-vector y was passed when a 1d array was expected. Please change the shape of y to (n_samples,), for example using ravel().\n"
          ]
        },
        {
          "name": "stdout",
          "output_type": "stream",
          "text": [
            "soft accu: 0.7775362284535542\n",
            "hard accu: 0.8274231678486997\n",
            "82 0.3611044472437123\n"
          ]
        },
        {
          "name": "stderr",
          "output_type": "stream",
          "text": [
            "/usr/local/lib/python3.7/dist-packages/ipykernel_launcher.py:19: DataConversionWarning: A column-vector y was passed when a 1d array was expected. Please change the shape of y to (n_samples,), for example using ravel().\n"
          ]
        },
        {
          "name": "stdout",
          "output_type": "stream",
          "text": [
            "soft accu: 0.7774752985775761\n",
            "hard accu: 0.8274231678486997\n",
            "83 0.3611051516081435\n"
          ]
        },
        {
          "name": "stderr",
          "output_type": "stream",
          "text": [
            "/usr/local/lib/python3.7/dist-packages/ipykernel_launcher.py:19: DataConversionWarning: A column-vector y was passed when a 1d array was expected. Please change the shape of y to (n_samples,), for example using ravel().\n"
          ]
        },
        {
          "name": "stdout",
          "output_type": "stream",
          "text": [
            "soft accu: 0.7774964184989692\n",
            "hard accu: 0.8274231678486997\n",
            "84 0.3610823082727114\n"
          ]
        },
        {
          "name": "stderr",
          "output_type": "stream",
          "text": [
            "/usr/local/lib/python3.7/dist-packages/ipykernel_launcher.py:19: DataConversionWarning: A column-vector y was passed when a 1d array was expected. Please change the shape of y to (n_samples,), for example using ravel().\n"
          ]
        },
        {
          "name": "stdout",
          "output_type": "stream",
          "text": [
            "soft accu: 0.7774462603401849\n",
            "hard accu: 0.828436339074637\n",
            "85 0.36106371120498904\n"
          ]
        },
        {
          "name": "stderr",
          "output_type": "stream",
          "text": [
            "/usr/local/lib/python3.7/dist-packages/ipykernel_launcher.py:19: DataConversionWarning: A column-vector y was passed when a 1d array was expected. Please change the shape of y to (n_samples,), for example using ravel().\n"
          ]
        },
        {
          "name": "stdout",
          "output_type": "stream",
          "text": [
            "soft accu: 0.7774320454779542\n",
            "hard accu: 0.828436339074637\n",
            "86 0.36110966416508794\n"
          ]
        },
        {
          "name": "stderr",
          "output_type": "stream",
          "text": [
            "/usr/local/lib/python3.7/dist-packages/ipykernel_launcher.py:19: DataConversionWarning: A column-vector y was passed when a 1d array was expected. Please change the shape of y to (n_samples,), for example using ravel().\n"
          ]
        },
        {
          "name": "stdout",
          "output_type": "stream",
          "text": [
            "soft accu: 0.777423584066367\n",
            "hard accu: 0.828436339074637\n",
            "87 0.3610901497924442\n"
          ]
        },
        {
          "name": "stderr",
          "output_type": "stream",
          "text": [
            "/usr/local/lib/python3.7/dist-packages/ipykernel_launcher.py:19: DataConversionWarning: A column-vector y was passed when a 1d array was expected. Please change the shape of y to (n_samples,), for example using ravel().\n"
          ]
        },
        {
          "name": "stdout",
          "output_type": "stream",
          "text": [
            "soft accu: 0.7773797070148291\n",
            "hard accu: 0.8270854441067207\n",
            "88 0.36113449076763665\n"
          ]
        },
        {
          "name": "stderr",
          "output_type": "stream",
          "text": [
            "/usr/local/lib/python3.7/dist-packages/ipykernel_launcher.py:19: DataConversionWarning: A column-vector y was passed when a 1d array was expected. Please change the shape of y to (n_samples,), for example using ravel().\n"
          ]
        },
        {
          "name": "stdout",
          "output_type": "stream",
          "text": [
            "soft accu: 0.7773780023847864\n",
            "hard accu: 0.8270854441067207\n",
            "89 0.3611641912851025\n"
          ]
        },
        {
          "name": "stderr",
          "output_type": "stream",
          "text": [
            "/usr/local/lib/python3.7/dist-packages/ipykernel_launcher.py:19: DataConversionWarning: A column-vector y was passed when a 1d array was expected. Please change the shape of y to (n_samples,), for example using ravel().\n"
          ]
        },
        {
          "name": "stdout",
          "output_type": "stream",
          "text": [
            "soft accu: 0.7774034012616899\n",
            "hard accu: 0.8277608915906788\n",
            "90 0.3611628769216347\n"
          ]
        },
        {
          "name": "stderr",
          "output_type": "stream",
          "text": [
            "/usr/local/lib/python3.7/dist-packages/ipykernel_launcher.py:19: DataConversionWarning: A column-vector y was passed when a 1d array was expected. Please change the shape of y to (n_samples,), for example using ravel().\n"
          ]
        },
        {
          "name": "stdout",
          "output_type": "stream",
          "text": [
            "soft accu: 0.7773915256402562\n",
            "hard accu: 0.8277608915906788\n",
            "91 0.3611783217740055\n"
          ]
        },
        {
          "name": "stderr",
          "output_type": "stream",
          "text": [
            "/usr/local/lib/python3.7/dist-packages/ipykernel_launcher.py:19: DataConversionWarning: A column-vector y was passed when a 1d array was expected. Please change the shape of y to (n_samples,), for example using ravel().\n"
          ]
        },
        {
          "name": "stdout",
          "output_type": "stream",
          "text": [
            "soft accu: 0.7774285495789044\n",
            "hard accu: 0.8280986153326579\n",
            "92 0.3611351866306764\n"
          ]
        },
        {
          "name": "stderr",
          "output_type": "stream",
          "text": [
            "/usr/local/lib/python3.7/dist-packages/ipykernel_launcher.py:19: DataConversionWarning: A column-vector y was passed when a 1d array was expected. Please change the shape of y to (n_samples,), for example using ravel().\n"
          ]
        },
        {
          "name": "stdout",
          "output_type": "stream",
          "text": [
            "soft accu: 0.7774259967223437\n",
            "hard accu: 0.8277608915906788\n",
            "93 0.3611065925207079\n"
          ]
        },
        {
          "name": "stderr",
          "output_type": "stream",
          "text": [
            "/usr/local/lib/python3.7/dist-packages/ipykernel_launcher.py:19: DataConversionWarning: A column-vector y was passed when a 1d array was expected. Please change the shape of y to (n_samples,), for example using ravel().\n"
          ]
        },
        {
          "name": "stdout",
          "output_type": "stream",
          "text": [
            "soft accu: 0.7773890737500064\n",
            "hard accu: 0.8277608915906788\n",
            "94 0.36110651054892506\n"
          ]
        },
        {
          "name": "stderr",
          "output_type": "stream",
          "text": [
            "/usr/local/lib/python3.7/dist-packages/ipykernel_launcher.py:19: DataConversionWarning: A column-vector y was passed when a 1d array was expected. Please change the shape of y to (n_samples,), for example using ravel().\n"
          ]
        },
        {
          "name": "stdout",
          "output_type": "stream",
          "text": [
            "soft accu: 0.7774023541928841\n",
            "hard accu: 0.8277608915906788\n",
            "95 0.3611289552089598\n"
          ]
        },
        {
          "name": "stderr",
          "output_type": "stream",
          "text": [
            "/usr/local/lib/python3.7/dist-packages/ipykernel_launcher.py:19: DataConversionWarning: A column-vector y was passed when a 1d array was expected. Please change the shape of y to (n_samples,), for example using ravel().\n"
          ]
        },
        {
          "name": "stdout",
          "output_type": "stream",
          "text": [
            "soft accu: 0.7773908989761447\n",
            "hard accu: 0.8277608915906788\n",
            "96 0.36111463511470104\n"
          ]
        },
        {
          "name": "stderr",
          "output_type": "stream",
          "text": [
            "/usr/local/lib/python3.7/dist-packages/ipykernel_launcher.py:19: DataConversionWarning: A column-vector y was passed when a 1d array was expected. Please change the shape of y to (n_samples,), for example using ravel().\n"
          ]
        },
        {
          "name": "stdout",
          "output_type": "stream",
          "text": [
            "soft accu: 0.7774132057472326\n",
            "hard accu: 0.8274231678486997\n",
            "97 0.361145312475729\n"
          ]
        },
        {
          "name": "stderr",
          "output_type": "stream",
          "text": [
            "/usr/local/lib/python3.7/dist-packages/ipykernel_launcher.py:19: DataConversionWarning: A column-vector y was passed when a 1d array was expected. Please change the shape of y to (n_samples,), for example using ravel().\n"
          ]
        },
        {
          "name": "stdout",
          "output_type": "stream",
          "text": [
            "soft accu: 0.77738504755618\n",
            "hard accu: 0.8270854441067207\n",
            "98 0.36113389390406103\n"
          ]
        },
        {
          "name": "stderr",
          "output_type": "stream",
          "text": [
            "/usr/local/lib/python3.7/dist-packages/ipykernel_launcher.py:19: DataConversionWarning: A column-vector y was passed when a 1d array was expected. Please change the shape of y to (n_samples,), for example using ravel().\n"
          ]
        },
        {
          "name": "stdout",
          "output_type": "stream",
          "text": [
            "soft accu: 0.777367912032487\n",
            "hard accu: 0.8277608915906788\n",
            "99 0.3611174190569024\n"
          ]
        },
        {
          "name": "stderr",
          "output_type": "stream",
          "text": [
            "/usr/local/lib/python3.7/dist-packages/ipykernel_launcher.py:19: DataConversionWarning: A column-vector y was passed when a 1d array was expected. Please change the shape of y to (n_samples,), for example using ravel().\n"
          ]
        },
        {
          "name": "stdout",
          "output_type": "stream",
          "text": [
            "soft accu: 0.7773354606728158\n",
            "hard accu: 0.8277608915906788\n",
            "100 0.361143475280655\n"
          ]
        },
        {
          "name": "stderr",
          "output_type": "stream",
          "text": [
            "/usr/local/lib/python3.7/dist-packages/ipykernel_launcher.py:19: DataConversionWarning: A column-vector y was passed when a 1d array was expected. Please change the shape of y to (n_samples,), for example using ravel().\n"
          ]
        },
        {
          "name": "stdout",
          "output_type": "stream",
          "text": [
            "soft accu: 0.7773378333752542\n",
            "hard accu: 0.8274231678486997\n",
            "101 0.36116897240590295\n"
          ]
        },
        {
          "name": "stderr",
          "output_type": "stream",
          "text": [
            "/usr/local/lib/python3.7/dist-packages/ipykernel_launcher.py:19: DataConversionWarning: A column-vector y was passed when a 1d array was expected. Please change the shape of y to (n_samples,), for example using ravel().\n"
          ]
        },
        {
          "name": "stdout",
          "output_type": "stream",
          "text": [
            "soft accu: 0.7773699493822661\n",
            "hard accu: 0.8277608915906788\n",
            "102 0.3611917944281317\n"
          ]
        },
        {
          "name": "stderr",
          "output_type": "stream",
          "text": [
            "/usr/local/lib/python3.7/dist-packages/ipykernel_launcher.py:19: DataConversionWarning: A column-vector y was passed when a 1d array was expected. Please change the shape of y to (n_samples,), for example using ravel().\n"
          ]
        },
        {
          "name": "stdout",
          "output_type": "stream",
          "text": [
            "soft accu: 0.7774016498963077\n",
            "hard accu: 0.8274231678486997\n",
            "103 0.3611933495791251\n"
          ]
        },
        {
          "name": "stderr",
          "output_type": "stream",
          "text": [
            "/usr/local/lib/python3.7/dist-packages/ipykernel_launcher.py:19: DataConversionWarning: A column-vector y was passed when a 1d array was expected. Please change the shape of y to (n_samples,), for example using ravel().\n"
          ]
        },
        {
          "name": "stdout",
          "output_type": "stream",
          "text": [
            "soft accu: 0.7774029337224351\n",
            "hard accu: 0.8274231678486997\n",
            "104 0.36119351100755115\n"
          ]
        },
        {
          "name": "stderr",
          "output_type": "stream",
          "text": [
            "/usr/local/lib/python3.7/dist-packages/ipykernel_launcher.py:19: DataConversionWarning: A column-vector y was passed when a 1d array was expected. Please change the shape of y to (n_samples,), for example using ravel().\n"
          ]
        },
        {
          "name": "stdout",
          "output_type": "stream",
          "text": [
            "soft accu: 0.7774997206748163\n",
            "hard accu: 0.8277608915906788\n",
            "105 0.3611935371695356\n"
          ]
        },
        {
          "name": "stderr",
          "output_type": "stream",
          "text": [
            "/usr/local/lib/python3.7/dist-packages/ipykernel_launcher.py:19: DataConversionWarning: A column-vector y was passed when a 1d array was expected. Please change the shape of y to (n_samples,), for example using ravel().\n"
          ]
        },
        {
          "name": "stdout",
          "output_type": "stream",
          "text": [
            "soft accu: 0.7774492132098243\n",
            "hard accu: 0.8274231678486997\n",
            "106 0.36117608710334537\n"
          ]
        },
        {
          "name": "stderr",
          "output_type": "stream",
          "text": [
            "/usr/local/lib/python3.7/dist-packages/ipykernel_launcher.py:19: DataConversionWarning: A column-vector y was passed when a 1d array was expected. Please change the shape of y to (n_samples,), for example using ravel().\n"
          ]
        },
        {
          "name": "stdout",
          "output_type": "stream",
          "text": [
            "soft accu: 0.7774923882956379\n",
            "hard accu: 0.8270854441067207\n",
            "107 0.3611501634201851\n"
          ]
        },
        {
          "name": "stderr",
          "output_type": "stream",
          "text": [
            "/usr/local/lib/python3.7/dist-packages/ipykernel_launcher.py:19: DataConversionWarning: A column-vector y was passed when a 1d array was expected. Please change the shape of y to (n_samples,), for example using ravel().\n"
          ]
        },
        {
          "name": "stdout",
          "output_type": "stream",
          "text": [
            "soft accu: 0.7775285241534104\n",
            "hard accu: 0.8270854441067207\n",
            "108 0.3611662889759912\n"
          ]
        },
        {
          "name": "stderr",
          "output_type": "stream",
          "text": [
            "/usr/local/lib/python3.7/dist-packages/ipykernel_launcher.py:19: DataConversionWarning: A column-vector y was passed when a 1d array was expected. Please change the shape of y to (n_samples,), for example using ravel().\n"
          ]
        },
        {
          "name": "stdout",
          "output_type": "stream",
          "text": [
            "soft accu: 0.7775312023839779\n",
            "hard accu: 0.8270854441067207\n",
            "109 0.36121103585024883\n"
          ]
        },
        {
          "name": "stderr",
          "output_type": "stream",
          "text": [
            "/usr/local/lib/python3.7/dist-packages/ipykernel_launcher.py:19: DataConversionWarning: A column-vector y was passed when a 1d array was expected. Please change the shape of y to (n_samples,), for example using ravel().\n"
          ]
        },
        {
          "name": "stdout",
          "output_type": "stream",
          "text": [
            "soft accu: 0.777487940135418\n",
            "hard accu: 0.8274231678486997\n",
            "110 0.3612663493361309\n"
          ]
        },
        {
          "name": "stderr",
          "output_type": "stream",
          "text": [
            "/usr/local/lib/python3.7/dist-packages/ipykernel_launcher.py:19: DataConversionWarning: A column-vector y was passed when a 1d array was expected. Please change the shape of y to (n_samples,), for example using ravel().\n"
          ]
        },
        {
          "name": "stdout",
          "output_type": "stream",
          "text": [
            "soft accu: 0.7775181372164419\n",
            "hard accu: 0.8267477203647416\n",
            "111 0.3612517527512341\n"
          ]
        },
        {
          "name": "stderr",
          "output_type": "stream",
          "text": [
            "/usr/local/lib/python3.7/dist-packages/ipykernel_launcher.py:19: DataConversionWarning: A column-vector y was passed when a 1d array was expected. Please change the shape of y to (n_samples,), for example using ravel().\n"
          ]
        },
        {
          "name": "stdout",
          "output_type": "stream",
          "text": [
            "soft accu: 0.7774903542500291\n",
            "hard accu: 0.8267477203647416\n",
            "112 0.36123439654595696\n"
          ]
        },
        {
          "name": "stderr",
          "output_type": "stream",
          "text": [
            "/usr/local/lib/python3.7/dist-packages/ipykernel_launcher.py:19: DataConversionWarning: A column-vector y was passed when a 1d array was expected. Please change the shape of y to (n_samples,), for example using ravel().\n"
          ]
        },
        {
          "name": "stdout",
          "output_type": "stream",
          "text": [
            "soft accu: 0.7774973093162082\n",
            "hard accu: 0.8270854441067207\n",
            "113 0.3611823542610978\n"
          ]
        },
        {
          "name": "stderr",
          "output_type": "stream",
          "text": [
            "/usr/local/lib/python3.7/dist-packages/ipykernel_launcher.py:19: DataConversionWarning: A column-vector y was passed when a 1d array was expected. Please change the shape of y to (n_samples,), for example using ravel().\n"
          ]
        },
        {
          "name": "stdout",
          "output_type": "stream",
          "text": [
            "soft accu: 0.7775308477952545\n",
            "hard accu: 0.8267477203647416\n",
            "114 0.36118873637989174\n"
          ]
        },
        {
          "name": "stderr",
          "output_type": "stream",
          "text": [
            "/usr/local/lib/python3.7/dist-packages/ipykernel_launcher.py:19: DataConversionWarning: A column-vector y was passed when a 1d array was expected. Please change the shape of y to (n_samples,), for example using ravel().\n"
          ]
        },
        {
          "name": "stdout",
          "output_type": "stream",
          "text": [
            "soft accu: 0.7775114902073339\n",
            "hard accu: 0.8267477203647416\n",
            "115 0.36122112503804527\n"
          ]
        },
        {
          "name": "stderr",
          "output_type": "stream",
          "text": [
            "/usr/local/lib/python3.7/dist-packages/ipykernel_launcher.py:19: DataConversionWarning: A column-vector y was passed when a 1d array was expected. Please change the shape of y to (n_samples,), for example using ravel().\n"
          ]
        },
        {
          "name": "stdout",
          "output_type": "stream",
          "text": [
            "soft accu: 0.7774527428013691\n",
            "hard accu: 0.8270854441067207\n",
            "116 0.361240728734082\n"
          ]
        },
        {
          "name": "stderr",
          "output_type": "stream",
          "text": [
            "/usr/local/lib/python3.7/dist-packages/ipykernel_launcher.py:19: DataConversionWarning: A column-vector y was passed when a 1d array was expected. Please change the shape of y to (n_samples,), for example using ravel().\n"
          ]
        },
        {
          "name": "stdout",
          "output_type": "stream",
          "text": [
            "soft accu: 0.7774516446103317\n",
            "hard accu: 0.8274231678486997\n",
            "117 0.36122928340512833\n"
          ]
        },
        {
          "name": "stderr",
          "output_type": "stream",
          "text": [
            "/usr/local/lib/python3.7/dist-packages/ipykernel_launcher.py:19: DataConversionWarning: A column-vector y was passed when a 1d array was expected. Please change the shape of y to (n_samples,), for example using ravel().\n"
          ]
        },
        {
          "name": "stdout",
          "output_type": "stream",
          "text": [
            "soft accu: 0.7774277035746672\n",
            "hard accu: 0.8270854441067207\n",
            "118 0.3612421047132628\n"
          ]
        },
        {
          "name": "stderr",
          "output_type": "stream",
          "text": [
            "/usr/local/lib/python3.7/dist-packages/ipykernel_launcher.py:19: DataConversionWarning: A column-vector y was passed when a 1d array was expected. Please change the shape of y to (n_samples,), for example using ravel().\n"
          ]
        },
        {
          "name": "stdout",
          "output_type": "stream",
          "text": [
            "soft accu: 0.7774271251325475\n",
            "hard accu: 0.8270854441067207\n",
            "119 0.3612290938972721\n"
          ]
        },
        {
          "name": "stderr",
          "output_type": "stream",
          "text": [
            "/usr/local/lib/python3.7/dist-packages/ipykernel_launcher.py:19: DataConversionWarning: A column-vector y was passed when a 1d array was expected. Please change the shape of y to (n_samples,), for example using ravel().\n"
          ]
        },
        {
          "name": "stdout",
          "output_type": "stream",
          "text": [
            "soft accu: 0.7774110073630648\n",
            "hard accu: 0.8267477203647416\n",
            "120 0.3612818620159406\n"
          ]
        },
        {
          "name": "stderr",
          "output_type": "stream",
          "text": [
            "/usr/local/lib/python3.7/dist-packages/ipykernel_launcher.py:19: DataConversionWarning: A column-vector y was passed when a 1d array was expected. Please change the shape of y to (n_samples,), for example using ravel().\n"
          ]
        },
        {
          "name": "stdout",
          "output_type": "stream",
          "text": [
            "soft accu: 0.7773842638380926\n",
            "hard accu: 0.8270854441067207\n",
            "121 0.36126814371425975\n"
          ]
        },
        {
          "name": "stderr",
          "output_type": "stream",
          "text": [
            "/usr/local/lib/python3.7/dist-packages/ipykernel_launcher.py:19: DataConversionWarning: A column-vector y was passed when a 1d array was expected. Please change the shape of y to (n_samples,), for example using ravel().\n"
          ]
        },
        {
          "name": "stdout",
          "output_type": "stream",
          "text": [
            "soft accu: 0.7774128674149947\n",
            "hard accu: 0.8267477203647416\n",
            "122 0.3612413662061972\n"
          ]
        },
        {
          "name": "stderr",
          "output_type": "stream",
          "text": [
            "/usr/local/lib/python3.7/dist-packages/ipykernel_launcher.py:19: DataConversionWarning: A column-vector y was passed when a 1d array was expected. Please change the shape of y to (n_samples,), for example using ravel().\n"
          ]
        },
        {
          "name": "stdout",
          "output_type": "stream",
          "text": [
            "soft accu: 0.7774221889787186\n",
            "hard accu: 0.8270854441067207\n",
            "123 0.3612209913662725\n"
          ]
        },
        {
          "name": "stderr",
          "output_type": "stream",
          "text": [
            "/usr/local/lib/python3.7/dist-packages/ipykernel_launcher.py:19: DataConversionWarning: A column-vector y was passed when a 1d array was expected. Please change the shape of y to (n_samples,), for example using ravel().\n"
          ]
        },
        {
          "name": "stdout",
          "output_type": "stream",
          "text": [
            "soft accu: 0.7774171649451145\n",
            "hard accu: 0.8264099966227626\n",
            "124 0.3611961480749097\n"
          ]
        },
        {
          "name": "stderr",
          "output_type": "stream",
          "text": [
            "/usr/local/lib/python3.7/dist-packages/ipykernel_launcher.py:19: DataConversionWarning: A column-vector y was passed when a 1d array was expected. Please change the shape of y to (n_samples,), for example using ravel().\n"
          ]
        },
        {
          "name": "stdout",
          "output_type": "stream",
          "text": [
            "soft accu: 0.7774637180890961\n",
            "hard accu: 0.8270854441067207\n",
            "125 0.36119639217364063\n"
          ]
        },
        {
          "name": "stderr",
          "output_type": "stream",
          "text": [
            "/usr/local/lib/python3.7/dist-packages/ipykernel_launcher.py:19: DataConversionWarning: A column-vector y was passed when a 1d array was expected. Please change the shape of y to (n_samples,), for example using ravel().\n"
          ]
        },
        {
          "name": "stdout",
          "output_type": "stream",
          "text": [
            "soft accu: 0.7774279285769522\n",
            "hard accu: 0.8270854441067207\n",
            "126 0.3611893593331185\n"
          ]
        },
        {
          "name": "stderr",
          "output_type": "stream",
          "text": [
            "/usr/local/lib/python3.7/dist-packages/ipykernel_launcher.py:19: DataConversionWarning: A column-vector y was passed when a 1d array was expected. Please change the shape of y to (n_samples,), for example using ravel().\n"
          ]
        },
        {
          "name": "stdout",
          "output_type": "stream",
          "text": [
            "soft accu: 0.7774512949593739\n",
            "hard accu: 0.8270854441067207\n",
            "127 0.36122882287633523\n"
          ]
        },
        {
          "name": "stderr",
          "output_type": "stream",
          "text": [
            "/usr/local/lib/python3.7/dist-packages/ipykernel_launcher.py:19: DataConversionWarning: A column-vector y was passed when a 1d array was expected. Please change the shape of y to (n_samples,), for example using ravel().\n"
          ]
        },
        {
          "name": "stdout",
          "output_type": "stream",
          "text": [
            "soft accu: 0.777458692859371\n",
            "hard accu: 0.8270854441067207\n",
            "128 0.3612316142110058\n"
          ]
        },
        {
          "name": "stderr",
          "output_type": "stream",
          "text": [
            "/usr/local/lib/python3.7/dist-packages/ipykernel_launcher.py:19: DataConversionWarning: A column-vector y was passed when a 1d array was expected. Please change the shape of y to (n_samples,), for example using ravel().\n"
          ]
        },
        {
          "name": "stdout",
          "output_type": "stream",
          "text": [
            "soft accu: 0.7774533042062162\n",
            "hard accu: 0.8267477203647416\n",
            "129 0.36124180363495206\n"
          ]
        },
        {
          "name": "stderr",
          "output_type": "stream",
          "text": [
            "/usr/local/lib/python3.7/dist-packages/ipykernel_launcher.py:19: DataConversionWarning: A column-vector y was passed when a 1d array was expected. Please change the shape of y to (n_samples,), for example using ravel().\n"
          ]
        },
        {
          "name": "stdout",
          "output_type": "stream",
          "text": [
            "soft accu: 0.7774880714284483\n",
            "hard accu: 0.8267477203647416\n",
            "130 0.3612420320767929\n"
          ]
        },
        {
          "name": "stderr",
          "output_type": "stream",
          "text": [
            "/usr/local/lib/python3.7/dist-packages/ipykernel_launcher.py:19: DataConversionWarning: A column-vector y was passed when a 1d array was expected. Please change the shape of y to (n_samples,), for example using ravel().\n"
          ]
        },
        {
          "name": "stdout",
          "output_type": "stream",
          "text": [
            "soft accu: 0.7774250879488545\n",
            "hard accu: 0.8267477203647416\n",
            "131 0.3612392006561662\n"
          ]
        },
        {
          "name": "stderr",
          "output_type": "stream",
          "text": [
            "/usr/local/lib/python3.7/dist-packages/ipykernel_launcher.py:19: DataConversionWarning: A column-vector y was passed when a 1d array was expected. Please change the shape of y to (n_samples,), for example using ravel().\n"
          ]
        },
        {
          "name": "stdout",
          "output_type": "stream",
          "text": [
            "soft accu: 0.7774370517135816\n",
            "hard accu: 0.8270854441067207\n",
            "132 0.3612698905867863\n"
          ]
        },
        {
          "name": "stderr",
          "output_type": "stream",
          "text": [
            "/usr/local/lib/python3.7/dist-packages/ipykernel_launcher.py:19: DataConversionWarning: A column-vector y was passed when a 1d array was expected. Please change the shape of y to (n_samples,), for example using ravel().\n"
          ]
        },
        {
          "name": "stdout",
          "output_type": "stream",
          "text": [
            "soft accu: 0.7774134437985709\n",
            "hard accu: 0.8267477203647416\n",
            "133 0.3612732847689722\n"
          ]
        },
        {
          "name": "stderr",
          "output_type": "stream",
          "text": [
            "/usr/local/lib/python3.7/dist-packages/ipykernel_launcher.py:19: DataConversionWarning: A column-vector y was passed when a 1d array was expected. Please change the shape of y to (n_samples,), for example using ravel().\n"
          ]
        },
        {
          "name": "stdout",
          "output_type": "stream",
          "text": [
            "soft accu: 0.7774403795500578\n",
            "hard accu: 0.8270854441067207\n",
            "134 0.36126044475053437\n"
          ]
        },
        {
          "name": "stderr",
          "output_type": "stream",
          "text": [
            "/usr/local/lib/python3.7/dist-packages/ipykernel_launcher.py:19: DataConversionWarning: A column-vector y was passed when a 1d array was expected. Please change the shape of y to (n_samples,), for example using ravel().\n"
          ]
        },
        {
          "name": "stdout",
          "output_type": "stream",
          "text": [
            "soft accu: 0.777422336098172\n",
            "hard accu: 0.8267477203647416\n",
            "135 0.36128070243908716\n"
          ]
        },
        {
          "name": "stderr",
          "output_type": "stream",
          "text": [
            "/usr/local/lib/python3.7/dist-packages/ipykernel_launcher.py:19: DataConversionWarning: A column-vector y was passed when a 1d array was expected. Please change the shape of y to (n_samples,), for example using ravel().\n"
          ]
        },
        {
          "name": "stdout",
          "output_type": "stream",
          "text": [
            "soft accu: 0.7774091974926242\n",
            "hard accu: 0.8264099966227626\n",
            "136 0.3612795839226227\n"
          ]
        },
        {
          "name": "stderr",
          "output_type": "stream",
          "text": [
            "/usr/local/lib/python3.7/dist-packages/ipykernel_launcher.py:19: DataConversionWarning: A column-vector y was passed when a 1d array was expected. Please change the shape of y to (n_samples,), for example using ravel().\n"
          ]
        },
        {
          "name": "stdout",
          "output_type": "stream",
          "text": [
            "soft accu: 0.7774100840195681\n",
            "hard accu: 0.8264099966227626\n",
            "137 0.36128758229730695\n"
          ]
        },
        {
          "name": "stderr",
          "output_type": "stream",
          "text": [
            "/usr/local/lib/python3.7/dist-packages/ipykernel_launcher.py:19: DataConversionWarning: A column-vector y was passed when a 1d array was expected. Please change the shape of y to (n_samples,), for example using ravel().\n"
          ]
        },
        {
          "name": "stdout",
          "output_type": "stream",
          "text": [
            "soft accu: 0.7774467890885166\n",
            "hard accu: 0.8264099966227626\n",
            "138 0.36124918233732745\n"
          ]
        },
        {
          "name": "stderr",
          "output_type": "stream",
          "text": [
            "/usr/local/lib/python3.7/dist-packages/ipykernel_launcher.py:19: DataConversionWarning: A column-vector y was passed when a 1d array was expected. Please change the shape of y to (n_samples,), for example using ravel().\n"
          ]
        },
        {
          "name": "stdout",
          "output_type": "stream",
          "text": [
            "soft accu: 0.7774591706130393\n",
            "hard accu: 0.8267477203647416\n",
            "139 0.3612611710000236\n"
          ]
        },
        {
          "name": "stderr",
          "output_type": "stream",
          "text": [
            "/usr/local/lib/python3.7/dist-packages/ipykernel_launcher.py:19: DataConversionWarning: A column-vector y was passed when a 1d array was expected. Please change the shape of y to (n_samples,), for example using ravel().\n"
          ]
        },
        {
          "name": "stdout",
          "output_type": "stream",
          "text": [
            "soft accu: 0.7774235154425522\n",
            "hard accu: 0.8264099966227626\n",
            "140 0.36128150360075245\n"
          ]
        },
        {
          "name": "stderr",
          "output_type": "stream",
          "text": [
            "/usr/local/lib/python3.7/dist-packages/ipykernel_launcher.py:19: DataConversionWarning: A column-vector y was passed when a 1d array was expected. Please change the shape of y to (n_samples,), for example using ravel().\n"
          ]
        },
        {
          "name": "stdout",
          "output_type": "stream",
          "text": [
            "soft accu: 0.7774083516520978\n",
            "hard accu: 0.8264099966227626\n",
            "141 0.36128955490751025\n"
          ]
        },
        {
          "name": "stderr",
          "output_type": "stream",
          "text": [
            "/usr/local/lib/python3.7/dist-packages/ipykernel_launcher.py:19: DataConversionWarning: A column-vector y was passed when a 1d array was expected. Please change the shape of y to (n_samples,), for example using ravel().\n"
          ]
        },
        {
          "name": "stdout",
          "output_type": "stream",
          "text": [
            "soft accu: 0.7774266948049983\n",
            "hard accu: 0.8260722728807836\n",
            "142 0.36127401867768266\n"
          ]
        },
        {
          "name": "stderr",
          "output_type": "stream",
          "text": [
            "/usr/local/lib/python3.7/dist-packages/ipykernel_launcher.py:19: DataConversionWarning: A column-vector y was passed when a 1d array was expected. Please change the shape of y to (n_samples,), for example using ravel().\n"
          ]
        },
        {
          "name": "stdout",
          "output_type": "stream",
          "text": [
            "soft accu: 0.7774275826931007\n",
            "hard accu: 0.8260722728807836\n",
            "143 0.36127586396868255\n"
          ]
        },
        {
          "name": "stderr",
          "output_type": "stream",
          "text": [
            "/usr/local/lib/python3.7/dist-packages/ipykernel_launcher.py:19: DataConversionWarning: A column-vector y was passed when a 1d array was expected. Please change the shape of y to (n_samples,), for example using ravel().\n"
          ]
        },
        {
          "name": "stdout",
          "output_type": "stream",
          "text": [
            "soft accu: 0.7774152117503778\n",
            "hard accu: 0.8260722728807836\n",
            "144 0.36129493764306847\n"
          ]
        },
        {
          "name": "stderr",
          "output_type": "stream",
          "text": [
            "/usr/local/lib/python3.7/dist-packages/ipykernel_launcher.py:19: DataConversionWarning: A column-vector y was passed when a 1d array was expected. Please change the shape of y to (n_samples,), for example using ravel().\n"
          ]
        },
        {
          "name": "stdout",
          "output_type": "stream",
          "text": [
            "soft accu: 0.777419527428101\n",
            "hard accu: 0.8264099966227626\n",
            "145 0.3612665879860146\n"
          ]
        },
        {
          "name": "stderr",
          "output_type": "stream",
          "text": [
            "/usr/local/lib/python3.7/dist-packages/ipykernel_launcher.py:19: DataConversionWarning: A column-vector y was passed when a 1d array was expected. Please change the shape of y to (n_samples,), for example using ravel().\n"
          ]
        },
        {
          "name": "stdout",
          "output_type": "stream",
          "text": [
            "soft accu: 0.7773891759546143\n",
            "hard accu: 0.8264099966227626\n",
            "146 0.3612806594988848\n"
          ]
        },
        {
          "name": "stderr",
          "output_type": "stream",
          "text": [
            "/usr/local/lib/python3.7/dist-packages/ipykernel_launcher.py:19: DataConversionWarning: A column-vector y was passed when a 1d array was expected. Please change the shape of y to (n_samples,), for example using ravel().\n"
          ]
        },
        {
          "name": "stdout",
          "output_type": "stream",
          "text": [
            "soft accu: 0.7773896568562111\n",
            "hard accu: 0.8267477203647416\n",
            "147 0.3612474873748969\n"
          ]
        },
        {
          "name": "stderr",
          "output_type": "stream",
          "text": [
            "/usr/local/lib/python3.7/dist-packages/ipykernel_launcher.py:19: DataConversionWarning: A column-vector y was passed when a 1d array was expected. Please change the shape of y to (n_samples,), for example using ravel().\n"
          ]
        },
        {
          "name": "stdout",
          "output_type": "stream",
          "text": [
            "soft accu: 0.7774121075685105\n",
            "hard accu: 0.8267477203647416\n",
            "148 0.36128350000996917\n"
          ]
        },
        {
          "name": "stderr",
          "output_type": "stream",
          "text": [
            "/usr/local/lib/python3.7/dist-packages/ipykernel_launcher.py:19: DataConversionWarning: A column-vector y was passed when a 1d array was expected. Please change the shape of y to (n_samples,), for example using ravel().\n"
          ]
        },
        {
          "name": "stdout",
          "output_type": "stream",
          "text": [
            "soft accu: 0.7774160086829871\n",
            "hard accu: 0.8270854441067207\n",
            "149 0.3612756569784878\n"
          ]
        },
        {
          "name": "stderr",
          "output_type": "stream",
          "text": [
            "/usr/local/lib/python3.7/dist-packages/ipykernel_launcher.py:19: DataConversionWarning: A column-vector y was passed when a 1d array was expected. Please change the shape of y to (n_samples,), for example using ravel().\n"
          ]
        },
        {
          "name": "stdout",
          "output_type": "stream",
          "text": [
            "soft accu: 0.777403085599077\n",
            "hard accu: 0.8264099966227626\n",
            "150 0.3612523346392968\n"
          ]
        },
        {
          "name": "stderr",
          "output_type": "stream",
          "text": [
            "/usr/local/lib/python3.7/dist-packages/ipykernel_launcher.py:19: DataConversionWarning: A column-vector y was passed when a 1d array was expected. Please change the shape of y to (n_samples,), for example using ravel().\n"
          ]
        },
        {
          "name": "stdout",
          "output_type": "stream",
          "text": [
            "soft accu: 0.777374647178796\n",
            "hard accu: 0.8260722728807836\n",
            "151 0.3612308260728372\n"
          ]
        },
        {
          "name": "stderr",
          "output_type": "stream",
          "text": [
            "/usr/local/lib/python3.7/dist-packages/ipykernel_launcher.py:19: DataConversionWarning: A column-vector y was passed when a 1d array was expected. Please change the shape of y to (n_samples,), for example using ravel().\n"
          ]
        },
        {
          "name": "stdout",
          "output_type": "stream",
          "text": [
            "soft accu: 0.7773489346898669\n",
            "hard accu: 0.8260722728807836\n",
            "152 0.3612361378464242\n"
          ]
        },
        {
          "name": "stderr",
          "output_type": "stream",
          "text": [
            "/usr/local/lib/python3.7/dist-packages/ipykernel_launcher.py:19: DataConversionWarning: A column-vector y was passed when a 1d array was expected. Please change the shape of y to (n_samples,), for example using ravel().\n"
          ]
        },
        {
          "name": "stdout",
          "output_type": "stream",
          "text": [
            "soft accu: 0.777326168009138\n",
            "hard accu: 0.8257345491388045\n",
            "153 0.36126663311040275\n"
          ]
        },
        {
          "name": "stderr",
          "output_type": "stream",
          "text": [
            "/usr/local/lib/python3.7/dist-packages/ipykernel_launcher.py:19: DataConversionWarning: A column-vector y was passed when a 1d array was expected. Please change the shape of y to (n_samples,), for example using ravel().\n"
          ]
        },
        {
          "name": "stdout",
          "output_type": "stream",
          "text": [
            "soft accu: 0.7773026942394781\n",
            "hard accu: 0.8260722728807836\n",
            "154 0.36126684254253544\n"
          ]
        },
        {
          "name": "stderr",
          "output_type": "stream",
          "text": [
            "/usr/local/lib/python3.7/dist-packages/ipykernel_launcher.py:19: DataConversionWarning: A column-vector y was passed when a 1d array was expected. Please change the shape of y to (n_samples,), for example using ravel().\n"
          ]
        },
        {
          "name": "stdout",
          "output_type": "stream",
          "text": [
            "soft accu: 0.7773154286360293\n",
            "hard accu: 0.8264099966227626\n",
            "155 0.3612571155553906\n"
          ]
        },
        {
          "name": "stderr",
          "output_type": "stream",
          "text": [
            "/usr/local/lib/python3.7/dist-packages/ipykernel_launcher.py:19: DataConversionWarning: A column-vector y was passed when a 1d array was expected. Please change the shape of y to (n_samples,), for example using ravel().\n"
          ]
        },
        {
          "name": "stdout",
          "output_type": "stream",
          "text": [
            "soft accu: 0.7773023944149936\n",
            "hard accu: 0.8264099966227626\n",
            "156 0.3612307763928367\n"
          ]
        },
        {
          "name": "stderr",
          "output_type": "stream",
          "text": [
            "/usr/local/lib/python3.7/dist-packages/ipykernel_launcher.py:19: DataConversionWarning: A column-vector y was passed when a 1d array was expected. Please change the shape of y to (n_samples,), for example using ravel().\n"
          ]
        },
        {
          "name": "stdout",
          "output_type": "stream",
          "text": [
            "soft accu: 0.7772790867959839\n",
            "hard accu: 0.8257345491388045\n",
            "157 0.3612231046800392\n"
          ]
        },
        {
          "name": "stderr",
          "output_type": "stream",
          "text": [
            "/usr/local/lib/python3.7/dist-packages/ipykernel_launcher.py:19: DataConversionWarning: A column-vector y was passed when a 1d array was expected. Please change the shape of y to (n_samples,), for example using ravel().\n"
          ]
        },
        {
          "name": "stdout",
          "output_type": "stream",
          "text": [
            "soft accu: 0.7772586212575785\n",
            "hard accu: 0.8257345491388045\n",
            "158 0.36125511572418495\n"
          ]
        },
        {
          "name": "stderr",
          "output_type": "stream",
          "text": [
            "/usr/local/lib/python3.7/dist-packages/ipykernel_launcher.py:19: DataConversionWarning: A column-vector y was passed when a 1d array was expected. Please change the shape of y to (n_samples,), for example using ravel().\n"
          ]
        },
        {
          "name": "stdout",
          "output_type": "stream",
          "text": [
            "soft accu: 0.7772552327108052\n",
            "hard accu: 0.8257345491388045\n",
            "159 0.36126237075883816\n"
          ]
        },
        {
          "name": "stderr",
          "output_type": "stream",
          "text": [
            "/usr/local/lib/python3.7/dist-packages/ipykernel_launcher.py:19: DataConversionWarning: A column-vector y was passed when a 1d array was expected. Please change the shape of y to (n_samples,), for example using ravel().\n"
          ]
        },
        {
          "name": "stdout",
          "output_type": "stream",
          "text": [
            "soft accu: 0.7772842675831491\n",
            "hard accu: 0.8260722728807836\n",
            "160 0.36127211844130797\n"
          ]
        },
        {
          "name": "stderr",
          "output_type": "stream",
          "text": [
            "/usr/local/lib/python3.7/dist-packages/ipykernel_launcher.py:19: DataConversionWarning: A column-vector y was passed when a 1d array was expected. Please change the shape of y to (n_samples,), for example using ravel().\n"
          ]
        },
        {
          "name": "stdout",
          "output_type": "stream",
          "text": [
            "soft accu: 0.7772836414048943\n",
            "hard accu: 0.8260722728807836\n",
            "161 0.3612705765110799\n"
          ]
        },
        {
          "name": "stderr",
          "output_type": "stream",
          "text": [
            "/usr/local/lib/python3.7/dist-packages/ipykernel_launcher.py:19: DataConversionWarning: A column-vector y was passed when a 1d array was expected. Please change the shape of y to (n_samples,), for example using ravel().\n"
          ]
        },
        {
          "name": "stdout",
          "output_type": "stream",
          "text": [
            "soft accu: 0.7772945178308747\n",
            "hard accu: 0.8260722728807836\n",
            "162 0.36127139618389476\n"
          ]
        },
        {
          "name": "stderr",
          "output_type": "stream",
          "text": [
            "/usr/local/lib/python3.7/dist-packages/ipykernel_launcher.py:19: DataConversionWarning: A column-vector y was passed when a 1d array was expected. Please change the shape of y to (n_samples,), for example using ravel().\n"
          ]
        },
        {
          "name": "stdout",
          "output_type": "stream",
          "text": [
            "soft accu: 0.7772894059325828\n",
            "hard accu: 0.8267477203647416\n",
            "163 0.36128906706315916\n"
          ]
        },
        {
          "name": "stderr",
          "output_type": "stream",
          "text": [
            "/usr/local/lib/python3.7/dist-packages/ipykernel_launcher.py:19: DataConversionWarning: A column-vector y was passed when a 1d array was expected. Please change the shape of y to (n_samples,), for example using ravel().\n"
          ]
        },
        {
          "name": "stdout",
          "output_type": "stream",
          "text": [
            "soft accu: 0.7773097207412012\n",
            "hard accu: 0.8264099966227626\n",
            "164 0.3613187223098915\n"
          ]
        },
        {
          "name": "stderr",
          "output_type": "stream",
          "text": [
            "/usr/local/lib/python3.7/dist-packages/ipykernel_launcher.py:19: DataConversionWarning: A column-vector y was passed when a 1d array was expected. Please change the shape of y to (n_samples,), for example using ravel().\n"
          ]
        },
        {
          "name": "stdout",
          "output_type": "stream",
          "text": [
            "soft accu: 0.7772762807235827\n",
            "hard accu: 0.8264099966227626\n",
            "165 0.36134283788977656\n"
          ]
        },
        {
          "name": "stderr",
          "output_type": "stream",
          "text": [
            "/usr/local/lib/python3.7/dist-packages/ipykernel_launcher.py:19: DataConversionWarning: A column-vector y was passed when a 1d array was expected. Please change the shape of y to (n_samples,), for example using ravel().\n"
          ]
        },
        {
          "name": "stdout",
          "output_type": "stream",
          "text": [
            "soft accu: 0.7772707332646949\n",
            "hard accu: 0.8264099966227626\n",
            "166 0.36135223562837837\n"
          ]
        },
        {
          "name": "stderr",
          "output_type": "stream",
          "text": [
            "/usr/local/lib/python3.7/dist-packages/ipykernel_launcher.py:19: DataConversionWarning: A column-vector y was passed when a 1d array was expected. Please change the shape of y to (n_samples,), for example using ravel().\n"
          ]
        },
        {
          "name": "stdout",
          "output_type": "stream",
          "text": [
            "soft accu: 0.7772477242795597\n",
            "hard accu: 0.8264099966227626\n",
            "167 0.3613453964148992\n"
          ]
        },
        {
          "name": "stderr",
          "output_type": "stream",
          "text": [
            "/usr/local/lib/python3.7/dist-packages/ipykernel_launcher.py:19: DataConversionWarning: A column-vector y was passed when a 1d array was expected. Please change the shape of y to (n_samples,), for example using ravel().\n"
          ]
        },
        {
          "name": "stdout",
          "output_type": "stream",
          "text": [
            "soft accu: 0.7772633024779134\n",
            "hard accu: 0.8260722728807836\n",
            "168 0.36131888780491217\n"
          ]
        },
        {
          "name": "stderr",
          "output_type": "stream",
          "text": [
            "/usr/local/lib/python3.7/dist-packages/ipykernel_launcher.py:19: DataConversionWarning: A column-vector y was passed when a 1d array was expected. Please change the shape of y to (n_samples,), for example using ravel().\n"
          ]
        },
        {
          "name": "stdout",
          "output_type": "stream",
          "text": [
            "soft accu: 0.7773083189496568\n",
            "hard accu: 0.8260722728807836\n",
            "169 0.36132851500009133\n"
          ]
        },
        {
          "name": "stderr",
          "output_type": "stream",
          "text": [
            "/usr/local/lib/python3.7/dist-packages/ipykernel_launcher.py:19: DataConversionWarning: A column-vector y was passed when a 1d array was expected. Please change the shape of y to (n_samples,), for example using ravel().\n"
          ]
        },
        {
          "name": "stdout",
          "output_type": "stream",
          "text": [
            "soft accu: 0.7773110927386002\n",
            "hard accu: 0.8257345491388045\n",
            "170 0.36132441422097056\n"
          ]
        },
        {
          "name": "stderr",
          "output_type": "stream",
          "text": [
            "/usr/local/lib/python3.7/dist-packages/ipykernel_launcher.py:19: DataConversionWarning: A column-vector y was passed when a 1d array was expected. Please change the shape of y to (n_samples,), for example using ravel().\n"
          ]
        },
        {
          "name": "stdout",
          "output_type": "stream",
          "text": [
            "soft accu: 0.7773141087358648\n",
            "hard accu: 0.8260722728807836\n",
            "171 0.3613231589945218\n"
          ]
        },
        {
          "name": "stderr",
          "output_type": "stream",
          "text": [
            "/usr/local/lib/python3.7/dist-packages/ipykernel_launcher.py:19: DataConversionWarning: A column-vector y was passed when a 1d array was expected. Please change the shape of y to (n_samples,), for example using ravel().\n"
          ]
        },
        {
          "name": "stdout",
          "output_type": "stream",
          "text": [
            "soft accu: 0.7773146894719115\n",
            "hard accu: 0.8260722728807836\n",
            "172 0.3613221281845458\n"
          ]
        },
        {
          "name": "stderr",
          "output_type": "stream",
          "text": [
            "/usr/local/lib/python3.7/dist-packages/ipykernel_launcher.py:19: DataConversionWarning: A column-vector y was passed when a 1d array was expected. Please change the shape of y to (n_samples,), for example using ravel().\n"
          ]
        },
        {
          "name": "stdout",
          "output_type": "stream",
          "text": [
            "soft accu: 0.7772885069194342\n",
            "hard accu: 0.8267477203647416\n",
            "173 0.36132284656876296\n"
          ]
        },
        {
          "name": "stderr",
          "output_type": "stream",
          "text": [
            "/usr/local/lib/python3.7/dist-packages/ipykernel_launcher.py:19: DataConversionWarning: A column-vector y was passed when a 1d array was expected. Please change the shape of y to (n_samples,), for example using ravel().\n"
          ]
        },
        {
          "name": "stdout",
          "output_type": "stream",
          "text": [
            "soft accu: 0.7772858997717943\n",
            "hard accu: 0.8267477203647416\n",
            "174 0.361343841467922\n"
          ]
        },
        {
          "name": "stderr",
          "output_type": "stream",
          "text": [
            "/usr/local/lib/python3.7/dist-packages/ipykernel_launcher.py:19: DataConversionWarning: A column-vector y was passed when a 1d array was expected. Please change the shape of y to (n_samples,), for example using ravel().\n"
          ]
        },
        {
          "name": "stdout",
          "output_type": "stream",
          "text": [
            "soft accu: 0.7772956051070754\n",
            "hard accu: 0.8264099966227626\n",
            "175 0.3613565755609025\n"
          ]
        },
        {
          "name": "stderr",
          "output_type": "stream",
          "text": [
            "/usr/local/lib/python3.7/dist-packages/ipykernel_launcher.py:19: DataConversionWarning: A column-vector y was passed when a 1d array was expected. Please change the shape of y to (n_samples,), for example using ravel().\n"
          ]
        },
        {
          "name": "stdout",
          "output_type": "stream",
          "text": [
            "soft accu: 0.7773146793945963\n",
            "hard accu: 0.8264099966227626\n",
            "176 0.36135643317205185\n"
          ]
        },
        {
          "name": "stderr",
          "output_type": "stream",
          "text": [
            "/usr/local/lib/python3.7/dist-packages/ipykernel_launcher.py:19: DataConversionWarning: A column-vector y was passed when a 1d array was expected. Please change the shape of y to (n_samples,), for example using ravel().\n"
          ]
        },
        {
          "name": "stdout",
          "output_type": "stream",
          "text": [
            "soft accu: 0.7772784684527592\n",
            "hard accu: 0.8267477203647416\n",
            "177 0.36136861859660735\n"
          ]
        },
        {
          "name": "stderr",
          "output_type": "stream",
          "text": [
            "/usr/local/lib/python3.7/dist-packages/ipykernel_launcher.py:19: DataConversionWarning: A column-vector y was passed when a 1d array was expected. Please change the shape of y to (n_samples,), for example using ravel().\n"
          ]
        },
        {
          "name": "stdout",
          "output_type": "stream",
          "text": [
            "soft accu: 0.7772453927852861\n",
            "hard accu: 0.8267477203647416\n",
            "178 0.3613729846420978\n"
          ]
        },
        {
          "name": "stderr",
          "output_type": "stream",
          "text": [
            "/usr/local/lib/python3.7/dist-packages/ipykernel_launcher.py:19: DataConversionWarning: A column-vector y was passed when a 1d array was expected. Please change the shape of y to (n_samples,), for example using ravel().\n"
          ]
        },
        {
          "name": "stdout",
          "output_type": "stream",
          "text": [
            "soft accu: 0.7772407047830726\n",
            "hard accu: 0.8264099966227626\n",
            "179 0.3613615358270177\n"
          ]
        },
        {
          "name": "stderr",
          "output_type": "stream",
          "text": [
            "/usr/local/lib/python3.7/dist-packages/ipykernel_launcher.py:19: DataConversionWarning: A column-vector y was passed when a 1d array was expected. Please change the shape of y to (n_samples,), for example using ravel().\n"
          ]
        },
        {
          "name": "stdout",
          "output_type": "stream",
          "text": [
            "soft accu: 0.7772114930884337\n",
            "hard accu: 0.8264099966227626\n",
            "180 0.36136793315722865\n"
          ]
        },
        {
          "name": "stderr",
          "output_type": "stream",
          "text": [
            "/usr/local/lib/python3.7/dist-packages/ipykernel_launcher.py:19: DataConversionWarning: A column-vector y was passed when a 1d array was expected. Please change the shape of y to (n_samples,), for example using ravel().\n"
          ]
        },
        {
          "name": "stdout",
          "output_type": "stream",
          "text": [
            "soft accu: 0.777227484238559\n",
            "hard accu: 0.8264099966227626\n",
            "181 0.3613694624507634\n"
          ]
        },
        {
          "name": "stderr",
          "output_type": "stream",
          "text": [
            "/usr/local/lib/python3.7/dist-packages/ipykernel_launcher.py:19: DataConversionWarning: A column-vector y was passed when a 1d array was expected. Please change the shape of y to (n_samples,), for example using ravel().\n"
          ]
        },
        {
          "name": "stdout",
          "output_type": "stream",
          "text": [
            "soft accu: 0.7772103076701862\n",
            "hard accu: 0.8270854441067207\n",
            "182 0.3613607562377638\n"
          ]
        },
        {
          "name": "stderr",
          "output_type": "stream",
          "text": [
            "/usr/local/lib/python3.7/dist-packages/ipykernel_launcher.py:19: DataConversionWarning: A column-vector y was passed when a 1d array was expected. Please change the shape of y to (n_samples,), for example using ravel().\n"
          ]
        },
        {
          "name": "stdout",
          "output_type": "stream",
          "text": [
            "soft accu: 0.777220801941139\n",
            "hard accu: 0.8260722728807836\n",
            "183 0.36136965845077645\n"
          ]
        },
        {
          "name": "stderr",
          "output_type": "stream",
          "text": [
            "/usr/local/lib/python3.7/dist-packages/ipykernel_launcher.py:19: DataConversionWarning: A column-vector y was passed when a 1d array was expected. Please change the shape of y to (n_samples,), for example using ravel().\n"
          ]
        },
        {
          "name": "stdout",
          "output_type": "stream",
          "text": [
            "soft accu: 0.7772244927881318\n",
            "hard accu: 0.8260722728807836\n",
            "184 0.3613781110732118\n"
          ]
        },
        {
          "name": "stderr",
          "output_type": "stream",
          "text": [
            "/usr/local/lib/python3.7/dist-packages/ipykernel_launcher.py:19: DataConversionWarning: A column-vector y was passed when a 1d array was expected. Please change the shape of y to (n_samples,), for example using ravel().\n"
          ]
        },
        {
          "name": "stdout",
          "output_type": "stream",
          "text": [
            "soft accu: 0.77724010565542\n",
            "hard accu: 0.8267477203647416\n",
            "185 0.36138209365388124\n"
          ]
        },
        {
          "name": "stderr",
          "output_type": "stream",
          "text": [
            "/usr/local/lib/python3.7/dist-packages/ipykernel_launcher.py:19: DataConversionWarning: A column-vector y was passed when a 1d array was expected. Please change the shape of y to (n_samples,), for example using ravel().\n"
          ]
        },
        {
          "name": "stdout",
          "output_type": "stream",
          "text": [
            "soft accu: 0.7772446519089602\n",
            "hard accu: 0.8260722728807836\n",
            "186 0.36141253708024046\n"
          ]
        },
        {
          "name": "stderr",
          "output_type": "stream",
          "text": [
            "/usr/local/lib/python3.7/dist-packages/ipykernel_launcher.py:19: DataConversionWarning: A column-vector y was passed when a 1d array was expected. Please change the shape of y to (n_samples,), for example using ravel().\n"
          ]
        },
        {
          "name": "stdout",
          "output_type": "stream",
          "text": [
            "soft accu: 0.7772426367200693\n",
            "hard accu: 0.8260722728807836\n",
            "187 0.3614224819526801\n"
          ]
        },
        {
          "name": "stderr",
          "output_type": "stream",
          "text": [
            "/usr/local/lib/python3.7/dist-packages/ipykernel_launcher.py:19: DataConversionWarning: A column-vector y was passed when a 1d array was expected. Please change the shape of y to (n_samples,), for example using ravel().\n"
          ]
        },
        {
          "name": "stdout",
          "output_type": "stream",
          "text": [
            "soft accu: 0.7772421183272846\n",
            "hard accu: 0.8260722728807836\n",
            "188 0.36141285555939384\n"
          ]
        },
        {
          "name": "stderr",
          "output_type": "stream",
          "text": [
            "/usr/local/lib/python3.7/dist-packages/ipykernel_launcher.py:19: DataConversionWarning: A column-vector y was passed when a 1d array was expected. Please change the shape of y to (n_samples,), for example using ravel().\n"
          ]
        },
        {
          "name": "stdout",
          "output_type": "stream",
          "text": [
            "soft accu: 0.7772752137228593\n",
            "hard accu: 0.8260722728807836\n",
            "189 0.3614159325951936\n"
          ]
        },
        {
          "name": "stderr",
          "output_type": "stream",
          "text": [
            "/usr/local/lib/python3.7/dist-packages/ipykernel_launcher.py:19: DataConversionWarning: A column-vector y was passed when a 1d array was expected. Please change the shape of y to (n_samples,), for example using ravel().\n"
          ]
        },
        {
          "name": "stdout",
          "output_type": "stream",
          "text": [
            "soft accu: 0.7772754579328078\n",
            "hard accu: 0.8264099966227626\n",
            "190 0.361416364083275\n"
          ]
        },
        {
          "name": "stderr",
          "output_type": "stream",
          "text": [
            "/usr/local/lib/python3.7/dist-packages/ipykernel_launcher.py:19: DataConversionWarning: A column-vector y was passed when a 1d array was expected. Please change the shape of y to (n_samples,), for example using ravel().\n"
          ]
        },
        {
          "name": "stdout",
          "output_type": "stream",
          "text": [
            "soft accu: 0.7772650832433318\n",
            "hard accu: 0.8257345491388045\n",
            "191 0.3614084200191407\n"
          ]
        },
        {
          "name": "stderr",
          "output_type": "stream",
          "text": [
            "/usr/local/lib/python3.7/dist-packages/ipykernel_launcher.py:19: DataConversionWarning: A column-vector y was passed when a 1d array was expected. Please change the shape of y to (n_samples,), for example using ravel().\n"
          ]
        },
        {
          "name": "stdout",
          "output_type": "stream",
          "text": [
            "soft accu: 0.777267046719516\n",
            "hard accu: 0.8260722728807836\n",
            "192 0.3614153028012428\n"
          ]
        },
        {
          "name": "stderr",
          "output_type": "stream",
          "text": [
            "/usr/local/lib/python3.7/dist-packages/ipykernel_launcher.py:19: DataConversionWarning: A column-vector y was passed when a 1d array was expected. Please change the shape of y to (n_samples,), for example using ravel().\n"
          ]
        },
        {
          "name": "stdout",
          "output_type": "stream",
          "text": [
            "soft accu: 0.7772687546859308\n",
            "hard accu: 0.8257345491388045\n",
            "193 0.36137254842806216\n"
          ]
        },
        {
          "name": "stderr",
          "output_type": "stream",
          "text": [
            "/usr/local/lib/python3.7/dist-packages/ipykernel_launcher.py:19: DataConversionWarning: A column-vector y was passed when a 1d array was expected. Please change the shape of y to (n_samples,), for example using ravel().\n"
          ]
        },
        {
          "name": "stdout",
          "output_type": "stream",
          "text": [
            "soft accu: 0.7772571471378904\n",
            "hard accu: 0.8260722728807836\n",
            "194 0.36138034703012395\n"
          ]
        },
        {
          "name": "stderr",
          "output_type": "stream",
          "text": [
            "/usr/local/lib/python3.7/dist-packages/ipykernel_launcher.py:19: DataConversionWarning: A column-vector y was passed when a 1d array was expected. Please change the shape of y to (n_samples,), for example using ravel().\n"
          ]
        },
        {
          "name": "stdout",
          "output_type": "stream",
          "text": [
            "soft accu: 0.7772670339966995\n",
            "hard accu: 0.8260722728807836\n",
            "195 0.36136779415474\n"
          ]
        },
        {
          "name": "stderr",
          "output_type": "stream",
          "text": [
            "/usr/local/lib/python3.7/dist-packages/ipykernel_launcher.py:19: DataConversionWarning: A column-vector y was passed when a 1d array was expected. Please change the shape of y to (n_samples,), for example using ravel().\n"
          ]
        },
        {
          "name": "stdout",
          "output_type": "stream",
          "text": [
            "soft accu: 0.7772671905721701\n",
            "hard accu: 0.8260722728807836\n",
            "196 0.3613931108756397\n"
          ]
        },
        {
          "name": "stderr",
          "output_type": "stream",
          "text": [
            "/usr/local/lib/python3.7/dist-packages/ipykernel_launcher.py:19: DataConversionWarning: A column-vector y was passed when a 1d array was expected. Please change the shape of y to (n_samples,), for example using ravel().\n"
          ]
        },
        {
          "name": "stdout",
          "output_type": "stream",
          "text": [
            "soft accu: 0.7772611435867676\n",
            "hard accu: 0.8260722728807836\n",
            "197 0.361396339354478\n"
          ]
        },
        {
          "name": "stderr",
          "output_type": "stream",
          "text": [
            "/usr/local/lib/python3.7/dist-packages/ipykernel_launcher.py:19: DataConversionWarning: A column-vector y was passed when a 1d array was expected. Please change the shape of y to (n_samples,), for example using ravel().\n"
          ]
        },
        {
          "name": "stdout",
          "output_type": "stream",
          "text": [
            "soft accu: 0.7772644789487504\n",
            "hard accu: 0.8257345491388045\n",
            "198 0.361402951491076\n"
          ]
        },
        {
          "name": "stderr",
          "output_type": "stream",
          "text": [
            "/usr/local/lib/python3.7/dist-packages/ipykernel_launcher.py:19: DataConversionWarning: A column-vector y was passed when a 1d array was expected. Please change the shape of y to (n_samples,), for example using ravel().\n"
          ]
        },
        {
          "name": "stdout",
          "output_type": "stream",
          "text": [
            "soft accu: 0.7772469309827839\n",
            "hard accu: 0.8267477203647416\n",
            "199 0.3613906185605581\n",
            "bestalpha 8\n",
            "bestn 61\n"
          ]
        },
        {
          "name": "stderr",
          "output_type": "stream",
          "text": [
            "/usr/local/lib/python3.7/dist-packages/ipykernel_launcher.py:34: DataConversionWarning: A column-vector y was passed when a 1d array was expected. Please change the shape of y to (n_samples,), for example using ravel().\n"
          ]
        },
        {
          "name": "stdout",
          "output_type": "stream",
          "text": [
            "              precision    recall  f1-score   support\n",
            "\n",
            "           0       0.84      0.96      0.90      2316\n",
            "           1       0.71      0.37      0.48       645\n",
            "\n",
            "    accuracy                           0.83      2961\n",
            "   macro avg       0.78      0.66      0.69      2961\n",
            "weighted avg       0.81      0.83      0.81      2961\n",
            "\n"
          ]
        },
        {
          "data": {
            "text/plain": [
              "0.8291117865585951"
            ]
          },
          "execution_count": null,
          "metadata": {},
          "output_type": "execute_result"
        }
      ],
      "source": [
        "randonForest(X_train, X_valid, X_tra_val, X_test, y_train, y_valid, y_tra_val, y_test)"
      ]
    }
  ],
  "metadata": {
    "colab": {
      "name": "91_Project.ipynb",
      "provenance": []
    },
    "kernelspec": {
      "display_name": "Python 3",
      "name": "python3"
    },
    "language_info": {
      "name": "python"
    }
  },
  "nbformat": 4,
  "nbformat_minor": 0
}