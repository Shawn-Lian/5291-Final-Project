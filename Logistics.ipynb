{
 "cells": [
  {
   "cell_type": "code",
   "execution_count": 4,
   "id": "af0d226b-d48e-453b-9ff2-a61c8327d9bf",
   "metadata": {
    "pycharm": {
     "name": "#%%\n"
    }
   },
   "outputs": [],
   "source": [
    "from pandas import DataFrame, read_csv\n",
    "import pandas as pd \n",
    "from sklearn.preprocessing import MinMaxScaler\n",
    "import numpy as np\n",
    "from sklearn import preprocessing\n",
    "import matplotlib.pyplot as plt \n",
    "plt.rc(\"font\", size=14)\n",
    "from sklearn.linear_model import LogisticRegression\n",
    "from sklearn.model_selection import train_test_split\n",
    "import seaborn as sns\n",
    "sns.set(style=\"white\")\n",
    "sns.set(style=\"whitegrid\", color_codes=True)"
   ]
  },
  {
   "cell_type": "code",
   "execution_count": 37,
   "id": "da4404f1-87b8-4ae5-a0b0-d8447c83cce7",
   "metadata": {
    "pycharm": {
     "name": "#%%\n"
    }
   },
   "outputs": [
    {
     "name": "stdout",
     "output_type": "stream",
     "text": [
      "            ID  LIMIT_BAL  SEX  EDUCATION  MARRIAGE   AGE  PAY_0  PAY_2  \\\n",
      "0          1.0    20000.0  2.0        2.0       1.0  24.0    2.0    2.0   \n",
      "1          2.0   120000.0  2.0        2.0       2.0  26.0   -1.0    2.0   \n",
      "2          3.0    90000.0  2.0        2.0       2.0  34.0    0.0    0.0   \n",
      "3          4.0    50000.0  2.0        2.0       1.0  37.0    0.0    0.0   \n",
      "4          5.0    50000.0  1.0        2.0       1.0  57.0   -1.0    0.0   \n",
      "...        ...        ...  ...        ...       ...   ...    ...    ...   \n",
      "29995  29996.0   220000.0  1.0        3.0       1.0  39.0    0.0    0.0   \n",
      "29996  29997.0   150000.0  1.0        3.0       2.0  43.0   -1.0   -1.0   \n",
      "29997  29998.0    30000.0  1.0        2.0       2.0  37.0    4.0    3.0   \n",
      "29998  29999.0    80000.0  1.0        3.0       1.0  41.0    1.0   -1.0   \n",
      "29999  30000.0    50000.0  1.0        2.0       1.0  46.0    0.0    0.0   \n",
      "\n",
      "       PAY_3  PAY_4  ...  BILL_AMT4  BILL_AMT5  BILL_AMT6  PAY_AMT1  PAY_AMT2  \\\n",
      "0       -1.0   -1.0  ...        0.0        0.0        0.0       0.0     689.0   \n",
      "1        0.0    0.0  ...     3272.0     3455.0     3261.0       0.0    1000.0   \n",
      "2        0.0    0.0  ...    14331.0    14948.0    15549.0    1518.0    1500.0   \n",
      "3        0.0    0.0  ...    28314.0    28959.0    29547.0    2000.0    2019.0   \n",
      "4       -1.0    0.0  ...    20940.0    19146.0    19131.0    2000.0   36681.0   \n",
      "...      ...    ...  ...        ...        ...        ...       ...       ...   \n",
      "29995    0.0    0.0  ...    88004.0    31237.0    15980.0    8500.0   20000.0   \n",
      "29996   -1.0   -1.0  ...     8979.0     5190.0        0.0    1837.0    3526.0   \n",
      "29997    2.0   -1.0  ...    20878.0    20582.0    19357.0       0.0       0.0   \n",
      "29998    0.0    0.0  ...    52774.0    11855.0    48944.0   85900.0    3409.0   \n",
      "29999    0.0    0.0  ...    36535.0    32428.0    15313.0    2078.0    1800.0   \n",
      "\n",
      "       PAY_AMT3  PAY_AMT4  PAY_AMT5  PAY_AMT6  default payment next month  \n",
      "0           0.0       0.0       0.0       0.0                         1.0  \n",
      "1        1000.0    1000.0       0.0    2000.0                         1.0  \n",
      "2        1000.0    1000.0    1000.0    5000.0                         0.0  \n",
      "3        1200.0    1100.0    1069.0    1000.0                         0.0  \n",
      "4       10000.0    9000.0     689.0     679.0                         0.0  \n",
      "...         ...       ...       ...       ...                         ...  \n",
      "29995    5003.0    3047.0    5000.0    1000.0                         0.0  \n",
      "29996    8998.0     129.0       0.0       0.0                         0.0  \n",
      "29997   22000.0    4200.0    2000.0    3100.0                         1.0  \n",
      "29998    1178.0    1926.0   52964.0    1804.0                         1.0  \n",
      "29999    1430.0    1000.0    1000.0    1000.0                         1.0  \n",
      "\n",
      "[30000 rows x 25 columns]\n"
     ]
    }
   ],
   "source": [
    "file = r'/Users/jingwang/Desktop/default of credit card clients.xls'\n",
    "df = pd.read_excel(file,header = 1)\n",
    "df = df.astype(float)\n",
    "print(df)"
   ]
  },
  {
   "cell_type": "code",
   "execution_count": 38,
   "id": "3a2109dc-51d9-45c6-ab64-6ecb64438ad5",
   "metadata": {
    "pycharm": {
     "name": "#%%\n"
    }
   },
   "outputs": [
    {
     "data": {
      "text/html": [
       "<div>\n",
       "<style scoped>\n",
       "    .dataframe tbody tr th:only-of-type {\n",
       "        vertical-align: middle;\n",
       "    }\n",
       "\n",
       "    .dataframe tbody tr th {\n",
       "        vertical-align: top;\n",
       "    }\n",
       "\n",
       "    .dataframe thead th {\n",
       "        text-align: right;\n",
       "    }\n",
       "</style>\n",
       "<table border=\"1\" class=\"dataframe\">\n",
       "  <thead>\n",
       "    <tr style=\"text-align: right;\">\n",
       "      <th></th>\n",
       "      <th>LIMIT_BAL</th>\n",
       "      <th>SEX</th>\n",
       "      <th>EDUCATION</th>\n",
       "      <th>MARRIAGE</th>\n",
       "      <th>AGE</th>\n",
       "      <th>PAY_0</th>\n",
       "      <th>PAY_2</th>\n",
       "      <th>PAY_3</th>\n",
       "      <th>PAY_4</th>\n",
       "      <th>PAY_5</th>\n",
       "      <th>...</th>\n",
       "      <th>BILL_AMT4</th>\n",
       "      <th>BILL_AMT5</th>\n",
       "      <th>BILL_AMT6</th>\n",
       "      <th>PAY_AMT1</th>\n",
       "      <th>PAY_AMT2</th>\n",
       "      <th>PAY_AMT3</th>\n",
       "      <th>PAY_AMT4</th>\n",
       "      <th>PAY_AMT5</th>\n",
       "      <th>PAY_AMT6</th>\n",
       "      <th>default payment next month</th>\n",
       "    </tr>\n",
       "  </thead>\n",
       "  <tbody>\n",
       "    <tr>\n",
       "      <th>count</th>\n",
       "      <td>30000.000000</td>\n",
       "      <td>30000.000000</td>\n",
       "      <td>30000.000000</td>\n",
       "      <td>30000.000000</td>\n",
       "      <td>30000.000000</td>\n",
       "      <td>30000.000000</td>\n",
       "      <td>30000.000000</td>\n",
       "      <td>30000.000000</td>\n",
       "      <td>30000.000000</td>\n",
       "      <td>30000.000000</td>\n",
       "      <td>...</td>\n",
       "      <td>30000.000000</td>\n",
       "      <td>30000.000000</td>\n",
       "      <td>30000.000000</td>\n",
       "      <td>30000.000000</td>\n",
       "      <td>3.000000e+04</td>\n",
       "      <td>30000.00000</td>\n",
       "      <td>30000.000000</td>\n",
       "      <td>30000.000000</td>\n",
       "      <td>30000.000000</td>\n",
       "      <td>30000.000000</td>\n",
       "    </tr>\n",
       "    <tr>\n",
       "      <th>mean</th>\n",
       "      <td>167484.322667</td>\n",
       "      <td>1.603733</td>\n",
       "      <td>1.853133</td>\n",
       "      <td>1.551867</td>\n",
       "      <td>35.485500</td>\n",
       "      <td>-0.016700</td>\n",
       "      <td>-0.133767</td>\n",
       "      <td>-0.166200</td>\n",
       "      <td>-0.220667</td>\n",
       "      <td>-0.266200</td>\n",
       "      <td>...</td>\n",
       "      <td>43262.948967</td>\n",
       "      <td>40311.400967</td>\n",
       "      <td>38871.760400</td>\n",
       "      <td>5663.580500</td>\n",
       "      <td>5.921163e+03</td>\n",
       "      <td>5225.68150</td>\n",
       "      <td>4826.076867</td>\n",
       "      <td>4799.387633</td>\n",
       "      <td>5215.502567</td>\n",
       "      <td>0.221200</td>\n",
       "    </tr>\n",
       "    <tr>\n",
       "      <th>std</th>\n",
       "      <td>129747.661567</td>\n",
       "      <td>0.489129</td>\n",
       "      <td>0.790349</td>\n",
       "      <td>0.521970</td>\n",
       "      <td>9.217904</td>\n",
       "      <td>1.123802</td>\n",
       "      <td>1.197186</td>\n",
       "      <td>1.196868</td>\n",
       "      <td>1.169139</td>\n",
       "      <td>1.133187</td>\n",
       "      <td>...</td>\n",
       "      <td>64332.856134</td>\n",
       "      <td>60797.155770</td>\n",
       "      <td>59554.107537</td>\n",
       "      <td>16563.280354</td>\n",
       "      <td>2.304087e+04</td>\n",
       "      <td>17606.96147</td>\n",
       "      <td>15666.159744</td>\n",
       "      <td>15278.305679</td>\n",
       "      <td>17777.465775</td>\n",
       "      <td>0.415062</td>\n",
       "    </tr>\n",
       "    <tr>\n",
       "      <th>min</th>\n",
       "      <td>10000.000000</td>\n",
       "      <td>1.000000</td>\n",
       "      <td>0.000000</td>\n",
       "      <td>0.000000</td>\n",
       "      <td>21.000000</td>\n",
       "      <td>-2.000000</td>\n",
       "      <td>-2.000000</td>\n",
       "      <td>-2.000000</td>\n",
       "      <td>-2.000000</td>\n",
       "      <td>-2.000000</td>\n",
       "      <td>...</td>\n",
       "      <td>-170000.000000</td>\n",
       "      <td>-81334.000000</td>\n",
       "      <td>-339603.000000</td>\n",
       "      <td>0.000000</td>\n",
       "      <td>0.000000e+00</td>\n",
       "      <td>0.00000</td>\n",
       "      <td>0.000000</td>\n",
       "      <td>0.000000</td>\n",
       "      <td>0.000000</td>\n",
       "      <td>0.000000</td>\n",
       "    </tr>\n",
       "    <tr>\n",
       "      <th>25%</th>\n",
       "      <td>50000.000000</td>\n",
       "      <td>1.000000</td>\n",
       "      <td>1.000000</td>\n",
       "      <td>1.000000</td>\n",
       "      <td>28.000000</td>\n",
       "      <td>-1.000000</td>\n",
       "      <td>-1.000000</td>\n",
       "      <td>-1.000000</td>\n",
       "      <td>-1.000000</td>\n",
       "      <td>-1.000000</td>\n",
       "      <td>...</td>\n",
       "      <td>2326.750000</td>\n",
       "      <td>1763.000000</td>\n",
       "      <td>1256.000000</td>\n",
       "      <td>1000.000000</td>\n",
       "      <td>8.330000e+02</td>\n",
       "      <td>390.00000</td>\n",
       "      <td>296.000000</td>\n",
       "      <td>252.500000</td>\n",
       "      <td>117.750000</td>\n",
       "      <td>0.000000</td>\n",
       "    </tr>\n",
       "    <tr>\n",
       "      <th>50%</th>\n",
       "      <td>140000.000000</td>\n",
       "      <td>2.000000</td>\n",
       "      <td>2.000000</td>\n",
       "      <td>2.000000</td>\n",
       "      <td>34.000000</td>\n",
       "      <td>0.000000</td>\n",
       "      <td>0.000000</td>\n",
       "      <td>0.000000</td>\n",
       "      <td>0.000000</td>\n",
       "      <td>0.000000</td>\n",
       "      <td>...</td>\n",
       "      <td>19052.000000</td>\n",
       "      <td>18104.500000</td>\n",
       "      <td>17071.000000</td>\n",
       "      <td>2100.000000</td>\n",
       "      <td>2.009000e+03</td>\n",
       "      <td>1800.00000</td>\n",
       "      <td>1500.000000</td>\n",
       "      <td>1500.000000</td>\n",
       "      <td>1500.000000</td>\n",
       "      <td>0.000000</td>\n",
       "    </tr>\n",
       "    <tr>\n",
       "      <th>75%</th>\n",
       "      <td>240000.000000</td>\n",
       "      <td>2.000000</td>\n",
       "      <td>2.000000</td>\n",
       "      <td>2.000000</td>\n",
       "      <td>41.000000</td>\n",
       "      <td>0.000000</td>\n",
       "      <td>0.000000</td>\n",
       "      <td>0.000000</td>\n",
       "      <td>0.000000</td>\n",
       "      <td>0.000000</td>\n",
       "      <td>...</td>\n",
       "      <td>54506.000000</td>\n",
       "      <td>50190.500000</td>\n",
       "      <td>49198.250000</td>\n",
       "      <td>5006.000000</td>\n",
       "      <td>5.000000e+03</td>\n",
       "      <td>4505.00000</td>\n",
       "      <td>4013.250000</td>\n",
       "      <td>4031.500000</td>\n",
       "      <td>4000.000000</td>\n",
       "      <td>0.000000</td>\n",
       "    </tr>\n",
       "    <tr>\n",
       "      <th>max</th>\n",
       "      <td>1000000.000000</td>\n",
       "      <td>2.000000</td>\n",
       "      <td>6.000000</td>\n",
       "      <td>3.000000</td>\n",
       "      <td>79.000000</td>\n",
       "      <td>8.000000</td>\n",
       "      <td>8.000000</td>\n",
       "      <td>8.000000</td>\n",
       "      <td>8.000000</td>\n",
       "      <td>8.000000</td>\n",
       "      <td>...</td>\n",
       "      <td>891586.000000</td>\n",
       "      <td>927171.000000</td>\n",
       "      <td>961664.000000</td>\n",
       "      <td>873552.000000</td>\n",
       "      <td>1.684259e+06</td>\n",
       "      <td>896040.00000</td>\n",
       "      <td>621000.000000</td>\n",
       "      <td>426529.000000</td>\n",
       "      <td>528666.000000</td>\n",
       "      <td>1.000000</td>\n",
       "    </tr>\n",
       "  </tbody>\n",
       "</table>\n",
       "<p>8 rows × 24 columns</p>\n",
       "</div>"
      ],
      "text/plain": [
       "            LIMIT_BAL           SEX     EDUCATION      MARRIAGE           AGE  \\\n",
       "count    30000.000000  30000.000000  30000.000000  30000.000000  30000.000000   \n",
       "mean    167484.322667      1.603733      1.853133      1.551867     35.485500   \n",
       "std     129747.661567      0.489129      0.790349      0.521970      9.217904   \n",
       "min      10000.000000      1.000000      0.000000      0.000000     21.000000   \n",
       "25%      50000.000000      1.000000      1.000000      1.000000     28.000000   \n",
       "50%     140000.000000      2.000000      2.000000      2.000000     34.000000   \n",
       "75%     240000.000000      2.000000      2.000000      2.000000     41.000000   \n",
       "max    1000000.000000      2.000000      6.000000      3.000000     79.000000   \n",
       "\n",
       "              PAY_0         PAY_2         PAY_3         PAY_4         PAY_5  \\\n",
       "count  30000.000000  30000.000000  30000.000000  30000.000000  30000.000000   \n",
       "mean      -0.016700     -0.133767     -0.166200     -0.220667     -0.266200   \n",
       "std        1.123802      1.197186      1.196868      1.169139      1.133187   \n",
       "min       -2.000000     -2.000000     -2.000000     -2.000000     -2.000000   \n",
       "25%       -1.000000     -1.000000     -1.000000     -1.000000     -1.000000   \n",
       "50%        0.000000      0.000000      0.000000      0.000000      0.000000   \n",
       "75%        0.000000      0.000000      0.000000      0.000000      0.000000   \n",
       "max        8.000000      8.000000      8.000000      8.000000      8.000000   \n",
       "\n",
       "       ...      BILL_AMT4      BILL_AMT5      BILL_AMT6       PAY_AMT1  \\\n",
       "count  ...   30000.000000   30000.000000   30000.000000   30000.000000   \n",
       "mean   ...   43262.948967   40311.400967   38871.760400    5663.580500   \n",
       "std    ...   64332.856134   60797.155770   59554.107537   16563.280354   \n",
       "min    ... -170000.000000  -81334.000000 -339603.000000       0.000000   \n",
       "25%    ...    2326.750000    1763.000000    1256.000000    1000.000000   \n",
       "50%    ...   19052.000000   18104.500000   17071.000000    2100.000000   \n",
       "75%    ...   54506.000000   50190.500000   49198.250000    5006.000000   \n",
       "max    ...  891586.000000  927171.000000  961664.000000  873552.000000   \n",
       "\n",
       "           PAY_AMT2      PAY_AMT3       PAY_AMT4       PAY_AMT5  \\\n",
       "count  3.000000e+04   30000.00000   30000.000000   30000.000000   \n",
       "mean   5.921163e+03    5225.68150    4826.076867    4799.387633   \n",
       "std    2.304087e+04   17606.96147   15666.159744   15278.305679   \n",
       "min    0.000000e+00       0.00000       0.000000       0.000000   \n",
       "25%    8.330000e+02     390.00000     296.000000     252.500000   \n",
       "50%    2.009000e+03    1800.00000    1500.000000    1500.000000   \n",
       "75%    5.000000e+03    4505.00000    4013.250000    4031.500000   \n",
       "max    1.684259e+06  896040.00000  621000.000000  426529.000000   \n",
       "\n",
       "            PAY_AMT6  default payment next month  \n",
       "count   30000.000000                30000.000000  \n",
       "mean     5215.502567                    0.221200  \n",
       "std     17777.465775                    0.415062  \n",
       "min         0.000000                    0.000000  \n",
       "25%       117.750000                    0.000000  \n",
       "50%      1500.000000                    0.000000  \n",
       "75%      4000.000000                    0.000000  \n",
       "max    528666.000000                    1.000000  \n",
       "\n",
       "[8 rows x 24 columns]"
      ]
     },
     "execution_count": 38,
     "metadata": {},
     "output_type": "execute_result"
    }
   ],
   "source": [
    "df.drop(columns = ['ID'],inplace = True)\n",
    "df.describe()"
   ]
  },
  {
   "cell_type": "code",
   "execution_count": 39,
   "id": "9dcd2286-3e82-4734-b01e-fdcd96f18ee9",
   "metadata": {
    "pycharm": {
     "name": "#%%\n"
    }
   },
   "outputs": [],
   "source": [
    "pay_cols = ['pay_0', 'pay_2', 'pay_3', 'pay_4', 'pay_5', 'pay_6']\n",
    "pay_cols = [col.upper() for col in pay_cols]\n",
    "\n",
    "\n",
    "for col in pay_cols:\n",
    "    fil = (df[col] < 0)\n",
    "    df.loc[fil, col] = 0"
   ]
  },
  {
   "cell_type": "code",
   "execution_count": 40,
   "id": "fdb00f84-de5e-49a5-896e-bda7829d9501",
   "metadata": {
    "pycharm": {
     "name": "#%%\n"
    }
   },
   "outputs": [],
   "source": [
    "drop_id_1 = (df['EDUCATION'] != 1 ) & (df['EDUCATION'] != 2 ) & (df['EDUCATION'] != 3) & (df['EDUCATION'] != 4 )\n",
    "drop_id_2 = (df['MARRIAGE'] != 1 ) & (df['MARRIAGE'] != 2 ) & (df['MARRIAGE'] != 3)\n",
    "keep_id = -(drop_id_1 | drop_id_2)\n",
    "df = df[keep_id]"
   ]
  },
  {
   "cell_type": "code",
   "execution_count": 41,
   "id": "8d41c549-7423-49f0-84d8-06f1c328f18c",
   "metadata": {
    "pycharm": {
     "name": "#%%\n"
    }
   },
   "outputs": [],
   "source": [
    "df = pd.get_dummies(df)"
   ]
  },
  {
   "cell_type": "code",
   "execution_count": 42,
   "id": "b53991d6-1c72-4b47-95b1-376ffc221662",
   "metadata": {
    "pycharm": {
     "name": "#%%\n"
    }
   },
   "outputs": [],
   "source": [
    "df = df.astype(float)\n",
    "df = df.dropna()\n",
    "scale = MinMaxScaler()\n",
    "df_to_scale = df\n",
    "scaled = scale.fit_transform(df_to_scale)\n",
    "scaled_df = pd.DataFrame(scaled, columns=df_to_scale.columns)"
   ]
  },
  {
   "cell_type": "markdown",
   "id": "d8dfbe65-4a1a-4823-b389-bab4fda02285",
   "metadata": {
    "pycharm": {
     "name": "#%% md\n"
    }
   },
   "source": [
    "Data Exploration"
   ]
  },
  {
   "cell_type": "code",
   "execution_count": 43,
   "id": "0c717ccd-d8b4-4b3e-a3a1-7110cebf64b7",
   "metadata": {
    "pycharm": {
     "name": "#%%\n"
    }
   },
   "outputs": [
    {
     "data": {
      "text/plain": [
       "0.0    22996\n",
       "1.0     6605\n",
       "Name: default payment next month, dtype: int64"
      ]
     },
     "execution_count": 43,
     "metadata": {},
     "output_type": "execute_result"
    }
   ],
   "source": [
    "df['default payment next month'].value_counts()"
   ]
  },
  {
   "cell_type": "code",
   "execution_count": 44,
   "id": "c0e88ebb-d830-4155-be92-c593e73b6e5e",
   "metadata": {
    "pycharm": {
     "name": "#%%\n"
    }
   },
   "outputs": [
    {
     "data": {
      "image/png": "[encoded data removed]",
      "text/plain": [
       "<Figure size 432x288 with 1 Axes>"
      ]
     },
     "metadata": {},
     "output_type": "display_data"
    }
   ],
   "source": [
    "sns.countplot(x='default payment next month',data=df,palette='hls')\n",
    "plt.show()"
   ]
  },
  {
   "cell_type": "code",
   "execution_count": 45,
   "id": "6ed25985-26a7-479c-ac7b-d6db928afd1a",
   "metadata": {
    "pycharm": {
     "name": "#%%\n"
    }
   },
   "outputs": [
    {
     "name": "stdout",
     "output_type": "stream",
     "text": [
      "percentage of no subscription is 77.68656464308638\n",
      "percentage of subscription 22.31343535691362\n"
     ]
    }
   ],
   "source": [
    "count_no_sub = len(df[df['default payment next month']==0])\n",
    "count_sub = len(df[df['default payment next month']==1])\n",
    "pct_of_no_sub = count_no_sub/(count_no_sub+count_sub)\n",
    "print(\"percentage of no subscription is\", pct_of_no_sub*100)\n",
    "pct_of_sub = count_sub/(count_no_sub+count_sub)\n",
    "print(\"percentage of subscription\", pct_of_sub*100)"
   ]
  },
  {
   "cell_type": "code",
   "execution_count": 46,
   "id": "c534fde2-1ba7-40ed-a06e-12dad5032361",
   "metadata": {
    "pycharm": {
     "name": "#%%\n"
    }
   },
   "outputs": [
    {
     "data": {
      "text/html": [
       "<div>\n",
       "<style scoped>\n",
       "    .dataframe tbody tr th:only-of-type {\n",
       "        vertical-align: middle;\n",
       "    }\n",
       "\n",
       "    .dataframe tbody tr th {\n",
       "        vertical-align: top;\n",
       "    }\n",
       "\n",
       "    .dataframe thead th {\n",
       "        text-align: right;\n",
       "    }\n",
       "</style>\n",
       "<table border=\"1\" class=\"dataframe\">\n",
       "  <thead>\n",
       "    <tr style=\"text-align: right;\">\n",
       "      <th></th>\n",
       "      <th>LIMIT_BAL</th>\n",
       "      <th>SEX</th>\n",
       "      <th>EDUCATION</th>\n",
       "      <th>MARRIAGE</th>\n",
       "      <th>AGE</th>\n",
       "      <th>PAY_0</th>\n",
       "      <th>PAY_2</th>\n",
       "      <th>PAY_3</th>\n",
       "      <th>PAY_4</th>\n",
       "      <th>PAY_5</th>\n",
       "      <th>...</th>\n",
       "      <th>BILL_AMT3</th>\n",
       "      <th>BILL_AMT4</th>\n",
       "      <th>BILL_AMT5</th>\n",
       "      <th>BILL_AMT6</th>\n",
       "      <th>PAY_AMT1</th>\n",
       "      <th>PAY_AMT2</th>\n",
       "      <th>PAY_AMT3</th>\n",
       "      <th>PAY_AMT4</th>\n",
       "      <th>PAY_AMT5</th>\n",
       "      <th>PAY_AMT6</th>\n",
       "    </tr>\n",
       "    <tr>\n",
       "      <th>default payment next month</th>\n",
       "      <th></th>\n",
       "      <th></th>\n",
       "      <th></th>\n",
       "      <th></th>\n",
       "      <th></th>\n",
       "      <th></th>\n",
       "      <th></th>\n",
       "      <th></th>\n",
       "      <th></th>\n",
       "      <th></th>\n",
       "      <th></th>\n",
       "      <th></th>\n",
       "      <th></th>\n",
       "      <th></th>\n",
       "      <th></th>\n",
       "      <th></th>\n",
       "      <th></th>\n",
       "      <th></th>\n",
       "      <th></th>\n",
       "      <th></th>\n",
       "      <th></th>\n",
       "    </tr>\n",
       "  </thead>\n",
       "  <tbody>\n",
       "    <tr>\n",
       "      <th>0.0</th>\n",
       "      <td>178299.965211</td>\n",
       "      <td>1.613628</td>\n",
       "      <td>1.796791</td>\n",
       "      <td>1.562924</td>\n",
       "      <td>35.392851</td>\n",
       "      <td>0.195860</td>\n",
       "      <td>0.181162</td>\n",
       "      <td>0.184641</td>\n",
       "      <td>0.150896</td>\n",
       "      <td>0.122847</td>\n",
       "      <td>...</td>\n",
       "      <td>47303.106975</td>\n",
       "      <td>43448.517133</td>\n",
       "      <td>40438.090233</td>\n",
       "      <td>39028.741129</td>\n",
       "      <td>6305.575317</td>\n",
       "      <td>6616.275657</td>\n",
       "      <td>5728.758915</td>\n",
       "      <td>5308.696860</td>\n",
       "      <td>5253.151852</td>\n",
       "      <td>5689.407071</td>\n",
       "    </tr>\n",
       "    <tr>\n",
       "      <th>1.0</th>\n",
       "      <td>130125.311128</td>\n",
       "      <td>1.566843</td>\n",
       "      <td>1.880545</td>\n",
       "      <td>1.529447</td>\n",
       "      <td>35.712036</td>\n",
       "      <td>0.923997</td>\n",
       "      <td>0.814686</td>\n",
       "      <td>0.731718</td>\n",
       "      <td>0.644815</td>\n",
       "      <td>0.575170</td>\n",
       "      <td>...</td>\n",
       "      <td>45062.736109</td>\n",
       "      <td>41987.680091</td>\n",
       "      <td>39530.363361</td>\n",
       "      <td>38265.562755</td>\n",
       "      <td>3365.575322</td>\n",
       "      <td>3382.854807</td>\n",
       "      <td>3351.971083</td>\n",
       "      <td>3157.358062</td>\n",
       "      <td>3200.042998</td>\n",
       "      <td>3412.390159</td>\n",
       "    </tr>\n",
       "  </tbody>\n",
       "</table>\n",
       "<p>2 rows × 23 columns</p>\n",
       "</div>"
      ],
      "text/plain": [
       "                                LIMIT_BAL       SEX  EDUCATION  MARRIAGE  \\\n",
       "default payment next month                                                 \n",
       "0.0                         178299.965211  1.613628   1.796791  1.562924   \n",
       "1.0                         130125.311128  1.566843   1.880545  1.529447   \n",
       "\n",
       "                                  AGE     PAY_0     PAY_2     PAY_3     PAY_4  \\\n",
       "default payment next month                                                      \n",
       "0.0                         35.392851  0.195860  0.181162  0.184641  0.150896   \n",
       "1.0                         35.712036  0.923997  0.814686  0.731718  0.644815   \n",
       "\n",
       "                               PAY_5  ...     BILL_AMT3     BILL_AMT4  \\\n",
       "default payment next month            ...                               \n",
       "0.0                         0.122847  ...  47303.106975  43448.517133   \n",
       "1.0                         0.575170  ...  45062.736109  41987.680091   \n",
       "\n",
       "                               BILL_AMT5     BILL_AMT6     PAY_AMT1  \\\n",
       "default payment next month                                            \n",
       "0.0                         40438.090233  39028.741129  6305.575317   \n",
       "1.0                         39530.363361  38265.562755  3365.575322   \n",
       "\n",
       "                               PAY_AMT2     PAY_AMT3     PAY_AMT4  \\\n",
       "default payment next month                                          \n",
       "0.0                         6616.275657  5728.758915  5308.696860   \n",
       "1.0                         3382.854807  3351.971083  3157.358062   \n",
       "\n",
       "                               PAY_AMT5     PAY_AMT6  \n",
       "default payment next month                            \n",
       "0.0                         5253.151852  5689.407071  \n",
       "1.0                         3200.042998  3412.390159  \n",
       "\n",
       "[2 rows x 23 columns]"
      ]
     },
     "execution_count": 46,
     "metadata": {},
     "output_type": "execute_result"
    }
   ],
   "source": [
    "df.groupby('default payment next month').mean()"
   ]
  },
  {
   "cell_type": "markdown",
   "id": "ca42472a-4d45-453a-8f3c-2c6ba795e904",
   "metadata": {
    "pycharm": {
     "name": "#%% md\n"
    }
   },
   "source": [
    "Over-sampling using SMOTE"
   ]
  },
  {
   "cell_type": "code",
   "execution_count": 47,
   "id": "eb0b7754-73eb-4ab2-ab0e-fa934c81df80",
   "metadata": {
    "pycharm": {
     "name": "#%%\n"
    }
   },
   "outputs": [
    {
     "name": "stdout",
     "output_type": "stream",
     "text": [
      "Requirement already satisfied: imbalanced-learn in ./opt/anaconda3/lib/python3.9/site-packages (0.9.0)\n",
      "Requirement already satisfied: numpy>=1.14.6 in ./opt/anaconda3/lib/python3.9/site-packages (from imbalanced-learn) (1.20.3)\n",
      "Requirement already satisfied: scipy>=1.1.0 in ./opt/anaconda3/lib/python3.9/site-packages (from imbalanced-learn) (1.7.1)\n",
      "Requirement already satisfied: joblib>=0.11 in ./opt/anaconda3/lib/python3.9/site-packages (from imbalanced-learn) (1.1.0)\n",
      "Requirement already satisfied: threadpoolctl>=2.0.0 in ./opt/anaconda3/lib/python3.9/site-packages (from imbalanced-learn) (2.2.0)\n",
      "Requirement already satisfied: scikit-learn>=1.0.1 in ./opt/anaconda3/lib/python3.9/site-packages (from imbalanced-learn) (1.0.2)\n",
      "Note: you may need to restart the kernel to use updated packages.\n"
     ]
    }
   ],
   "source": []
  },
  {
   "cell_type": "code",
   "execution_count": 55,
   "id": "5031b97f-0c71-4655-8bd4-8385af378cf0",
   "metadata": {
    "pycharm": {
     "name": "#%%\n"
    }
   },
   "outputs": [
    {
     "name": "stdout",
     "output_type": "stream",
     "text": [
      "length of oversampled data is  32096\n",
      "Number of no subscription in oversampled data 16048\n",
      "Number of subscription 16048\n",
      "Proportion of no subscription data in oversampled data is  0.5\n",
      "Proportion of subscription data in oversampled data is  0.5\n"
     ]
    }
   ],
   "source": [
    "X = df.loc[:, df.columns != 'default payment next month']\n",
    "y = df.loc[:, df.columns == 'default payment next month']\n",
    "from imblearn.over_sampling import SMOTE\n",
    "os = SMOTE(random_state=0)\n",
    "X_train, X_test, y_train, y_test = train_test_split(X, y, test_size=0.3, random_state=0)\n",
    "columns = X_train.columns\n",
    "os_data_X,os_data_y=os.fit_resample(X_train, y_train)\n",
    "os_data_X = pd.DataFrame(data=os_data_X,columns=columns )\n",
    "os_data_y= pd.DataFrame(data=os_data_y,columns=['default payment next month'])\n",
    "# we can Check the numbers of our data\n",
    "print(\"length of oversampled data is \",len(os_data_X))\n",
    "print(\"Number of no subscription in oversampled data\",len(os_data_y[os_data_y['default payment next month']==0]))\n",
    "print(\"Number of subscription\",len(os_data_y[os_data_y['default payment next month']==1]))\n",
    "print(\"Proportion of no subscription data in oversampled data is \",len(os_data_y[os_data_y['default payment next month']==0])/len(os_data_X))\n",
    "print(\"Proportion of subscription data in oversampled data is \",len(os_data_y[os_data_y['default payment next month']==1])/len(os_data_X))"
   ]
  },
  {
   "cell_type": "markdown",
   "id": "cdc6d51a-1b1a-4263-9d0d-5fc94730d380",
   "metadata": {
    "pycharm": {
     "name": "#%% md\n"
    }
   },
   "source": [
    "Recursive Feature Elimination"
   ]
  },
  {
   "cell_type": "code",
   "execution_count": 58,
   "id": "55b7260e-971e-47d0-b170-dd1ba9b8c00e",
   "metadata": {
    "pycharm": {
     "name": "#%%\n"
    }
   },
   "outputs": [
    {
     "name": "stdout",
     "output_type": "stream",
     "text": [
      "[False False  True False  True  True  True  True  True  True  True False\n",
      " False False False False False  True  True False  True False False]\n",
      "[2 2 1 2 1 1 1 1 1 1 1 2 2 2 2 2 2 1 1 2 1 2 2]\n"
     ]
    },
    {
     "name": "stderr",
     "output_type": "stream",
     "text": [
      "/Users/jingwang/opt/anaconda3/lib/python3.9/site-packages/sklearn/linear_model/_logistic.py:814: ConvergenceWarning: lbfgs failed to converge (status=1):\n",
      "STOP: TOTAL NO. of ITERATIONS REACHED LIMIT.\n",
      "\n",
      "Increase the number of iterations (max_iter) or scale the data as shown in:\n",
      "    https://scikit-learn.org/stable/modules/preprocessing.html\n",
      "Please also refer to the documentation for alternative solver options:\n",
      "    https://scikit-learn.org/stable/modules/linear_model.html#logistic-regression\n",
      "  n_iter_i = _check_optimize_result(\n"
     ]
    }
   ],
   "source": [
    "from sklearn.feature_selection import RFE\n",
    "from sklearn.linear_model import LogisticRegression\n",
    "logreg = LogisticRegression()\n",
    "rfe = RFE(logreg, step=20)\n",
    "rfe = rfe.fit(os_data_X, os_data_y.values.ravel())\n",
    "print(rfe.support_)\n",
    "print(rfe.ranking_)"
   ]
  },
  {
   "cell_type": "markdown",
   "id": "8cc57fa2-01f0-4aac-9b82-d5749d6e19d4",
   "metadata": {
    "pycharm": {
     "name": "#%% md\n"
    }
   },
   "source": [
    "Implementing the model"
   ]
  },
  {
   "cell_type": "code",
   "execution_count": 59,
   "id": "d44b586e-3392-43b6-81e6-d630f068d996",
   "metadata": {
    "pycharm": {
     "name": "#%%\n"
    }
   },
   "outputs": [
    {
     "name": "stdout",
     "output_type": "stream",
     "text": [
      "Optimization terminated successfully.\n",
      "         Current function value: 0.448231\n",
      "         Iterations 7\n",
      "                              Results: Logit\n",
      "===========================================================================\n",
      "Model:              Logit                      Pseudo R-squared: 0.156     \n",
      "Dependent Variable: default payment next month AIC:              26582.1885\n",
      "Date:               2022-04-17 13:16           BIC:              26772.9865\n",
      "No. Observations:   29601                      Log-Likelihood:   -13268.   \n",
      "Df Model:           22                         LL-Null:          -15714.   \n",
      "Df Residuals:       29578                      LLR p-value:      0.0000    \n",
      "Converged:          1.0000                     Scale:            1.0000    \n",
      "No. Iterations:     7.0000                                                 \n",
      "------------------------------------------------------------------------------\n",
      "                Coef.     Std.Err.       z        P>|z|      [0.025     0.975]\n",
      "------------------------------------------------------------------------------\n",
      "LIMIT_BAL      -0.0000      0.0000    -11.2302    0.0000    -0.0000    -0.0000\n",
      "SEX            -0.2723      0.0277     -9.8413    0.0000    -0.3266    -0.2181\n",
      "EDUCATION      -0.1088      0.0224     -4.8577    0.0000    -0.1527    -0.0649\n",
      "MARRIAGE       -0.3637      0.0239    -15.2378    0.0000    -0.4104    -0.3169\n",
      "AGE            -0.0066      0.0014     -4.6503    0.0000    -0.0094    -0.0038\n",
      "PAY_0           0.8834      0.0253     34.8919    0.0000     0.8337     0.9330\n",
      "PAY_2           0.0377      0.0266      1.4184    0.1561    -0.0144     0.0899\n",
      "PAY_3           0.1169      0.0284      4.1121    0.0000     0.0612     0.1727\n",
      "PAY_4           0.0715      0.0317      2.2576    0.0240     0.0094     0.1337\n",
      "PAY_5           0.0911      0.0342      2.6667    0.0077     0.0242     0.1581\n",
      "PAY_6           0.1518      0.0290      5.2286    0.0000     0.0949     0.2087\n",
      "BILL_AMT1      -0.0000      0.0000     -2.6085    0.0091    -0.0000    -0.0000\n",
      "BILL_AMT2       0.0000      0.0000      1.8989    0.0576    -0.0000     0.0000\n",
      "BILL_AMT3       0.0000      0.0000      1.1975    0.2311    -0.0000     0.0000\n",
      "BILL_AMT4       0.0000      0.0000      0.0761    0.9393    -0.0000     0.0000\n",
      "BILL_AMT5      -0.0000      0.0000     -0.0890    0.9291    -0.0000     0.0000\n",
      "BILL_AMT6      -0.0000      0.0000     -0.3476    0.7281    -0.0000     0.0000\n",
      "PAY_AMT1       -0.0000      0.0000     -5.6454    0.0000    -0.0000    -0.0000\n",
      "PAY_AMT2       -0.0000      0.0000     -4.2354    0.0000    -0.0000    -0.0000\n",
      "PAY_AMT3       -0.0000      0.0000     -1.2280    0.2194    -0.0000     0.0000\n",
      "PAY_AMT4       -0.0000      0.0000     -1.7252    0.0845    -0.0000     0.0000\n",
      "PAY_AMT5       -0.0000      0.0000     -1.5832    0.1134    -0.0000     0.0000\n",
      "PAY_AMT6       -0.0000      0.0000     -2.1524    0.0314    -0.0000    -0.0000\n",
      "===========================================================================\n",
      "\n"
     ]
    }
   ],
   "source": [
    "import statsmodels.api as sm\n",
    "logit_model=sm.Logit(y,X)\n",
    "result=logit_model.fit()\n",
    "print(result.summary2())"
   ]
  },
  {
   "cell_type": "code",
   "execution_count": 60,
   "id": "33c212df-dcbb-498d-9d12-70a7c0b33d67",
   "metadata": {
    "pycharm": {
     "name": "#%%\n"
    }
   },
   "outputs": [
    {
     "name": "stdout",
     "output_type": "stream",
     "text": [
      "Optimization terminated successfully.\n",
      "         Current function value: 0.566003\n",
      "         Iterations 7\n",
      "                              Results: Logit\n",
      "===========================================================================\n",
      "Model:              Logit                      Pseudo R-squared: 0.183     \n",
      "Dependent Variable: default payment next month AIC:              36360.8484\n",
      "Date:               2022-04-17 13:22           BIC:              36478.1192\n",
      "No. Observations:   32096                      Log-Likelihood:   -18166.   \n",
      "Df Model:           13                         LL-Null:          -22247.   \n",
      "Df Residuals:       32082                      LLR p-value:      0.0000    \n",
      "Converged:          1.0000                     Scale:            1.0000    \n",
      "No. Iterations:     7.0000                                                 \n",
      "------------------------------------------------------------------------------\n",
      "                Coef.     Std.Err.       z        P>|z|      [0.025     0.975]\n",
      "------------------------------------------------------------------------------\n",
      "LIMIT_BAL      -0.0000      0.0000    -11.2754    0.0000    -0.0000    -0.0000\n",
      "SEX            -0.1569      0.0242     -6.4790    0.0000    -0.2043    -0.1094\n",
      "EDUCATION      -0.0252      0.0193     -1.3064    0.1914    -0.0630     0.0126\n",
      "MARRIAGE       -0.1744      0.0208     -8.3893    0.0000    -0.2151    -0.1336\n",
      "AGE             0.0056      0.0012      4.5435    0.0000     0.0032     0.0080\n",
      "PAY_0           1.1207      0.0225     49.8895    0.0000     1.0766     1.1647\n",
      "PAY_3           0.1720      0.0237      7.2598    0.0000     0.1256     0.2184\n",
      "PAY_4           0.0874      0.0293      2.9865    0.0028     0.0301     0.1448\n",
      "PAY_5           0.0978      0.0323      3.0293    0.0025     0.0345     0.1611\n",
      "PAY_6           0.1867      0.0273      6.8490    0.0000     0.1333     0.2401\n",
      "BILL_AMT1       0.0000      0.0000      1.3204    0.1867    -0.0000     0.0000\n",
      "PAY_AMT1       -0.0000      0.0000     -8.3934    0.0000    -0.0000    -0.0000\n",
      "PAY_AMT2       -0.0000      0.0000     -8.7257    0.0000    -0.0000    -0.0000\n",
      "PAY_AMT6       -0.0000      0.0000     -3.4942    0.0005    -0.0000    -0.0000\n",
      "===========================================================================\n",
      "\n"
     ]
    }
   ],
   "source": [
    "cols=['LIMIT_BAL','SEX','EDUCATION','MARRIAGE','AGE','PAY_0','PAY_3','PAY_4','PAY_5','PAY_6','BILL_AMT1','PAY_AMT1','PAY_AMT2','PAY_AMT6']\n",
    "X=os_data_X[cols]\n",
    "y=os_data_y['default payment next month']\n",
    "logit_model=sm.Logit(y,X)\n",
    "result=logit_model.fit()\n",
    "print(result.summary2())"
   ]
  },
  {
   "cell_type": "markdown",
   "id": "1c7c1c4d-e452-4128-a5b4-74db1c792beb",
   "metadata": {
    "pycharm": {
     "name": "#%% md\n"
    }
   },
   "source": [
    "Logistic Regression Model Fitting"
   ]
  },
  {
   "cell_type": "code",
   "execution_count": 67,
   "id": "b2e84d2b-f505-4b1b-b853-6c8bfd8e0cb8",
   "metadata": {
    "pycharm": {
     "name": "#%%\n"
    }
   },
   "outputs": [
    {
     "data": {
      "text/plain": [
       "LogisticRegression()"
      ]
     },
     "execution_count": 67,
     "metadata": {},
     "output_type": "execute_result"
    }
   ],
   "source": [
    "from sklearn.linear_model import LogisticRegression\n",
    "from sklearn import metrics\n",
    "X_train, X_test, y_train, y_test = train_test_split(X, y, test_size=0.3, random_state=0)\n",
    "logreg = LogisticRegression()\n",
    "logreg.fit(X_train, y_train)"
   ]
  },
  {
   "cell_type": "code",
   "execution_count": 68,
   "id": "61ab0d67-fbac-428c-a64f-83ca50ab360a",
   "metadata": {
    "pycharm": {
     "name": "#%%\n"
    }
   },
   "outputs": [
    {
     "name": "stdout",
     "output_type": "stream",
     "text": [
      "Accuracy of logistic regression classifier on test set: 0.61\n"
     ]
    }
   ],
   "source": [
    "y_pred = logreg.predict(X_test)\n",
    "print('Accuracy of logistic regression classifier on test set: {:.2f}'.format(logreg.score(X_test, y_test)))"
   ]
  },
  {
   "cell_type": "markdown",
   "id": "1ca3e92a-9756-458a-bde1-3467057ae677",
   "metadata": {
    "pycharm": {
     "name": "#%% md\n"
    }
   },
   "source": [
    "Confusion Matrix"
   ]
  },
  {
   "cell_type": "code",
   "execution_count": 63,
   "id": "c95a8c70-768d-4a99-afb9-ee583a93ab92",
   "metadata": {
    "pycharm": {
     "name": "#%%\n"
    }
   },
   "outputs": [
    {
     "name": "stdout",
     "output_type": "stream",
     "text": [
      "[[2442 2349]\n",
      " [1386 3452]]\n"
     ]
    }
   ],
   "source": [
    "from sklearn.metrics import confusion_matrix\n",
    "confusion_matrix = confusion_matrix(y_test, y_pred)\n",
    "print(confusion_matrix)"
   ]
  },
  {
   "cell_type": "markdown",
   "id": "e6f3175f-8218-490e-8052-41b5a5afc1dc",
   "metadata": {
    "pycharm": {
     "name": "#%% md\n"
    }
   },
   "source": [
    "Compute precision, recall, F-measure and support"
   ]
  },
  {
   "cell_type": "code",
   "execution_count": 64,
   "id": "e21b995d-8eda-46cb-b085-53e6933e8756",
   "metadata": {
    "pycharm": {
     "name": "#%%\n"
    }
   },
   "outputs": [
    {
     "name": "stdout",
     "output_type": "stream",
     "text": [
      "              precision    recall  f1-score   support\n",
      "\n",
      "         0.0       0.64      0.51      0.57      4791\n",
      "         1.0       0.60      0.71      0.65      4838\n",
      "\n",
      "    accuracy                           0.61      9629\n",
      "   macro avg       0.62      0.61      0.61      9629\n",
      "weighted avg       0.62      0.61      0.61      9629\n",
      "\n"
     ]
    }
   ],
   "source": [
    "from sklearn.metrics import classification_report\n",
    "print(classification_report(y_test, y_pred))"
   ]
  },
  {
   "cell_type": "markdown",
   "id": "79ba8f90-6160-4d40-a742-75d2a7e30376",
   "metadata": {
    "pycharm": {
     "name": "#%% md\n"
    }
   },
   "source": [
    "ROC Curve"
   ]
  },
  {
   "cell_type": "code",
   "execution_count": 1,
   "id": "d54f0a37-a6c1-41f4-81d2-e68d3cc2b239",
   "metadata": {
    "pycharm": {
     "name": "#%%\n"
    }
   },
   "outputs": [
    {
     "ename": "NameError",
     "evalue": "name 'y_test' is not defined",
     "output_type": "error",
     "traceback": [
      "\u001B[0;31m---------------------------------------------------------------------------\u001B[0m",
      "\u001B[0;31mNameError\u001B[0m                                 Traceback (most recent call last)",
      "\u001B[0;32m/var/folders/d_/fshgxdz10tn7qyrxwv5hvklw0000gn/T/ipykernel_766/136617219.py\u001B[0m in \u001B[0;36m<module>\u001B[0;34m\u001B[0m\n\u001B[1;32m      1\u001B[0m \u001B[0;32mfrom\u001B[0m \u001B[0msklearn\u001B[0m\u001B[0;34m.\u001B[0m\u001B[0mmetrics\u001B[0m \u001B[0;32mimport\u001B[0m \u001B[0mroc_auc_score\u001B[0m\u001B[0;34m\u001B[0m\u001B[0;34m\u001B[0m\u001B[0m\n\u001B[1;32m      2\u001B[0m \u001B[0;32mfrom\u001B[0m \u001B[0msklearn\u001B[0m\u001B[0;34m.\u001B[0m\u001B[0mmetrics\u001B[0m \u001B[0;32mimport\u001B[0m \u001B[0mroc_curve\u001B[0m\u001B[0;34m\u001B[0m\u001B[0;34m\u001B[0m\u001B[0m\n\u001B[0;32m----> 3\u001B[0;31m \u001B[0mlogit_roc_auc\u001B[0m \u001B[0;34m=\u001B[0m \u001B[0mroc_auc_score\u001B[0m\u001B[0;34m(\u001B[0m\u001B[0my_test\u001B[0m\u001B[0;34m,\u001B[0m \u001B[0mlogreg\u001B[0m\u001B[0;34m.\u001B[0m\u001B[0mpredict\u001B[0m\u001B[0;34m(\u001B[0m\u001B[0mX_test\u001B[0m\u001B[0;34m)\u001B[0m\u001B[0;34m)\u001B[0m\u001B[0;34m\u001B[0m\u001B[0;34m\u001B[0m\u001B[0m\n\u001B[0m\u001B[1;32m      4\u001B[0m \u001B[0mfpr\u001B[0m\u001B[0;34m,\u001B[0m \u001B[0mtpr\u001B[0m\u001B[0;34m,\u001B[0m \u001B[0mthresholds\u001B[0m \u001B[0;34m=\u001B[0m \u001B[0mroc_curve\u001B[0m\u001B[0;34m(\u001B[0m\u001B[0my_test\u001B[0m\u001B[0;34m,\u001B[0m \u001B[0mlogreg\u001B[0m\u001B[0;34m.\u001B[0m\u001B[0mpredict_proba\u001B[0m\u001B[0;34m(\u001B[0m\u001B[0mX_test\u001B[0m\u001B[0;34m)\u001B[0m\u001B[0;34m[\u001B[0m\u001B[0;34m:\u001B[0m\u001B[0;34m,\u001B[0m\u001B[0;36m1\u001B[0m\u001B[0;34m]\u001B[0m\u001B[0;34m)\u001B[0m\u001B[0;34m\u001B[0m\u001B[0;34m\u001B[0m\u001B[0m\n\u001B[1;32m      5\u001B[0m \u001B[0mplt\u001B[0m\u001B[0;34m.\u001B[0m\u001B[0mfigure\u001B[0m\u001B[0;34m(\u001B[0m\u001B[0;34m)\u001B[0m\u001B[0;34m\u001B[0m\u001B[0;34m\u001B[0m\u001B[0m\n",
      "\u001B[0;31mNameError\u001B[0m: name 'y_test' is not defined"
     ]
    }
   ],
   "source": [
    "from sklearn.metrics import roc_auc_score\n",
    "from sklearn.metrics import roc_curve\n",
    "logit_roc_auc = roc_auc_score(y_test, logreg.predict(X_test))\n",
    "fpr, tpr, thresholds = roc_curve(y_test, logreg.predict_proba(X_test)[:,1])\n",
    "plt.figure()\n",
    "plt.plot(fpr, tpr, label='Logistic Regression (area = %0.2f)' % logit_roc_auc)\n",
    "plt.plot([0, 1], [0, 1],'r--')\n",
    "plt.xlim([0.0, 1.0])\n",
    "plt.ylim([0.0, 1.05])\n",
    "plt.xlabel('False Positive Rate')\n",
    "plt.ylabel('True Positive Rate')\n",
    "plt.title('Receiver operating characteristic')\n",
    "plt.legend(loc=\"lower right\")\n",
    "plt.show()"
   ]
  },
  {
   "cell_type": "code",
   "execution_count": null,
   "id": "cfd768ff-d8d6-4c65-967f-f23402a8d695",
   "metadata": {
    "pycharm": {
     "name": "#%%\n"
    }
   },
   "outputs": [],
   "source": []
  }
 ],
 "metadata": {
  "kernelspec": {
   "display_name": "Python 3 (ipykernel)",
   "language": "python",
   "name": "python3"
  },
  "language_info": {
   "codemirror_mode": {
    "name": "ipython",
    "version": 3
   },
   "file_extension": ".py",
   "mimetype": "text/x-python",
   "name": "python",
   "nbconvert_exporter": "python",
   "pygments_lexer": "ipython3",
   "version": "3.9.7"
  }
 },
 "nbformat": 4,
 "nbformat_minor": 5
}