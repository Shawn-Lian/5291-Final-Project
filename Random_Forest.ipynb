{
  "cells": [
    {
      "cell_type": "markdown",
      "metadata": {
        "id": "Rpe85ghEFaPq"
      },
      "source": [
        "#Random Forest\n",
        "\n",
        "##Import Package"
      ]
    },
    {
      "cell_type": "code",
      "execution_count": 1,
      "metadata": {
        "colab": {
          "base_uri": "https://localhost:8080/",
          "height": 0
        },
        "id": "0KulampfFZoX",
        "outputId": "0b8148af-e812-4df3-ba7a-4923f281ff7b"
      },
      "outputs": [
        {
          "output_type": "stream",
          "name": "stdout",
          "text": [
            "Collecting xlrd==1.2\n",
            "  Downloading xlrd-1.2.0-py2.py3-none-any.whl (103 kB)\n",
            "\u001b[?25l\r\u001b[K     |███▏                            | 10 kB 12.7 MB/s eta 0:00:01\r\u001b[K     |██████▍                         | 20 kB 19.9 MB/s eta 0:00:01\r\u001b[K     |█████████▌                      | 30 kB 13.4 MB/s eta 0:00:01\r\u001b[K     |████████████▊                   | 40 kB 10.1 MB/s eta 0:00:01\r\u001b[K     |███████████████▉                | 51 kB 6.4 MB/s eta 0:00:01\r\u001b[K     |███████████████████             | 61 kB 7.6 MB/s eta 0:00:01\r\u001b[K     |██████████████████████▏         | 71 kB 7.5 MB/s eta 0:00:01\r\u001b[K     |█████████████████████████▍      | 81 kB 7.0 MB/s eta 0:00:01\r\u001b[K     |████████████████████████████▋   | 92 kB 7.8 MB/s eta 0:00:01\r\u001b[K     |███████████████████████████████▊| 102 kB 8.6 MB/s eta 0:00:01\r\u001b[K     |████████████████████████████████| 103 kB 8.6 MB/s \n",
            "\u001b[?25hInstalling collected packages: xlrd\n",
            "  Attempting uninstall: xlrd\n",
            "    Found existing installation: xlrd 1.1.0\n",
            "    Uninstalling xlrd-1.1.0:\n",
            "      Successfully uninstalled xlrd-1.1.0\n",
            "Successfully installed xlrd-1.2.0\n"
          ]
        }
      ],
      "source": [
        "pip install xlrd==1.2"
      ]
    },
    {
      "cell_type": "code",
      "execution_count": 87,
      "metadata": {
        "id": "rqSCrrWAF3Ei"
      },
      "outputs": [],
      "source": [
        "import pandas as pd\n",
        "import numpy as np\n",
        "import seaborn as sns\n",
        "import matplotlib.pyplot as plt\n",
        "import operator\n",
        "import sklearn\n",
        "from collections import defaultdict\n",
        "from collections import deque\n",
        "from sklearn.model_selection import train_test_split\n",
        "from sklearn.ensemble import RandomForestRegressor\n",
        "from sklearn.metrics import classification_report\n",
        "from numpy.lib.function_base import average"
      ]
    },
    {
      "cell_type": "markdown",
      "metadata": {
        "id": "oJt2Z6-RFnKa"
      },
      "source": [
        "## Data Processing"
      ]
    },
    {
      "cell_type": "code",
      "execution_count": 180,
      "metadata": {
        "id": "JtjSg9RyFsM6"
      },
      "outputs": [],
      "source": [
        "df = pd.read_excel('default of credit card clients.xls', header = 1)\n",
        "df.drop(columns = 'ID', inplace = True)"
      ]
    },
    {
      "cell_type": "code",
      "execution_count": 181,
      "metadata": {
        "colab": {
          "base_uri": "https://localhost:8080/",
          "height": 636
        },
        "id": "rPCaAqsgjSfU",
        "outputId": "aa0c04c5-aab6-4147-87ec-fc3af5068f02"
      },
      "outputs": [
        {
          "output_type": "stream",
          "name": "stderr",
          "text": [
            "/usr/local/lib/python3.7/dist-packages/pandas/core/indexing.py:1817: SettingWithCopyWarning: \n",
            "A value is trying to be set on a copy of a slice from a DataFrame.\n",
            "Try using .loc[row_indexer,col_indexer] = value instead\n",
            "\n",
            "See the caveats in the documentation: https://pandas.pydata.org/pandas-docs/stable/user_guide/indexing.html#returning-a-view-versus-a-copy\n",
            "  self._setitem_single_column(loc, value, pi)\n"
          ]
        },
        {
          "output_type": "execute_result",
          "data": {
            "text/plain": [
              "       LIMIT_BAL  SEX  EDUCATION  AGE  PAY_0  PAY_2  PAY_3  PAY_4  PAY_5  \\\n",
              "0          20000    2          2   24      2      2     -1     -1     -2   \n",
              "1         120000    2          2   26     -1      2      0      0      0   \n",
              "2          90000    2          2   34      0      0      0      0      0   \n",
              "3          50000    2          2   37      0      0      0      0      0   \n",
              "4          50000    1          2   57     -1      0     -1      0      0   \n",
              "...          ...  ...        ...  ...    ...    ...    ...    ...    ...   \n",
              "29596     220000    1          3   39      0      0      0      0      0   \n",
              "29597     150000    1          3   43     -1     -1     -1     -1      0   \n",
              "29598      30000    1          2   37      4      3      2     -1      0   \n",
              "29599      80000    1          3   41      1     -1      0      0      0   \n",
              "29600      50000    1          2   46      0      0      0      0      0   \n",
              "\n",
              "       PAY_6  ...  PAY_AMT1  PAY_AMT2  PAY_AMT3  PAY_AMT4  PAY_AMT5  PAY_AMT6  \\\n",
              "0         -2  ...         0       689         0         0         0         0   \n",
              "1          2  ...         0      1000      1000      1000         0      2000   \n",
              "2          0  ...      1518      1500      1000      1000      1000      5000   \n",
              "3          0  ...      2000      2019      1200      1100      1069      1000   \n",
              "4          0  ...      2000     36681     10000      9000       689       679   \n",
              "...      ...  ...       ...       ...       ...       ...       ...       ...   \n",
              "29596      0  ...      8500     20000      5003      3047      5000      1000   \n",
              "29597      0  ...      1837      3526      8998       129         0         0   \n",
              "29598      0  ...         0         0     22000      4200      2000      3100   \n",
              "29599     -1  ...     85900      3409      1178      1926     52964      1804   \n",
              "29600      0  ...      2078      1800      1430      1000      1000      1000   \n",
              "\n",
              "       default payment next month  MARRIAGE_married  MARRIAGE_others  \\\n",
              "0                               1                 1                0   \n",
              "1                               1                 0                0   \n",
              "2                               0                 0                0   \n",
              "3                               0                 1                0   \n",
              "4                               0                 1                0   \n",
              "...                           ...               ...              ...   \n",
              "29596                           0                 1                0   \n",
              "29597                           0                 0                0   \n",
              "29598                           1                 0                0   \n",
              "29599                           1                 1                0   \n",
              "29600                           1                 1                0   \n",
              "\n",
              "       MARRIAGE_single  \n",
              "0                    0  \n",
              "1                    1  \n",
              "2                    1  \n",
              "3                    0  \n",
              "4                    0  \n",
              "...                ...  \n",
              "29596                0  \n",
              "29597                1  \n",
              "29598                1  \n",
              "29599                0  \n",
              "29600                0  \n",
              "\n",
              "[29601 rows x 26 columns]"
            ],
            "text/html": [
              "\n",
              "  <div id=\"df-9833be54-762d-4d04-bd2b-21dca471ce6b\">\n",
              "    <div class=\"colab-df-container\">\n",
              "      <div>\n",
              "<style scoped>\n",
              "    .dataframe tbody tr th:only-of-type {\n",
              "        vertical-align: middle;\n",
              "    }\n",
              "\n",
              "    .dataframe tbody tr th {\n",
              "        vertical-align: top;\n",
              "    }\n",
              "\n",
              "    .dataframe thead th {\n",
              "        text-align: right;\n",
              "    }\n",
              "</style>\n",
              "<table border=\"1\" class=\"dataframe\">\n",
              "  <thead>\n",
              "    <tr style=\"text-align: right;\">\n",
              "      <th></th>\n",
              "      <th>LIMIT_BAL</th>\n",
              "      <th>SEX</th>\n",
              "      <th>EDUCATION</th>\n",
              "      <th>AGE</th>\n",
              "      <th>PAY_0</th>\n",
              "      <th>PAY_2</th>\n",
              "      <th>PAY_3</th>\n",
              "      <th>PAY_4</th>\n",
              "      <th>PAY_5</th>\n",
              "      <th>PAY_6</th>\n",
              "      <th>...</th>\n",
              "      <th>PAY_AMT1</th>\n",
              "      <th>PAY_AMT2</th>\n",
              "      <th>PAY_AMT3</th>\n",
              "      <th>PAY_AMT4</th>\n",
              "      <th>PAY_AMT5</th>\n",
              "      <th>PAY_AMT6</th>\n",
              "      <th>default payment next month</th>\n",
              "      <th>MARRIAGE_married</th>\n",
              "      <th>MARRIAGE_others</th>\n",
              "      <th>MARRIAGE_single</th>\n",
              "    </tr>\n",
              "  </thead>\n",
              "  <tbody>\n",
              "    <tr>\n",
              "      <th>0</th>\n",
              "      <td>20000</td>\n",
              "      <td>2</td>\n",
              "      <td>2</td>\n",
              "      <td>24</td>\n",
              "      <td>2</td>\n",
              "      <td>2</td>\n",
              "      <td>-1</td>\n",
              "      <td>-1</td>\n",
              "      <td>-2</td>\n",
              "      <td>-2</td>\n",
              "      <td>...</td>\n",
              "      <td>0</td>\n",
              "      <td>689</td>\n",
              "      <td>0</td>\n",
              "      <td>0</td>\n",
              "      <td>0</td>\n",
              "      <td>0</td>\n",
              "      <td>1</td>\n",
              "      <td>1</td>\n",
              "      <td>0</td>\n",
              "      <td>0</td>\n",
              "    </tr>\n",
              "    <tr>\n",
              "      <th>1</th>\n",
              "      <td>120000</td>\n",
              "      <td>2</td>\n",
              "      <td>2</td>\n",
              "      <td>26</td>\n",
              "      <td>-1</td>\n",
              "      <td>2</td>\n",
              "      <td>0</td>\n",
              "      <td>0</td>\n",
              "      <td>0</td>\n",
              "      <td>2</td>\n",
              "      <td>...</td>\n",
              "      <td>0</td>\n",
              "      <td>1000</td>\n",
              "      <td>1000</td>\n",
              "      <td>1000</td>\n",
              "      <td>0</td>\n",
              "      <td>2000</td>\n",
              "      <td>1</td>\n",
              "      <td>0</td>\n",
              "      <td>0</td>\n",
              "      <td>1</td>\n",
              "    </tr>\n",
              "    <tr>\n",
              "      <th>2</th>\n",
              "      <td>90000</td>\n",
              "      <td>2</td>\n",
              "      <td>2</td>\n",
              "      <td>34</td>\n",
              "      <td>0</td>\n",
              "      <td>0</td>\n",
              "      <td>0</td>\n",
              "      <td>0</td>\n",
              "      <td>0</td>\n",
              "      <td>0</td>\n",
              "      <td>...</td>\n",
              "      <td>1518</td>\n",
              "      <td>1500</td>\n",
              "      <td>1000</td>\n",
              "      <td>1000</td>\n",
              "      <td>1000</td>\n",
              "      <td>5000</td>\n",
              "      <td>0</td>\n",
              "      <td>0</td>\n",
              "      <td>0</td>\n",
              "      <td>1</td>\n",
              "    </tr>\n",
              "    <tr>\n",
              "      <th>3</th>\n",
              "      <td>50000</td>\n",
              "      <td>2</td>\n",
              "      <td>2</td>\n",
              "      <td>37</td>\n",
              "      <td>0</td>\n",
              "      <td>0</td>\n",
              "      <td>0</td>\n",
              "      <td>0</td>\n",
              "      <td>0</td>\n",
              "      <td>0</td>\n",
              "      <td>...</td>\n",
              "      <td>2000</td>\n",
              "      <td>2019</td>\n",
              "      <td>1200</td>\n",
              "      <td>1100</td>\n",
              "      <td>1069</td>\n",
              "      <td>1000</td>\n",
              "      <td>0</td>\n",
              "      <td>1</td>\n",
              "      <td>0</td>\n",
              "      <td>0</td>\n",
              "    </tr>\n",
              "    <tr>\n",
              "      <th>4</th>\n",
              "      <td>50000</td>\n",
              "      <td>1</td>\n",
              "      <td>2</td>\n",
              "      <td>57</td>\n",
              "      <td>-1</td>\n",
              "      <td>0</td>\n",
              "      <td>-1</td>\n",
              "      <td>0</td>\n",
              "      <td>0</td>\n",
              "      <td>0</td>\n",
              "      <td>...</td>\n",
              "      <td>2000</td>\n",
              "      <td>36681</td>\n",
              "      <td>10000</td>\n",
              "      <td>9000</td>\n",
              "      <td>689</td>\n",
              "      <td>679</td>\n",
              "      <td>0</td>\n",
              "      <td>1</td>\n",
              "      <td>0</td>\n",
              "      <td>0</td>\n",
              "    </tr>\n",
              "    <tr>\n",
              "      <th>...</th>\n",
              "      <td>...</td>\n",
              "      <td>...</td>\n",
              "      <td>...</td>\n",
              "      <td>...</td>\n",
              "      <td>...</td>\n",
              "      <td>...</td>\n",
              "      <td>...</td>\n",
              "      <td>...</td>\n",
              "      <td>...</td>\n",
              "      <td>...</td>\n",
              "      <td>...</td>\n",
              "      <td>...</td>\n",
              "      <td>...</td>\n",
              "      <td>...</td>\n",
              "      <td>...</td>\n",
              "      <td>...</td>\n",
              "      <td>...</td>\n",
              "      <td>...</td>\n",
              "      <td>...</td>\n",
              "      <td>...</td>\n",
              "      <td>...</td>\n",
              "    </tr>\n",
              "    <tr>\n",
              "      <th>29596</th>\n",
              "      <td>220000</td>\n",
              "      <td>1</td>\n",
              "      <td>3</td>\n",
              "      <td>39</td>\n",
              "      <td>0</td>\n",
              "      <td>0</td>\n",
              "      <td>0</td>\n",
              "      <td>0</td>\n",
              "      <td>0</td>\n",
              "      <td>0</td>\n",
              "      <td>...</td>\n",
              "      <td>8500</td>\n",
              "      <td>20000</td>\n",
              "      <td>5003</td>\n",
              "      <td>3047</td>\n",
              "      <td>5000</td>\n",
              "      <td>1000</td>\n",
              "      <td>0</td>\n",
              "      <td>1</td>\n",
              "      <td>0</td>\n",
              "      <td>0</td>\n",
              "    </tr>\n",
              "    <tr>\n",
              "      <th>29597</th>\n",
              "      <td>150000</td>\n",
              "      <td>1</td>\n",
              "      <td>3</td>\n",
              "      <td>43</td>\n",
              "      <td>-1</td>\n",
              "      <td>-1</td>\n",
              "      <td>-1</td>\n",
              "      <td>-1</td>\n",
              "      <td>0</td>\n",
              "      <td>0</td>\n",
              "      <td>...</td>\n",
              "      <td>1837</td>\n",
              "      <td>3526</td>\n",
              "      <td>8998</td>\n",
              "      <td>129</td>\n",
              "      <td>0</td>\n",
              "      <td>0</td>\n",
              "      <td>0</td>\n",
              "      <td>0</td>\n",
              "      <td>0</td>\n",
              "      <td>1</td>\n",
              "    </tr>\n",
              "    <tr>\n",
              "      <th>29598</th>\n",
              "      <td>30000</td>\n",
              "      <td>1</td>\n",
              "      <td>2</td>\n",
              "      <td>37</td>\n",
              "      <td>4</td>\n",
              "      <td>3</td>\n",
              "      <td>2</td>\n",
              "      <td>-1</td>\n",
              "      <td>0</td>\n",
              "      <td>0</td>\n",
              "      <td>...</td>\n",
              "      <td>0</td>\n",
              "      <td>0</td>\n",
              "      <td>22000</td>\n",
              "      <td>4200</td>\n",
              "      <td>2000</td>\n",
              "      <td>3100</td>\n",
              "      <td>1</td>\n",
              "      <td>0</td>\n",
              "      <td>0</td>\n",
              "      <td>1</td>\n",
              "    </tr>\n",
              "    <tr>\n",
              "      <th>29599</th>\n",
              "      <td>80000</td>\n",
              "      <td>1</td>\n",
              "      <td>3</td>\n",
              "      <td>41</td>\n",
              "      <td>1</td>\n",
              "      <td>-1</td>\n",
              "      <td>0</td>\n",
              "      <td>0</td>\n",
              "      <td>0</td>\n",
              "      <td>-1</td>\n",
              "      <td>...</td>\n",
              "      <td>85900</td>\n",
              "      <td>3409</td>\n",
              "      <td>1178</td>\n",
              "      <td>1926</td>\n",
              "      <td>52964</td>\n",
              "      <td>1804</td>\n",
              "      <td>1</td>\n",
              "      <td>1</td>\n",
              "      <td>0</td>\n",
              "      <td>0</td>\n",
              "    </tr>\n",
              "    <tr>\n",
              "      <th>29600</th>\n",
              "      <td>50000</td>\n",
              "      <td>1</td>\n",
              "      <td>2</td>\n",
              "      <td>46</td>\n",
              "      <td>0</td>\n",
              "      <td>0</td>\n",
              "      <td>0</td>\n",
              "      <td>0</td>\n",
              "      <td>0</td>\n",
              "      <td>0</td>\n",
              "      <td>...</td>\n",
              "      <td>2078</td>\n",
              "      <td>1800</td>\n",
              "      <td>1430</td>\n",
              "      <td>1000</td>\n",
              "      <td>1000</td>\n",
              "      <td>1000</td>\n",
              "      <td>1</td>\n",
              "      <td>1</td>\n",
              "      <td>0</td>\n",
              "      <td>0</td>\n",
              "    </tr>\n",
              "  </tbody>\n",
              "</table>\n",
              "<p>29601 rows × 26 columns</p>\n",
              "</div>\n",
              "      <button class=\"colab-df-convert\" onclick=\"convertToInteractive('df-9833be54-762d-4d04-bd2b-21dca471ce6b')\"\n",
              "              title=\"Convert this dataframe to an interactive table.\"\n",
              "              style=\"display:none;\">\n",
              "        \n",
              "  <svg xmlns=\"http://www.w3.org/2000/svg\" height=\"24px\"viewBox=\"0 0 24 24\"\n",
              "       width=\"24px\">\n",
              "    <path d=\"M0 0h24v24H0V0z\" fill=\"none\"/>\n",
              "    <path d=\"M18.56 5.44l.94 2.06.94-2.06 2.06-.94-2.06-.94-.94-2.06-.94 2.06-2.06.94zm-11 1L8.5 8.5l.94-2.06 2.06-.94-2.06-.94L8.5 2.5l-.94 2.06-2.06.94zm10 10l.94 2.06.94-2.06 2.06-.94-2.06-.94-.94-2.06-.94 2.06-2.06.94z\"/><path d=\"M17.41 7.96l-1.37-1.37c-.4-.4-.92-.59-1.43-.59-.52 0-1.04.2-1.43.59L10.3 9.45l-7.72 7.72c-.78.78-.78 2.05 0 2.83L4 21.41c.39.39.9.59 1.41.59.51 0 1.02-.2 1.41-.59l7.78-7.78 2.81-2.81c.8-.78.8-2.07 0-2.86zM5.41 20L4 18.59l7.72-7.72 1.47 1.35L5.41 20z\"/>\n",
              "  </svg>\n",
              "      </button>\n",
              "      \n",
              "  <style>\n",
              "    .colab-df-container {\n",
              "      display:flex;\n",
              "      flex-wrap:wrap;\n",
              "      gap: 12px;\n",
              "    }\n",
              "\n",
              "    .colab-df-convert {\n",
              "      background-color: #E8F0FE;\n",
              "      border: none;\n",
              "      border-radius: 50%;\n",
              "      cursor: pointer;\n",
              "      display: none;\n",
              "      fill: #1967D2;\n",
              "      height: 32px;\n",
              "      padding: 0 0 0 0;\n",
              "      width: 32px;\n",
              "    }\n",
              "\n",
              "    .colab-df-convert:hover {\n",
              "      background-color: #E2EBFA;\n",
              "      box-shadow: 0px 1px 2px rgba(60, 64, 67, 0.3), 0px 1px 3px 1px rgba(60, 64, 67, 0.15);\n",
              "      fill: #174EA6;\n",
              "    }\n",
              "\n",
              "    [theme=dark] .colab-df-convert {\n",
              "      background-color: #3B4455;\n",
              "      fill: #D2E3FC;\n",
              "    }\n",
              "\n",
              "    [theme=dark] .colab-df-convert:hover {\n",
              "      background-color: #434B5C;\n",
              "      box-shadow: 0px 1px 3px 1px rgba(0, 0, 0, 0.15);\n",
              "      filter: drop-shadow(0px 1px 2px rgba(0, 0, 0, 0.3));\n",
              "      fill: #FFFFFF;\n",
              "    }\n",
              "  </style>\n",
              "\n",
              "      <script>\n",
              "        const buttonEl =\n",
              "          document.querySelector('#df-9833be54-762d-4d04-bd2b-21dca471ce6b button.colab-df-convert');\n",
              "        buttonEl.style.display =\n",
              "          google.colab.kernel.accessAllowed ? 'block' : 'none';\n",
              "\n",
              "        async function convertToInteractive(key) {\n",
              "          const element = document.querySelector('#df-9833be54-762d-4d04-bd2b-21dca471ce6b');\n",
              "          const dataTable =\n",
              "            await google.colab.kernel.invokeFunction('convertToInteractive',\n",
              "                                                     [key], {});\n",
              "          if (!dataTable) return;\n",
              "\n",
              "          const docLinkHtml = 'Like what you see? Visit the ' +\n",
              "            '<a target=\"_blank\" href=https://colab.research.google.com/notebooks/data_table.ipynb>data table notebook</a>'\n",
              "            + ' to learn more about interactive tables.';\n",
              "          element.innerHTML = '';\n",
              "          dataTable['output_type'] = 'display_data';\n",
              "          await google.colab.output.renderOutput(dataTable, element);\n",
              "          const docLink = document.createElement('div');\n",
              "          docLink.innerHTML = docLinkHtml;\n",
              "          element.appendChild(docLink);\n",
              "        }\n",
              "      </script>\n",
              "    </div>\n",
              "  </div>\n",
              "  "
            ]
          },
          "metadata": {},
          "execution_count": 181
        }
      ],
      "source": [
        "df = df[np.invert((df[\"EDUCATION\"] == 0) | (df[\"MARRIAGE\"] == 0)\n",
        "                  |(df[\"EDUCATION\"] == 5)|(df[\"EDUCATION\"] == 6))]\n",
        "\n",
        "df.loc[df['MARRIAGE'] == 1,'MARRIAGE'] = 'married'\n",
        "df.loc[df['MARRIAGE'] == 2,'MARRIAGE'] = 'single'\n",
        "df.loc[df['MARRIAGE'] == 3,'MARRIAGE'] = 'others'\n",
        "df.reset_index(drop=True, inplace=True)\n",
        "df = pd.get_dummies(df)\n",
        "df_row = df.shape[0]\n",
        "df_col = df.shape[1]\n",
        "df"
      ]
    },
    {
      "cell_type": "code",
      "execution_count": null,
      "metadata": {
        "id": "NhMrrCss6Rdz"
      },
      "outputs": [],
      "source": [
        "# df = df[np.invert((df[\"EDUCATION\"] == 0) | (df[\"MARRIAGE\"] == 0)\n",
        "#                   |(df[\"EDUCATION\"] == 5)|(df[\"EDUCATION\"] == 6))]\n",
        "\n",
        "# df.loc[df['SEX'] == 1,'SEX'] = 'male'\n",
        "# df.loc[df['SEX'] == 2,'SEX'] = 'female'\n",
        "# df.loc[df['EDUCATION'] == 1,'EDUCATION'] = 'graduate'\n",
        "# df.loc[df['EDUCATION'] == 2,'EDUCATION'] = 'university'\n",
        "# df.loc[df['EDUCATION'] == 3,'EDUCATION'] = 'high'\n",
        "# df.loc[df['EDUCATION'] == 4,'EDUCATION'] = 'others'\n",
        "# df.loc[df['MARRIAGE'] == 1,'MARRIAGE'] = 'married'\n",
        "# df.loc[df['MARRIAGE'] == 2,'MARRIAGE'] = 'single'\n",
        "# df.loc[df['MARRIAGE'] == 3,'MARRIAGE'] = 'others'\n",
        "# df.reset_index(drop=True, inplace=True)\n",
        "# df = pd.get_dummies(df)\n",
        "# df_row = df.shape[0]\n",
        "# df_col = df.shape[1]\n",
        "# df"
      ]
    },
    {
      "cell_type": "markdown",
      "metadata": {
        "id": "Igqc5BxJIX7x"
      },
      "source": [
        "##Data Splitting"
      ]
    },
    {
      "cell_type": "code",
      "execution_count": 184,
      "metadata": {
        "id": "k3fdsN7CjZcu"
      },
      "outputs": [],
      "source": [
        "X = df.iloc[:, df.columns != 'default payment next month']\n",
        "y = df.iloc[:, df.columns == 'default payment next month']\n",
        "X_train, X_rem, y_train, y_rem = train_test_split(X, y, test_size=0.2, random_state = 6, shuffle=True)\n",
        "X_valid, X_test, y_valid, y_test = train_test_split(X_rem, y_rem, test_size = 0.5, random_state = 6, shuffle=True)\n",
        "\n",
        "X_train = X_train.to_numpy()\n",
        "X_valid = X_valid.to_numpy()\n",
        "X_test = X_test.to_numpy()\n",
        "\n",
        "y_train = y_train.to_numpy().flatten()\n",
        "y_valid = y_valid.to_numpy().flatten()\n",
        "y_test = y_test.to_numpy().flatten()\n",
        "\n",
        "X_tra_val = np.concatenate((X_train, X_valid), axis = 0)\n",
        "y_tra_val = np.concatenate((y_train, y_valid), axis = 0)"
      ]
    },
    {
      "cell_type": "markdown",
      "source": [
        "##Random Forest"
      ],
      "metadata": {
        "id": "QWK8K7779_Ad"
      }
    },
    {
      "cell_type": "markdown",
      "source": [
        "###Function Setup"
      ],
      "metadata": {
        "id": "jP2WF_NJVA4f"
      }
    },
    {
      "cell_type": "markdown",
      "source": [
        "####Loss Function"
      ],
      "metadata": {
        "id": "E5kORBhvVn0v"
      }
    },
    {
      "cell_type": "code",
      "source": [
        "def loss(y1, y2):\n",
        "  # soft_accu = 1 - (y1 - y2[0]).mean()\n",
        "  # print(\"soft accu:\", soft_accu)\n",
        "\n",
        "  round_y1 = np.where(y1 >= 0.5, 1, 0)\n",
        "  hard_accu = (round_y1 == y2).mean()\n",
        "  # print(\"hard accu:\", hard_accu)\n",
        "\n",
        "  return (1 - hard_accu)"
      ],
      "metadata": {
        "id": "2bv3FJUHVhyo"
      },
      "execution_count": null,
      "outputs": []
    },
    {
      "cell_type": "markdown",
      "source": [
        "####Depth Chosen"
      ],
      "metadata": {
        "id": "yfZPKjnaVscx"
      }
    },
    {
      "cell_type": "code",
      "source": [
        "## Find the best level of random tree.\n",
        "def alpha_opt(min_alpha, max_alpha, X_tr, y_tr, X_va, y_va):\n",
        "  bestloss = float('inf')\n",
        "  bestalpha = None\n",
        "  alpha_que = deque()\n",
        "  err_que = deque()\n",
        "\n",
        "  for alpha in range(min_alpha, max_alpha):\n",
        "    regr = RandomForestRegressor(max_depth=alpha, random_state=0, n_estimators=100)\n",
        "    regr.fit(X_tr, y_tr)\n",
        "    y_va_pred = regr.predict(X_va)\n",
        "    ls = loss(y_va_pred, y_va.T)\n",
        "    alpha_que.append(alpha)\n",
        "    err_que.append(ls)\n",
        "\n",
        "    print(alpha, ls)\n",
        "    if ls < bestloss:\n",
        "      bestloss = ls\n",
        "      bestalpha = alpha\n",
        "    \n",
        "  plt.figure(figsize=(12,4)) \n",
        "  dots = sns.load_dataset(\"dots\")\n",
        "  sns.relplot(kind=\"line\",\n",
        "      x=alpha_que, y=err_que,\n",
        "      facet_kws=dict(sharex=False))\n",
        "  plt.title('Error Rate ~ Alpha')\n",
        "  plt.show()\n",
        "  return(bestalpha)"
      ],
      "metadata": {
        "id": "KN0m_jzF-LDN"
      },
      "execution_count": 151,
      "outputs": []
    },
    {
      "cell_type": "markdown",
      "source": [
        "####Forest Size Chosen"
      ],
      "metadata": {
        "id": "dTYt9FqbV0Aj"
      }
    },
    {
      "cell_type": "code",
      "source": [
        "## Find the best n estimators of random tree.\n",
        "def n_est(bestalpha, max_n, X_tr, y_tr, X_va, y_va):\n",
        "  bestn_loss = float('inf')\n",
        "  bestn = None\n",
        "  n_que = deque()\n",
        "  err_que = deque()\n",
        "\n",
        "  for n_est in range(1,max_n):\n",
        "    regr_n = RandomForestRegressor(max_depth=bestalpha, random_state=0, n_estimators=n_est)\n",
        "    regr_n.fit(X_tr, y_tr)\n",
        "    y_va_pred_n = regr_n.predict(X_va)\n",
        "    ls_n = loss(y_va_pred_n, y_va.T)\n",
        "    n_que.append(n_est)\n",
        "    err_que.append(ls_n)\n",
        "\n",
        "    if ls_n < bestn_loss:\n",
        "      bestn_loss = ls_n\n",
        "      bestn = n_est\n",
        "\n",
        "  plt.figure(figsize=(12,4)) \n",
        "  dots = sns.load_dataset(\"dots\")\n",
        "  sns.relplot(kind=\"line\",\n",
        "      x=n_que, y=err_que,\n",
        "      facet_kws=dict(sharex=False))\n",
        "  plt.title('Error Rate ~ N')\n",
        "  plt.show()\n",
        "  return(bestn)"
      ],
      "metadata": {
        "id": "feNSIUVW-LL-"
      },
      "execution_count": 152,
      "outputs": []
    },
    {
      "cell_type": "markdown",
      "source": [
        "####Shreshold Chosen"
      ],
      "metadata": {
        "id": "3jJrRV_4V4T8"
      }
    },
    {
      "cell_type": "code",
      "source": [
        "## Find the best threshold of random tree.\n",
        "def threshold_est(y_te_pred, y_te):\n",
        "  best_shre_loss = float('inf')\n",
        "  best_shre = None\n",
        "  i_que = deque()\n",
        "  err_que = deque()\n",
        "\n",
        "  i_list = np.linspace(0,1,101)\n",
        "  for i in i_list:\n",
        "    y_te_round = np.where(y_te_pred >= i, 1, 0)\n",
        "    i_que.append(i)\n",
        "    ls_shre = loss(y_te_round, y_te.T)\n",
        "    err_que.append(ls_shre)\n",
        "\n",
        "    if ls_shre < best_shre_loss:\n",
        "        best_shre_loss = ls_shre\n",
        "        best_shre = i\n",
        "\n",
        "  plt.figure(figsize=(12,4)) \n",
        "  dots = sns.load_dataset(\"dots\")\n",
        "  sns.relplot(kind=\"line\",\n",
        "    x=i_que, y=err_que,\n",
        "    facet_kws=dict(sharex=False))\n",
        "  plt.title('Error Rate ~ Threshold')\n",
        "  plt.show()\n",
        "  return(best_shre)"
      ],
      "metadata": {
        "id": "Ie3z0I_KwIpc"
      },
      "execution_count": 153,
      "outputs": []
    },
    {
      "cell_type": "markdown",
      "source": [
        "### Model Selection"
      ],
      "metadata": {
        "id": "ibK1uP0V45Y1"
      }
    },
    {
      "cell_type": "markdown",
      "source": [
        "####Random Forest Model Introduction\n",
        "Random forest is an Ensemble Learning algorithm belonging to the Bagging type. It combines multiple weak classifiers and votes or takes average values for the final results, so that the results of the overall model have high accuracy and generalization performance. Its good performance is mainly due to \"randomness\" and \"forest\", one making it resistant to overfitting, the other making it more accurate.\n",
        "\n",
        "Besides, random forest is an algorithm based on random tree. Because of the nature of random tree, I skipped the process of standarlizing data, which did not have a big impact on tranining random forest model.\n",
        "\n",
        "In the training of the model, I will test the depth of random trees, the number of random trees and the influence of shreshold used for classification on the accuracy of model prediction in turn. Finally, the most suitable model parameters for the current data set will be selected and compared with other models. \n",
        "\n"
      ],
      "metadata": {
        "id": "898H-f4_5Qg8"
      }
    },
    {
      "cell_type": "code",
      "source": [
        "bestalpha = alpha_opt(1, 10, X_train, y_train, X_valid, y_valid)\n",
        "print('bestalpha', bestalpha)"
      ],
      "metadata": {
        "colab": {
          "base_uri": "https://localhost:8080/",
          "height": 571
        },
        "id": "kI9A3aKQ4BXm",
        "outputId": "72bde709-0d07-4885-c797-6c9da2585c32"
      },
      "execution_count": 185,
      "outputs": [
        {
          "output_type": "stream",
          "name": "stdout",
          "text": [
            "1 0.1773648648648649\n",
            "2 0.17837837837837833\n",
            "3 0.17770270270270272\n",
            "4 0.17837837837837833\n",
            "5 0.17804054054054053\n",
            "6 0.17635135135135138\n",
            "7 0.17533783783783785\n",
            "8 0.17635135135135138\n",
            "9 0.17837837837837833\n"
          ]
        },
        {
          "output_type": "display_data",
          "data": {
            "text/plain": [
              "<Figure size 864x288 with 0 Axes>"
            ]
          },
          "metadata": {}
        },
        {
          "output_type": "display_data",
          "data": {
            "text/plain": [
              "<Figure size 360x360 with 1 Axes>"
            ],
            "image/png": "[encoded data removed]"
          },
          "metadata": {
            "needs_background": "light"
          }
        },
        {
          "output_type": "stream",
          "name": "stdout",
          "text": [
            "bestalpha 7\n"
          ]
        }
      ]
    },
    {
      "cell_type": "markdown",
      "source": [
        "The figure presents a shape similar to Ushape. It can be found that for the current data set, the error rate obtained by the random forest with seven layers of depth is the minimum under the assumption that the number of fault trees is 100 and the default threshold is 0.5. However, we also found that by increasing the complexity from one tier to seven, the error rate actually decreased by 0.002, while the complexity might have increased by 64 times. Therefore, from the point of view of economic efficiency, choosing one or three layers is the most efficient, but we still set the optimal depth to 7 in order to achieve the maximum accuracy that the model can display."
      ],
      "metadata": {
        "id": "gOmw6F4iBzxL"
      }
    },
    {
      "cell_type": "code",
      "source": [
        "bestn = n_est(bestalpha, 200, X_train, y_train, X_valid, y_valid)\n",
        "print('bestn', bestn)"
      ],
      "metadata": {
        "colab": {
          "base_uri": "https://localhost:8080/",
          "height": 419
        },
        "id": "Imv1HeHV4Bgi",
        "outputId": "f7a34fa4-b623-4839-a5d9-d4dc83059c14"
      },
      "execution_count": 186,
      "outputs": [
        {
          "output_type": "display_data",
          "data": {
            "text/plain": [
              "<Figure size 864x288 with 0 Axes>"
            ]
          },
          "metadata": {}
        },
        {
          "output_type": "display_data",
          "data": {
            "text/plain": [
              "<Figure size 360x360 with 1 Axes>"
            ],
            "image/png": "[encoded data removed]"
          },
          "metadata": {
            "needs_background": "light"
          }
        },
        {
          "output_type": "stream",
          "name": "stdout",
          "text": [
            "bestn 55\n"
          ]
        }
      ]
    },
    {
      "cell_type": "markdown",
      "source": [
        "Setting number of layers of depth to 7 and set the threshold equal to its default value 0.5, we have the above graph. From the graph, when the number of random trees increases from 1 to 50, the error rate has an obvious downward trend, While when the number of random trees increases from 50 to 200, the error rate fluctuates between 0.174 and 0.177, and even has a large rebound between 50 and 75. When the number of random trees approaches 200, the error rate has an increasing trend, which is abnormal. In general, more random trees mean more accurate predictions (we can reduce potential errors to some extent by increasing the number of random trees). Since there is generally no over-fitting problem in random forest, my guess here is that as the random tree increases, the error rate tends to a certain value, and its standard deviation will decrease to 0 as the number continues to increase, but the value approaching may not be the minimum error rate. But because of the limited operand, we may not know what that value is.\n",
        "\n",
        "And we find that when the number of random trees is 55, the model reaches the minimum error rate. From the perspective of economic efficiency or the pursuit of a more accurate model, 55 is a reasonable choice. Therefore, 55 will be used for our final model."
      ],
      "metadata": {
        "id": "OP4tZ-jlJuez"
      }
    },
    {
      "cell_type": "code",
      "source": [
        "regr_best = RandomForestRegressor(max_depth=bestalpha, random_state=0, n_estimators=bestn)\n",
        "regr_best.fit(X_tra_val, y_tra_val)\n",
        "y_te_pred = regr_best.predict(X_test)\n",
        "\n",
        "bestthre = threshold_est(y_te_pred, y_test)\n",
        "print('bestthreshold', bestthre)"
      ],
      "metadata": {
        "colab": {
          "base_uri": "https://localhost:8080/",
          "height": 419
        },
        "id": "N0c9Bue64Buw",
        "outputId": "5666db2b-30cc-41a9-9f2d-1d68359cbd3b"
      },
      "execution_count": 187,
      "outputs": [
        {
          "output_type": "display_data",
          "data": {
            "text/plain": [
              "<Figure size 864x288 with 0 Axes>"
            ]
          },
          "metadata": {}
        },
        {
          "output_type": "display_data",
          "data": {
            "text/plain": [
              "<Figure size 360x360 with 1 Axes>"
            ],
            "image/png": "[encoded data removed]"
          },
          "metadata": {
            "needs_background": "light"
          }
        },
        {
          "output_type": "stream",
          "name": "stdout",
          "text": [
            "bestthreshold 0.47000000000000003\n"
          ]
        }
      ]
    },
    {
      "cell_type": "markdown",
      "source": [
        "The figure shows a typical U shape. The error rate first dropped all the way from about 0.77 to around 0.18, and then rose slowly from 0.18 to 0.23. \n",
        "\n",
        "We should notice the error rate when threshold is equal to 0 or 1. These two numbers are very interesting. We find that about 77 percent of people do not delay payment, while about 23 percent do. Therefore, when threshold is equal to 0, it is equivalent to generalizing all people as the party that breaks the contract. So we would expect 77 percent of people to fall into the wrong category, which matches the result given by the graph. Similarly, when threshold is equal to 1, we sum up all the people as those who have not breached the contract. Therefore, it is expected that about 23 percent of the people will be classified into the wrong category, which also matches the result.\n",
        "\n",
        "\n",
        "The best threshold is 0.47, around 0.5, which is also within a reasonable range. Therefore, 0.47 will be used in the final model training."
      ],
      "metadata": {
        "id": "yz-6S2MdxAAm"
      }
    },
    {
      "cell_type": "code",
      "source": [
        "y_te_pred = np.where(y_te_pred >= bestthre, 1, 0)\n",
        "print(classification_report(y_test, y_te_pred.T))\n",
        "print('The Best Accuracy = ', average(y_te_pred.T == y_test))"
      ],
      "metadata": {
        "colab": {
          "base_uri": "https://localhost:8080/",
          "height": 0
        },
        "id": "ll27wAve4d1m",
        "outputId": "ed167f40-721e-4ec8-c43d-5e39227dc6b9"
      },
      "execution_count": 188,
      "outputs": [
        {
          "output_type": "stream",
          "name": "stdout",
          "text": [
            "              precision    recall  f1-score   support\n",
            "\n",
            "           0       0.83      0.95      0.89      2269\n",
            "           1       0.69      0.38      0.49       692\n",
            "\n",
            "    accuracy                           0.81      2961\n",
            "   macro avg       0.76      0.66      0.69      2961\n",
            "weighted avg       0.80      0.81      0.79      2961\n",
            "\n",
            "The Best Accuracy =  0.8145896656534954\n"
          ]
        }
      ]
    },
    {
      "cell_type": "markdown",
      "source": [
        "The accuracy of the new model trained after the above parameter selection is close to 81.5%. So it's a usable model, but certainly not the best model. Because that's actually only five percent more accurate than categorizing all people as non-defulat. But I believe the accuracy could be higher.\n",
        "\n",
        "Part of the reason is that the data set has a small amount of data, which is less than 30000. If we had 100,000 or even a million data sets, we could expect a much higher and more accurate model. On the other hand, we have limited computational power, which makes it difficult to use the model to its fullest extent. In other words, limited computational power limits a more accurate models."
      ],
      "metadata": {
        "id": "iEY2nwRb1q1a"
      }
    }
  ],
  "metadata": {
    "colab": {
      "name": "91_Project.ipynb",
      "provenance": [],
      "collapsed_sections": []
    },
    "kernelspec": {
      "display_name": "Python 3",
      "name": "python3"
    },
    "language_info": {
      "name": "python"
    }
  },
  "nbformat": 4,
  "nbformat_minor": 0
}