{
 "cells": [
  {
   "cell_type": "markdown",
   "id": "87f5497c",
   "metadata": {},
   "source": [
    "## Setup"
   ]
  },
  {
   "cell_type": "code",
   "execution_count": 2,
   "id": "c3abfd4e",
   "metadata": {},
   "outputs": [],
   "source": [
    "import os \n",
    "os.environ['KMP_DUPLICATE_LIB_OK'] = 'TRUE'\n",
    "import pandas as pd\n",
    "import torch\n",
    "import torch.nn as nn\n",
    "import xlrd\n",
    "import torch.optim as optim\n",
    "from torch.utils.data import Dataset, DataLoader\n",
    "from sklearn.model_selection import train_test_split\n",
    "from sklearn.preprocessing import StandardScaler\n",
    "from sklearn.preprocessing import MinMaxScaler"
   ]
  },
  {
   "cell_type": "markdown",
   "id": "63c60d19",
   "metadata": {},
   "source": [
    "## Import Data"
   ]
  },
  {
   "cell_type": "code",
   "execution_count": null,
   "id": "b82c55e2",
   "metadata": {},
   "outputs": [],
   "source": [
    "df = pd.read_excel ('default of credit card clients.xls',header = 1)"
   ]
  },
  {
   "cell_type": "markdown",
   "id": "b8edbc84",
   "metadata": {},
   "source": [
    "## Data Processing"
   ]
  },
  {
   "cell_type": "markdown",
   "id": "cc721254",
   "metadata": {},
   "source": [
    "### check missing values"
   ]
  },
  {
   "cell_type": "code",
   "execution_count": null,
   "id": "7ce52da1",
   "metadata": {},
   "outputs": [],
   "source": [
    "df.shape[0] - df.dropna().shape[0]"
   ]
  },
  {
   "cell_type": "markdown",
   "id": "c92ea0b7",
   "metadata": {},
   "source": [
    "- No missing values"
   ]
  },
  {
   "cell_type": "markdown",
   "id": "5e9806b2",
   "metadata": {},
   "source": [
    "### drop some redundant attributes"
   ]
  },
  {
   "cell_type": "code",
   "execution_count": null,
   "id": "609ecaa6",
   "metadata": {},
   "outputs": [],
   "source": [
    "df.columns"
   ]
  },
  {
   "cell_type": "code",
   "execution_count": null,
   "id": "75c0dd9e",
   "metadata": {},
   "outputs": [],
   "source": [
    "df.drop(columns = ['ID'],inplace = True)"
   ]
  },
  {
   "cell_type": "code",
   "execution_count": null,
   "id": "21ff3876",
   "metadata": {},
   "outputs": [],
   "source": [
    "df.describe()"
   ]
  },
  {
   "cell_type": "markdown",
   "id": "ec2c3acb",
   "metadata": {},
   "source": [
    "- History of past payment arrtibutes with negative record should be set 0, as it also means 'pay duly' according to the data description.\n",
    "- Convert `SEX`, `EDUCATION` and `MARRIAGE` columns to category data, and delete invalid data."
   ]
  },
  {
   "cell_type": "code",
   "execution_count": null,
   "id": "6eb43909",
   "metadata": {},
   "outputs": [],
   "source": [
    "pay_cols = ['pay_0', 'pay_2', 'pay_3', 'pay_4', 'pay_5', 'pay_6']\n",
    "pay_cols = [col.upper() for col in pay_cols]\n",
    "\n",
    "\n",
    "for col in pay_cols:\n",
    "    fil = (df[col] < 0)\n",
    "    df.loc[fil, col] = 0"
   ]
  },
  {
   "cell_type": "code",
   "execution_count": null,
   "id": "fd7701be",
   "metadata": {},
   "outputs": [],
   "source": [
    "drop_id_1 = (df['EDUCATION'] != 1 ) & (df['EDUCATION'] != 2 ) & (df['EDUCATION'] != 3) & (df['EDUCATION'] != 4 )\n",
    "drop_id_2 = (df['MARRIAGE'] != 1 ) & (df['MARRIAGE'] != 2 ) & (df['MARRIAGE'] != 3)\n",
    "keep_id = -(drop_id_1 | drop_id_2)\n",
    "df = df[keep_id]"
   ]
  },
  {
   "cell_type": "code",
   "execution_count": null,
   "id": "3e8c598e",
   "metadata": {},
   "outputs": [],
   "source": [
    "df.loc[df['SEX'] == 1,'SEX'] = 'male'\n",
    "df.loc[df['SEX'] == 2,'SEX'] = 'female'\n",
    "df.loc[df['EDUCATION'] == 1,'EDUCATION'] = 'graduate'\n",
    "df.loc[df['EDUCATION'] == 2,'EDUCATION'] = 'university'\n",
    "df.loc[df['EDUCATION'] == 3,'EDUCATION'] = 'high'\n",
    "df.loc[df['EDUCATION'] == 4,'EDUCATION'] = 'others'\n",
    "df.loc[df['MARRIAGE'] == 1,'MARRIAGE'] = 'married'\n",
    "df.loc[df['MARRIAGE'] == 2,'MARRIAGE'] = 'single'\n",
    "df.loc[df['MARRIAGE'] == 3,'MARRIAGE'] = 'others'"
   ]
  },
  {
   "cell_type": "code",
   "execution_count": null,
   "id": "8481b70c",
   "metadata": {},
   "outputs": [],
   "source": [
    "df = pd.get_dummies(df)"
   ]
  },
  {
   "cell_type": "code",
   "execution_count": null,
   "id": "134f0f42",
   "metadata": {},
   "outputs": [],
   "source": [
    "df = df.astype(float)\n",
    "df = df.dropna()\n",
    "scale = MinMaxScaler()\n",
    "df_to_scale = df\n",
    "scaled = scale.fit_transform(df_to_scale)\n",
    "scaled_df = pd.DataFrame(scaled, columns=df_to_scale.columns)"
   ]
  },
  {
   "cell_type": "markdown",
   "id": "d1f2bcca",
   "metadata": {},
   "source": [
    "## Split data"
   ]
  },
  {
   "cell_type": "code",
   "execution_count": null,
   "id": "bd2b55a1",
   "metadata": {},
   "outputs": [],
   "source": [
    "test_size = round(0.2 * len(scaled_df))\n",
    "train, test = train_test_split(scaled_df, test_size=test_size, random_state=0, shuffle=True)\n",
    "\n",
    "label = 'default payment next month'\n",
    "\n",
    "x_train, y_train = train.drop(label, axis=1), train[label]\n",
    "x_test, y_test = test.drop(label, axis=1), test[label]"
   ]
  },
  {
   "cell_type": "code",
   "execution_count": null,
   "id": "f26bcdd3",
   "metadata": {},
   "outputs": [],
   "source": [
    "scaled_df.columns"
   ]
  },
  {
   "cell_type": "code",
   "execution_count": null,
   "id": "aff37f89",
   "metadata": {},
   "outputs": [],
   "source": [
    "x_train.shape,x_test.shape"
   ]
  },
  {
   "cell_type": "markdown",
   "id": "a8a1cf6e",
   "metadata": {},
   "source": [
    "## Build Models"
   ]
  },
  {
   "cell_type": "code",
   "execution_count": 1,
   "id": "22622e27",
   "metadata": {},
   "outputs": [
    {
     "ename": "NameError",
     "evalue": "name 'os' is not defined",
     "output_type": "error",
     "traceback": [
      "\u001b[0;31m---------------------------------------------------------------------------\u001b[0m",
      "\u001b[0;31mNameError\u001b[0m                                 Traceback (most recent call last)",
      "Input \u001b[0;32mIn [1]\u001b[0m, in \u001b[0;36m<cell line: 1>\u001b[0;34m()\u001b[0m\n\u001b[0;32m----> 1\u001b[0m \u001b[43mos\u001b[49m\u001b[38;5;241m.\u001b[39menviron[\u001b[38;5;124m'\u001b[39m\u001b[38;5;124mKMP_DUPLICATE_LIB_OK\u001b[39m\u001b[38;5;124m'\u001b[39m] \u001b[38;5;241m=\u001b[39m \u001b[38;5;124m'\u001b[39m\u001b[38;5;124mTRUE\u001b[39m\u001b[38;5;124m'\u001b[39m\n",
      "\u001b[0;31mNameError\u001b[0m: name 'os' is not defined"
     ]
    }
   ],
   "source": [
    "os.environ['KMP_DUPLICATE_LIB_OK'] = 'TRUE'"
   ]
  },
  {
   "cell_type": "code",
   "execution_count": null,
   "id": "788a6a8c",
   "metadata": {},
   "outputs": [],
   "source": [
    "class trainData(Dataset):\n",
    "    \n",
    "    def __init__(self, X_data, y_data):\n",
    "        self.X_data = X_data\n",
    "        self.y_data = y_data\n",
    "        \n",
    "    def __getitem__(self, index):\n",
    "        return self.X_data[index], self.y_data[index]\n",
    "        \n",
    "    def __len__ (self):\n",
    "        return len(self.X_data)\n",
    "\n",
    "\n",
    "train_data = trainData(torch.FloatTensor(x_train.values), \n",
    "                       torch.FloatTensor(y_train))\n",
    "## test data    \n",
    "class testData(Dataset):\n",
    "    \n",
    "    def __init__(self, X_data):\n",
    "        self.X_data = X_data\n",
    "        \n",
    "    def __getitem__(self, index):\n",
    "        return self.X_data[index]\n",
    "        \n",
    "    def __len__ (self):\n",
    "        return len(self.X_data)\n",
    "    \n",
    "\n",
    "test_data = testData(torch.FloatTensor(x_test.values))"
   ]
  },
  {
   "cell_type": "code",
   "execution_count": 20,
   "id": "3e5350f2",
   "metadata": {},
   "outputs": [
    {
     "ename": "NameError",
     "evalue": "name 'train_data' is not defined",
     "output_type": "error",
     "traceback": [
      "\u001b[0;31m---------------------------------------------------------------------------\u001b[0m",
      "\u001b[0;31mNameError\u001b[0m                                 Traceback (most recent call last)",
      "Input \u001b[0;32mIn [20]\u001b[0m, in \u001b[0;36m<cell line: 2>\u001b[0;34m()\u001b[0m\n\u001b[1;32m      1\u001b[0m BATCH_SIZE \u001b[38;5;241m=\u001b[39m \u001b[38;5;241m64\u001b[39m\n\u001b[0;32m----> 2\u001b[0m train_loader \u001b[38;5;241m=\u001b[39m DataLoader(dataset\u001b[38;5;241m=\u001b[39m\u001b[43mtrain_data\u001b[49m, batch_size\u001b[38;5;241m=\u001b[39mBATCH_SIZE, shuffle\u001b[38;5;241m=\u001b[39m\u001b[38;5;28;01mTrue\u001b[39;00m)\n\u001b[1;32m      3\u001b[0m test_loader \u001b[38;5;241m=\u001b[39m DataLoader(dataset\u001b[38;5;241m=\u001b[39mtest_data, batch_size\u001b[38;5;241m=\u001b[39m\u001b[38;5;241m1\u001b[39m)\n",
      "\u001b[0;31mNameError\u001b[0m: name 'train_data' is not defined"
     ]
    }
   ],
   "source": [
    "BATCH_SIZE = 64\n",
    "train_loader = DataLoader(dataset=train_data, batch_size=BATCH_SIZE, shuffle=True)\n",
    "test_loader = DataLoader(dataset=test_data, batch_size=1)"
   ]
  },
  {
   "cell_type": "code",
   "execution_count": null,
   "id": "c4117902",
   "metadata": {},
   "outputs": [],
   "source": []
  }
 ],
 "metadata": {
  "kernelspec": {
   "display_name": "Python 3 (ipykernel)",
   "language": "python",
   "name": "python3"
  },
  "language_info": {
   "codemirror_mode": {
    "name": "ipython",
    "version": 3
   },
   "file_extension": ".py",
   "mimetype": "text/x-python",
   "name": "python",
   "nbconvert_exporter": "python",
   "pygments_lexer": "ipython3",
   "version": "3.9.12"
  }
 },
 "nbformat": 4,
 "nbformat_minor": 5
}
